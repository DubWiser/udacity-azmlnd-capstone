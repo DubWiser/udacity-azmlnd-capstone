{
 "cells": [
  {
   "cell_type": "markdown",
   "metadata": {},
   "source": [
    "# Automated ML\n"
   ]
  },
  {
   "cell_type": "code",
   "execution_count": 30,
   "metadata": {
    "gather": {
     "logged": 1598423888013
    },
    "jupyter": {
     "outputs_hidden": false,
     "source_hidden": false
    },
    "nteract": {
     "transient": {
      "deleting": false
     }
    }
   },
   "outputs": [
    {
     "name": "stdout",
     "output_type": "stream",
     "text": [
      "SDK version: 1.34.0\n"
     ]
    }
   ],
   "source": [
    "import logging\n",
    "import os\n",
    "import csv\n",
    "\n",
    "from matplotlib import pyplot as plt\n",
    "import numpy as np\n",
    "import pandas as pd\n",
    "from sklearn import datasets\n",
    "import pkg_resources\n",
    "\n",
    "import azureml.core\n",
    "from azureml.core.experiment import Experiment\n",
    "from azureml.core.workspace import Workspace\n",
    "from azureml.train.automl import AutoMLConfig\n",
    "from azureml.core.dataset import Dataset\n",
    "\n",
    "from azureml.core.compute import AmlCompute\n",
    "from azureml.core.compute import ComputeTarget\n",
    "from azureml.core.compute_target import ComputeTargetException\n",
    "from azureml.widgets import RunDetails\n",
    "\n",
    "from azureml.pipeline.steps import AutoMLStep\n",
    "\n",
    "# Check core SDK version number\n",
    "print(\"SDK version:\", azureml.core.VERSION)"
   ]
  },
  {
   "cell_type": "markdown",
   "metadata": {},
   "source": [
    "## Dataset\n",
    "\n",
    "### Overview\n"
   ]
  },
  {
   "cell_type": "code",
   "execution_count": 11,
   "metadata": {
    "gather": {
     "logged": 1598423890461
    },
    "jupyter": {
     "outputs_hidden": false,
     "source_hidden": false
    },
    "nteract": {
     "transient": {
      "deleting": false
     }
    }
   },
   "outputs": [
    {
     "name": "stdout",
     "output_type": "stream",
     "text": [
      "quick-starts-ws-159882\n",
      "aml-quickstarts-159882\n",
      "southcentralus\n",
      "d4ad7261-832d-46b2-b093-22156001df5b\n"
     ]
    },
    {
     "data": {
      "text/html": [
       "<table style=\"width:100%\"><tr><th>Name</th><th>Workspace</th><th>Report Page</th><th>Docs Page</th></tr><tr><td>automl-heart-failure-prediction</td><td>quick-starts-ws-159882</td><td><a href=\"https://ml.azure.com/experiments/id/b56d39d6-e5a2-4942-af8b-84bf0105bf03?wsid=/subscriptions/d4ad7261-832d-46b2-b093-22156001df5b/resourcegroups/aml-quickstarts-159882/workspaces/quick-starts-ws-159882&amp;tid=660b3398-b80e-49d2-bc5b-ac1dc93b5254\" target=\"_blank\" rel=\"noopener\">Link to Azure Machine Learning studio</a></td><td><a href=\"https://docs.microsoft.com/en-us/python/api/azureml-core/azureml.core.experiment.Experiment?view=azure-ml-py\" target=\"_blank\" rel=\"noopener\">Link to Documentation</a></td></tr></table>"
      ],
      "text/plain": [
       "Experiment(Name: automl-heart-failure-prediction,\n",
       "Workspace: quick-starts-ws-159882)"
      ]
     },
     "execution_count": 11,
     "metadata": {},
     "output_type": "execute_result"
    }
   ],
   "source": [
    "ws = Workspace.from_config()\n",
    "print(ws.name, ws.resource_group, ws.location, ws.subscription_id, sep = '\\n')\n",
    "\n",
    "# choose a name for experiment\n",
    "experiment_name = 'automl-heart-failure-prediction'\n",
    "\n",
    "experiment=Experiment(ws, experiment_name)\n",
    "experiment"
   ]
  },
  {
   "cell_type": "markdown",
   "metadata": {},
   "source": [
    "### Set up compute target"
   ]
  },
  {
   "cell_type": "code",
   "execution_count": 12,
   "metadata": {},
   "outputs": [
    {
     "name": "stdout",
     "output_type": "stream",
     "text": [
      "InProgress....\n",
      "SucceededProvisioning operation finished, operation \"Succeeded\"\n",
      "Succeeded\n",
      "AmlCompute wait for completion finished\n",
      "\n",
      "Minimum number of nodes requested have been provisioned\n"
     ]
    }
   ],
   "source": [
    "amlcompute_cluster_name = \"heart-compute\"\n",
    "\n",
    "# Verify that cluster does not exist already\n",
    "try:\n",
    "    compute_target = ComputeTarget(workspace=ws, name=amlcompute_cluster_name)\n",
    "    print('Found existing cluster, use it.')\n",
    "except ComputeTargetException:\n",
    "    compute_config = AmlCompute.provisioning_configuration(vm_size='STANDARD_D2_V2',max_nodes=4)\n",
    "    compute_target = ComputeTarget.create(ws, amlcompute_cluster_name, compute_config)\n",
    "\n",
    "compute_target.wait_for_completion(show_output=True)\n"
   ]
  },
  {
   "cell_type": "markdown",
   "metadata": {},
   "source": [
    "## Dataset"
   ]
  },
  {
   "cell_type": "code",
   "execution_count": 14,
   "metadata": {
    "scrolled": true
   },
   "outputs": [
    {
     "data": {
      "text/html": [
       "<div>\n",
       "<style scoped>\n",
       "    .dataframe tbody tr th:only-of-type {\n",
       "        vertical-align: middle;\n",
       "    }\n",
       "\n",
       "    .dataframe tbody tr th {\n",
       "        vertical-align: top;\n",
       "    }\n",
       "\n",
       "    .dataframe thead th {\n",
       "        text-align: right;\n",
       "    }\n",
       "</style>\n",
       "<table border=\"1\" class=\"dataframe\">\n",
       "  <thead>\n",
       "    <tr style=\"text-align: right;\">\n",
       "      <th></th>\n",
       "      <th>age</th>\n",
       "      <th>anaemia</th>\n",
       "      <th>creatinine_phosphokinase</th>\n",
       "      <th>diabetes</th>\n",
       "      <th>ejection_fraction</th>\n",
       "      <th>high_blood_pressure</th>\n",
       "      <th>platelets</th>\n",
       "      <th>serum_creatinine</th>\n",
       "      <th>serum_sodium</th>\n",
       "      <th>sex</th>\n",
       "      <th>smoking</th>\n",
       "      <th>time</th>\n",
       "      <th>DEATH_EVENT</th>\n",
       "    </tr>\n",
       "  </thead>\n",
       "  <tbody>\n",
       "    <tr>\n",
       "      <th>count</th>\n",
       "      <td>299.000000</td>\n",
       "      <td>299.000000</td>\n",
       "      <td>299.000000</td>\n",
       "      <td>299.000000</td>\n",
       "      <td>299.000000</td>\n",
       "      <td>299.000000</td>\n",
       "      <td>299.000000</td>\n",
       "      <td>299.00000</td>\n",
       "      <td>299.000000</td>\n",
       "      <td>299.000000</td>\n",
       "      <td>299.00000</td>\n",
       "      <td>299.000000</td>\n",
       "      <td>299.00000</td>\n",
       "    </tr>\n",
       "    <tr>\n",
       "      <th>mean</th>\n",
       "      <td>60.833893</td>\n",
       "      <td>0.431438</td>\n",
       "      <td>581.839465</td>\n",
       "      <td>0.418060</td>\n",
       "      <td>38.083612</td>\n",
       "      <td>0.351171</td>\n",
       "      <td>263358.029264</td>\n",
       "      <td>1.39388</td>\n",
       "      <td>136.625418</td>\n",
       "      <td>0.648829</td>\n",
       "      <td>0.32107</td>\n",
       "      <td>130.260870</td>\n",
       "      <td>0.32107</td>\n",
       "    </tr>\n",
       "    <tr>\n",
       "      <th>std</th>\n",
       "      <td>11.894809</td>\n",
       "      <td>0.496107</td>\n",
       "      <td>970.287881</td>\n",
       "      <td>0.494067</td>\n",
       "      <td>11.834841</td>\n",
       "      <td>0.478136</td>\n",
       "      <td>97804.236869</td>\n",
       "      <td>1.03451</td>\n",
       "      <td>4.412477</td>\n",
       "      <td>0.478136</td>\n",
       "      <td>0.46767</td>\n",
       "      <td>77.614208</td>\n",
       "      <td>0.46767</td>\n",
       "    </tr>\n",
       "    <tr>\n",
       "      <th>min</th>\n",
       "      <td>40.000000</td>\n",
       "      <td>0.000000</td>\n",
       "      <td>23.000000</td>\n",
       "      <td>0.000000</td>\n",
       "      <td>14.000000</td>\n",
       "      <td>0.000000</td>\n",
       "      <td>25100.000000</td>\n",
       "      <td>0.50000</td>\n",
       "      <td>113.000000</td>\n",
       "      <td>0.000000</td>\n",
       "      <td>0.00000</td>\n",
       "      <td>4.000000</td>\n",
       "      <td>0.00000</td>\n",
       "    </tr>\n",
       "    <tr>\n",
       "      <th>25%</th>\n",
       "      <td>51.000000</td>\n",
       "      <td>0.000000</td>\n",
       "      <td>116.500000</td>\n",
       "      <td>0.000000</td>\n",
       "      <td>30.000000</td>\n",
       "      <td>0.000000</td>\n",
       "      <td>212500.000000</td>\n",
       "      <td>0.90000</td>\n",
       "      <td>134.000000</td>\n",
       "      <td>0.000000</td>\n",
       "      <td>0.00000</td>\n",
       "      <td>73.000000</td>\n",
       "      <td>0.00000</td>\n",
       "    </tr>\n",
       "    <tr>\n",
       "      <th>50%</th>\n",
       "      <td>60.000000</td>\n",
       "      <td>0.000000</td>\n",
       "      <td>250.000000</td>\n",
       "      <td>0.000000</td>\n",
       "      <td>38.000000</td>\n",
       "      <td>0.000000</td>\n",
       "      <td>262000.000000</td>\n",
       "      <td>1.10000</td>\n",
       "      <td>137.000000</td>\n",
       "      <td>1.000000</td>\n",
       "      <td>0.00000</td>\n",
       "      <td>115.000000</td>\n",
       "      <td>0.00000</td>\n",
       "    </tr>\n",
       "    <tr>\n",
       "      <th>75%</th>\n",
       "      <td>70.000000</td>\n",
       "      <td>1.000000</td>\n",
       "      <td>582.000000</td>\n",
       "      <td>1.000000</td>\n",
       "      <td>45.000000</td>\n",
       "      <td>1.000000</td>\n",
       "      <td>303500.000000</td>\n",
       "      <td>1.40000</td>\n",
       "      <td>140.000000</td>\n",
       "      <td>1.000000</td>\n",
       "      <td>1.00000</td>\n",
       "      <td>203.000000</td>\n",
       "      <td>1.00000</td>\n",
       "    </tr>\n",
       "    <tr>\n",
       "      <th>max</th>\n",
       "      <td>95.000000</td>\n",
       "      <td>1.000000</td>\n",
       "      <td>7861.000000</td>\n",
       "      <td>1.000000</td>\n",
       "      <td>80.000000</td>\n",
       "      <td>1.000000</td>\n",
       "      <td>850000.000000</td>\n",
       "      <td>9.40000</td>\n",
       "      <td>148.000000</td>\n",
       "      <td>1.000000</td>\n",
       "      <td>1.00000</td>\n",
       "      <td>285.000000</td>\n",
       "      <td>1.00000</td>\n",
       "    </tr>\n",
       "  </tbody>\n",
       "</table>\n",
       "</div>"
      ],
      "text/plain": [
       "              age     anaemia  creatinine_phosphokinase    diabetes  \\\n",
       "count  299.000000  299.000000                299.000000  299.000000   \n",
       "mean    60.833893    0.431438                581.839465    0.418060   \n",
       "std     11.894809    0.496107                970.287881    0.494067   \n",
       "min     40.000000    0.000000                 23.000000    0.000000   \n",
       "25%     51.000000    0.000000                116.500000    0.000000   \n",
       "50%     60.000000    0.000000                250.000000    0.000000   \n",
       "75%     70.000000    1.000000                582.000000    1.000000   \n",
       "max     95.000000    1.000000               7861.000000    1.000000   \n",
       "\n",
       "       ejection_fraction  high_blood_pressure      platelets  \\\n",
       "count         299.000000           299.000000     299.000000   \n",
       "mean           38.083612             0.351171  263358.029264   \n",
       "std            11.834841             0.478136   97804.236869   \n",
       "min            14.000000             0.000000   25100.000000   \n",
       "25%            30.000000             0.000000  212500.000000   \n",
       "50%            38.000000             0.000000  262000.000000   \n",
       "75%            45.000000             1.000000  303500.000000   \n",
       "max            80.000000             1.000000  850000.000000   \n",
       "\n",
       "       serum_creatinine  serum_sodium         sex    smoking        time  \\\n",
       "count         299.00000    299.000000  299.000000  299.00000  299.000000   \n",
       "mean            1.39388    136.625418    0.648829    0.32107  130.260870   \n",
       "std             1.03451      4.412477    0.478136    0.46767   77.614208   \n",
       "min             0.50000    113.000000    0.000000    0.00000    4.000000   \n",
       "25%             0.90000    134.000000    0.000000    0.00000   73.000000   \n",
       "50%             1.10000    137.000000    1.000000    0.00000  115.000000   \n",
       "75%             1.40000    140.000000    1.000000    1.00000  203.000000   \n",
       "max             9.40000    148.000000    1.000000    1.00000  285.000000   \n",
       "\n",
       "       DEATH_EVENT  \n",
       "count    299.00000  \n",
       "mean       0.32107  \n",
       "std        0.46767  \n",
       "min        0.00000  \n",
       "25%        0.00000  \n",
       "50%        0.00000  \n",
       "75%        1.00000  \n",
       "max        1.00000  "
      ]
     },
     "execution_count": 14,
     "metadata": {},
     "output_type": "execute_result"
    }
   ],
   "source": [
    "found = False\n",
    "key = \"heart-failure-dataset\"\n",
    "\n",
    "if key in ws.datasets.keys(): \n",
    "        found = True\n",
    "        dataset = ws.datasets[key]\n",
    "        \n",
    "if not found:\n",
    "    print(\"Dataset not found, please upload it!\")\n",
    "    \n",
    "df = dataset.to_pandas_dataframe()\n",
    "df.describe()"
   ]
  },
  {
   "cell_type": "code",
   "execution_count": 19,
   "metadata": {},
   "outputs": [
    {
     "data": {
      "text/plain": [
       "dtype('int64')"
      ]
     },
     "execution_count": 19,
     "metadata": {},
     "output_type": "execute_result"
    }
   ],
   "source": [
    "set(df)\n",
    "df['DEATH_EVENT'].dtype"
   ]
  },
  {
   "cell_type": "code",
   "execution_count": 25,
   "metadata": {},
   "outputs": [
    {
     "data": {
      "text/plain": [
       "<bound method DataFrame.info of       age  anaemia  creatinine_phosphokinase  diabetes  ejection_fraction  \\\n",
       "0    75.0        0                       582         0                 20   \n",
       "1    55.0        0                      7861         0                 38   \n",
       "2    65.0        0                       146         0                 20   \n",
       "3    50.0        1                       111         0                 20   \n",
       "4    65.0        1                       160         1                 20   \n",
       "..    ...      ...                       ...       ...                ...   \n",
       "294  62.0        0                        61         1                 38   \n",
       "295  55.0        0                      1820         0                 38   \n",
       "296  45.0        0                      2060         1                 60   \n",
       "297  45.0        0                      2413         0                 38   \n",
       "298  50.0        0                       196         0                 45   \n",
       "\n",
       "     high_blood_pressure  platelets  serum_creatinine  serum_sodium  sex  \\\n",
       "0                      1  265000.00               1.9           130    1   \n",
       "1                      0  263358.03               1.1           136    1   \n",
       "2                      0  162000.00               1.3           129    1   \n",
       "3                      0  210000.00               1.9           137    1   \n",
       "4                      0  327000.00               2.7           116    0   \n",
       "..                   ...        ...               ...           ...  ...   \n",
       "294                    1  155000.00               1.1           143    1   \n",
       "295                    0  270000.00               1.2           139    0   \n",
       "296                    0  742000.00               0.8           138    0   \n",
       "297                    0  140000.00               1.4           140    1   \n",
       "298                    0  395000.00               1.6           136    1   \n",
       "\n",
       "     smoking  time  DEATH_EVENT  \n",
       "0          0     4            1  \n",
       "1          0     6            1  \n",
       "2          1     7            1  \n",
       "3          0     7            1  \n",
       "4          0     8            1  \n",
       "..       ...   ...          ...  \n",
       "294        1   270            0  \n",
       "295        0   271            0  \n",
       "296        0   278            0  \n",
       "297        1   280            0  \n",
       "298        1   285            0  \n",
       "\n",
       "[299 rows x 13 columns]>"
      ]
     },
     "execution_count": 25,
     "metadata": {},
     "output_type": "execute_result"
    }
   ],
   "source": [
    "df.info"
   ]
  },
  {
   "cell_type": "markdown",
   "metadata": {},
   "source": [
    "## AutoML Configuration\n",
    "\n",
    "Code for Auto ML settings : \n",
    "- **experiment_timeout_minutes** - to determine the time duration for an experiment\n",
    "- **max_iterations** - to determine the maximum number of iterations for model runs\n",
    "- **max_concurrent_iterations** - to determine the number of parallel runs\n",
    "- **n_cross_validations** - for model evaluation\n",
    "- **primary_metric** - model metric to optimise for (auc_roc since the the data s imabalanced)"
   ]
  },
  {
   "cell_type": "code",
   "execution_count": 26,
   "metadata": {
    "gather": {
     "logged": 1598429217746
    },
    "jupyter": {
     "outputs_hidden": false,
     "source_hidden": false
    },
    "nteract": {
     "transient": {
      "deleting": false
     }
    }
   },
   "outputs": [],
   "source": [
    "\n",
    "automl_settings = {\n",
    "    \"experiment_timeout_minutes\": 15,\n",
    "    \"iterations\": 40,\n",
    "    \"max_concurrent_iterations\": 4,\n",
    "    \"n_cross_validations\": 5,\n",
    "    \"primary_metric\" : 'accuracy'\n",
    "}\n",
    "\n",
    "\n",
    "automl_config = AutoMLConfig(compute_target=compute_target,\n",
    "                             task = \"classification\",\n",
    "                             training_data=dataset,\n",
    "                             label_column_name=\"DEATH_EVENT\",\n",
    "                             enable_early_stopping= True,\n",
    "                             debug_log = \"automl_errors.log\",\n",
    "                             **automl_settings\n",
    "                            )"
   ]
  },
  {
   "cell_type": "code",
   "execution_count": 27,
   "metadata": {
    "gather": {
     "logged": 1598431107951
    },
    "jupyter": {
     "outputs_hidden": false,
     "source_hidden": false
    },
    "nteract": {
     "transient": {
      "deleting": false
     }
    }
   },
   "outputs": [
    {
     "name": "stdout",
     "output_type": "stream",
     "text": [
      "Submitting remote run.\n",
      "No run_configuration provided, running on heart-compute with default configuration\n",
      "Running on remote compute: heart-compute\n"
     ]
    },
    {
     "data": {
      "text/html": [
       "<table style=\"width:100%\"><tr><th>Experiment</th><th>Id</th><th>Type</th><th>Status</th><th>Details Page</th><th>Docs Page</th></tr><tr><td>automl-heart-failure-prediction</td><td>AutoML_fa14536e-4625-40e7-a2bc-5285f16808f0</td><td>automl</td><td>NotStarted</td><td><a href=\"https://ml.azure.com/runs/AutoML_fa14536e-4625-40e7-a2bc-5285f16808f0?wsid=/subscriptions/d4ad7261-832d-46b2-b093-22156001df5b/resourcegroups/aml-quickstarts-159882/workspaces/quick-starts-ws-159882&amp;tid=660b3398-b80e-49d2-bc5b-ac1dc93b5254\" target=\"_blank\" rel=\"noopener\">Link to Azure Machine Learning studio</a></td><td><a href=\"https://docs.microsoft.com/en-us/python/api/overview/azure/ml/intro?view=azure-ml-py\" target=\"_blank\" rel=\"noopener\">Link to Documentation</a></td></tr></table>"
      ],
      "text/plain": [
       "<IPython.core.display.HTML object>"
      ]
     },
     "metadata": {},
     "output_type": "display_data"
    },
    {
     "name": "stdout",
     "output_type": "stream",
     "text": [
      "\n",
      "Current status: FeaturesGeneration. Generating features for the dataset.\n",
      "Current status: ModelSelection. Beginning model selection.\n",
      "\n",
      "****************************************************************************************************\n",
      "DATA GUARDRAILS: \n",
      "\n",
      "TYPE:         Class balancing detection\n",
      "STATUS:       PASSED\n",
      "DESCRIPTION:  Your inputs were analyzed, and all classes are balanced in your training data.\n",
      "              Learn more about imbalanced data: https://aka.ms/AutomatedMLImbalancedData\n",
      "\n",
      "****************************************************************************************************\n",
      "\n",
      "TYPE:         Missing feature values imputation\n",
      "STATUS:       PASSED\n",
      "DESCRIPTION:  No feature missing values were detected in the training data.\n",
      "              Learn more about missing value imputation: https://aka.ms/AutomatedMLFeaturization\n",
      "\n",
      "****************************************************************************************************\n",
      "\n",
      "TYPE:         High cardinality feature detection\n",
      "STATUS:       PASSED\n",
      "DESCRIPTION:  Your inputs were analyzed, and no high cardinality features were detected.\n",
      "              Learn more about high cardinality feature handling: https://aka.ms/AutomatedMLFeaturization\n",
      "\n",
      "****************************************************************************************************\n",
      "\n",
      "****************************************************************************************************\n",
      "ITERATION: The iteration being evaluated.\n",
      "PIPELINE: A summary description of the pipeline being evaluated.\n",
      "DURATION: Time taken for the current iteration.\n",
      "METRIC: The result of computing score on the fitted pipeline.\n",
      "BEST: The best observed score thus far.\n",
      "****************************************************************************************************\n",
      "\n",
      " ITERATION   PIPELINE                                       DURATION      METRIC      BEST\n",
      "         3   SparseNormalizer XGBoostClassifier             0:00:38       0.8162    0.8162\n",
      "         0   MaxAbsScaler LightGBM                          0:00:37       0.8060    0.8162\n",
      "         1   MaxAbsScaler XGBoostClassifier                 0:00:37       0.8259    0.8259\n",
      "         2   MaxAbsScaler ExtremeRandomTrees                0:00:40       0.8227    0.8259\n",
      "         7   MaxAbsScaler LightGBM                          0:00:41       0.8094    0.8259\n",
      "         8   StandardScalerWrapper KNN                      0:00:38       0.6019    0.8259\n",
      "         9   StandardScalerWrapper SVM                      0:00:39       0.7290    0.8259\n",
      "        10   StandardScalerWrapper XGBoostClassifier        0:00:39       0.8060    0.8259\n",
      "        11   MinMaxScaler RandomForest                      0:00:41       0.8258    0.8259\n",
      "         4   StandardScalerWrapper KNN                      0:05:17       0.6019    0.8259\n",
      "         5   MaxAbsScaler LightGBM                          0:05:19       0.8327    0.8327\n",
      "         6   RobustScaler LogisticRegression                0:05:14       0.7859    0.8327\n",
      "        12   StandardScalerWrapper LogisticRegression       0:00:37       0.7456    0.8327\n",
      "        13   StandardScalerWrapper KNN                      0:00:40       0.7159    0.8327\n",
      "        14   RobustScaler KNN                               0:00:41       0.7158    0.8327\n",
      "        15   MinMaxScaler KNN                               0:00:42       0.7225    0.8327\n",
      "        16   SparseNormalizer KNN                           0:00:38       0.7560    0.8327\n",
      "        17   MaxAbsScaler LogisticRegression                0:00:38       0.8061    0.8327\n",
      "        18   StandardScalerWrapper XGBoostClassifier        0:00:41       0.8161    0.8327\n",
      "        19   StandardScalerWrapper XGBoostClassifier        0:00:42       0.8227    0.8327\n",
      "        20   MaxAbsScaler LogisticRegression                0:00:40       0.8160    0.8327\n",
      "        21   StandardScalerWrapper XGBoostClassifier        0:00:40       0.8260    0.8327\n",
      "        22   SparseNormalizer RandomForest                  0:00:41       0.8363    0.8363\n",
      "        23   StandardScalerWrapper RandomForest             0:00:38       0.8360    0.8363\n",
      "        24   StandardScalerWrapper XGBoostClassifier        0:00:38       0.8294    0.8363\n",
      "        25   MinMaxScaler LightGBM                          0:00:45       0.8292    0.8363\n",
      "        26   SparseNormalizer XGBoostClassifier             0:00:39       0.8497    0.8497\n",
      "        27   RobustScaler RandomForest                      0:00:40       0.8394    0.8497\n",
      "        28   MinMaxScaler LightGBM                          0:00:38       0.8360    0.8497\n",
      "        29   RobustScaler LightGBM                          0:00:39       0.8327    0.8497\n",
      "        30   TruncatedSVDWrapper XGBoostClassifier          0:00:38       0.6791    0.8497\n",
      "        31   RobustScaler RandomForest                      0:00:43       0.8327    0.8497\n",
      "        32   SparseNormalizer XGBoostClassifier             0:00:37       0.8427    0.8497\n",
      "        33   StandardScalerWrapper XGBoostClassifier        0:00:40       0.8393    0.8497\n",
      "        34   StandardScalerWrapper XGBoostClassifier        0:00:41       0.8127    0.8497\n",
      "        35   PCA XGBoostClassifier                          0:00:41       0.6690    0.8497\n",
      "        36   SparseNormalizer XGBoostClassifier             0:00:38       0.8530    0.8530\n",
      "        37   SparseNormalizer XGBoostClassifier             0:00:41       0.8529    0.8530\n",
      "        38    VotingEnsemble                                0:01:01       0.8797    0.8797\n",
      "        39    StackEnsemble                                 0:01:00       0.8629    0.8797\n"
     ]
    }
   ],
   "source": [
    "# TODO: Submit your experiment\n",
    "remote_run = experiment.submit(automl_config, show_output = True)"
   ]
  },
  {
   "cell_type": "markdown",
   "metadata": {},
   "source": [
    "## Run Details\n",
    "\n",
    "OPTIONAL: Write about the different models trained and their performance. Why do you think some models did better than others?\n",
    "\n",
    "TODO: In the cell below, use the `RunDetails` widget to show the different experiments."
   ]
  },
  {
   "cell_type": "code",
   "execution_count": 31,
   "metadata": {
    "gather": {
     "logged": 1598431121770
    },
    "jupyter": {
     "outputs_hidden": false,
     "source_hidden": false
    },
    "nteract": {
     "transient": {
      "deleting": false
     }
    }
   },
   "outputs": [
    {
     "data": {
      "application/vnd.jupyter.widget-view+json": {
       "model_id": "132057753e454ee7949395631a7f90db",
       "version_major": 2,
       "version_minor": 0
      },
      "text/plain": [
       "_AutoMLWidget(widget_settings={'childWidgetDisplay': 'popup', 'send_telemetry': False, 'log_level': 'INFO', 's…"
      ]
     },
     "metadata": {},
     "output_type": "display_data"
    },
    {
     "data": {
      "application/aml.mini.widget.v1": "{\"status\": \"Completed\", \"workbench_run_details_uri\": \"https://ml.azure.com/runs/AutoML_fa14536e-4625-40e7-a2bc-5285f16808f0?wsid=/subscriptions/d4ad7261-832d-46b2-b093-22156001df5b/resourcegroups/aml-quickstarts-159882/workspaces/quick-starts-ws-159882&tid=660b3398-b80e-49d2-bc5b-ac1dc93b5254\", \"run_id\": \"AutoML_fa14536e-4625-40e7-a2bc-5285f16808f0\", \"run_properties\": {\"run_id\": \"AutoML_fa14536e-4625-40e7-a2bc-5285f16808f0\", \"created_utc\": \"2021-10-03T10:30:16.628948Z\", \"properties\": {\"num_iterations\": \"40\", \"training_type\": \"TrainFull\", \"acquisition_function\": \"EI\", \"primary_metric\": \"accuracy\", \"train_split\": \"0\", \"acquisition_parameter\": \"0\", \"num_cross_validation\": \"5\", \"target\": \"heart-compute\", \"AMLSettingsJsonString\": \"{\\\"path\\\":null,\\\"name\\\":\\\"automl-heart-failure-prediction\\\",\\\"subscription_id\\\":\\\"d4ad7261-832d-46b2-b093-22156001df5b\\\",\\\"resource_group\\\":\\\"aml-quickstarts-159882\\\",\\\"workspace_name\\\":\\\"quick-starts-ws-159882\\\",\\\"region\\\":\\\"southcentralus\\\",\\\"compute_target\\\":\\\"heart-compute\\\",\\\"spark_service\\\":null,\\\"azure_service\\\":\\\"remote\\\",\\\"many_models\\\":false,\\\"pipeline_fetch_max_batch_size\\\":1,\\\"enable_batch_run\\\":false,\\\"enable_run_restructure\\\":false,\\\"start_auxiliary_runs_before_parent_complete\\\":false,\\\"enable_code_generation\\\":false,\\\"iterations\\\":40,\\\"primary_metric\\\":\\\"accuracy\\\",\\\"task_type\\\":\\\"classification\\\",\\\"data_script\\\":null,\\\"test_size\\\":0.0,\\\"test_include_predictions_only\\\":false,\\\"validation_size\\\":0.0,\\\"n_cross_validations\\\":5,\\\"y_min\\\":null,\\\"y_max\\\":null,\\\"num_classes\\\":null,\\\"featurization\\\":\\\"auto\\\",\\\"_ignore_package_version_incompatibilities\\\":false,\\\"is_timeseries\\\":false,\\\"max_cores_per_iteration\\\":1,\\\"max_concurrent_iterations\\\":4,\\\"iteration_timeout_minutes\\\":null,\\\"mem_in_mb\\\":null,\\\"enforce_time_on_windows\\\":false,\\\"experiment_timeout_minutes\\\":15,\\\"experiment_exit_score\\\":null,\\\"whitelist_models\\\":null,\\\"blacklist_algos\\\":[\\\"TensorFlowLinearClassifier\\\",\\\"TensorFlowDNN\\\"],\\\"supported_models\\\":[\\\"BernoulliNaiveBayes\\\",\\\"SVM\\\",\\\"LightGBM\\\",\\\"GradientBoosting\\\",\\\"LinearSVM\\\",\\\"RandomForest\\\",\\\"ExtremeRandomTrees\\\",\\\"TensorFlowDNN\\\",\\\"AveragedPerceptronClassifier\\\",\\\"TensorFlowLinearClassifier\\\",\\\"MultinomialNaiveBayes\\\",\\\"LogisticRegression\\\",\\\"XGBoostClassifier\\\",\\\"KNN\\\",\\\"DecisionTree\\\",\\\"SGD\\\"],\\\"private_models\\\":[],\\\"auto_blacklist\\\":true,\\\"blacklist_samples_reached\\\":false,\\\"exclude_nan_labels\\\":true,\\\"verbosity\\\":20,\\\"_debug_log\\\":\\\"azureml_automl.log\\\",\\\"show_warnings\\\":false,\\\"model_explainability\\\":true,\\\"service_url\\\":null,\\\"sdk_url\\\":null,\\\"sdk_packages\\\":null,\\\"enable_onnx_compatible_models\\\":false,\\\"enable_split_onnx_featurizer_estimator_models\\\":false,\\\"vm_type\\\":\\\"STANDARD_D2_V2\\\",\\\"telemetry_verbosity\\\":20,\\\"send_telemetry\\\":true,\\\"enable_dnn\\\":false,\\\"scenario\\\":\\\"SDK-1.13.0\\\",\\\"environment_label\\\":null,\\\"save_mlflow\\\":false,\\\"force_text_dnn\\\":false,\\\"enable_feature_sweeping\\\":true,\\\"enable_early_stopping\\\":true,\\\"early_stopping_n_iters\\\":10,\\\"metrics\\\":null,\\\"enable_metric_confidence\\\":false,\\\"enable_ensembling\\\":true,\\\"enable_stack_ensembling\\\":true,\\\"ensemble_iterations\\\":15,\\\"enable_tf\\\":false,\\\"enable_subsampling\\\":false,\\\"subsample_seed\\\":null,\\\"enable_nimbusml\\\":false,\\\"enable_streaming\\\":false,\\\"force_streaming\\\":false,\\\"track_child_runs\\\":true,\\\"allowed_private_models\\\":[],\\\"label_column_name\\\":\\\"DEATH_EVENT\\\",\\\"weight_column_name\\\":null,\\\"cv_split_column_names\\\":null,\\\"positive_label\\\":null,\\\"enable_local_managed\\\":false,\\\"_local_managed_run_id\\\":null,\\\"cost_mode\\\":1,\\\"lag_length\\\":0,\\\"metric_operation\\\":\\\"maximize\\\",\\\"preprocess\\\":true}\", \"DataPrepJsonString\": \"{\\\\\\\"training_data\\\\\\\": {\\\\\\\"datasetId\\\\\\\": \\\\\\\"a7398654-f59c-416f-8798-c3bd9eaeb682\\\\\\\"}, \\\\\\\"datasets\\\\\\\": 0}\", \"EnableSubsampling\": \"False\", \"runTemplate\": \"AutoML\", \"azureml.runsource\": \"automl\", \"display_task_type\": \"classification\", \"dependencies_versions\": \"{\\\"azureml-widgets\\\": \\\"1.34.0\\\", \\\"azureml-train\\\": \\\"1.34.0\\\", \\\"azureml-train-restclients-hyperdrive\\\": \\\"1.34.0\\\", \\\"azureml-train-core\\\": \\\"1.34.0\\\", \\\"azureml-train-automl\\\": \\\"1.34.0\\\", \\\"azureml-train-automl-runtime\\\": \\\"1.34.0\\\", \\\"azureml-train-automl-client\\\": \\\"1.34.0\\\", \\\"azureml-tensorboard\\\": \\\"1.34.0\\\", \\\"azureml-telemetry\\\": \\\"1.34.0\\\", \\\"azureml-sdk\\\": \\\"1.34.0\\\", \\\"azureml-samples\\\": \\\"0+unknown\\\", \\\"azureml-responsibleai\\\": \\\"1.34.0\\\", \\\"azureml-pipeline\\\": \\\"1.34.0\\\", \\\"azureml-pipeline-steps\\\": \\\"1.34.0\\\", \\\"azureml-pipeline-core\\\": \\\"1.34.0\\\", \\\"azureml-opendatasets\\\": \\\"1.34.0\\\", \\\"azureml-mlflow\\\": \\\"1.34.0\\\", \\\"azureml-interpret\\\": \\\"1.34.0\\\", \\\"azureml-inference-server-http\\\": \\\"0.3.1\\\", \\\"azureml-explain-model\\\": \\\"1.34.0\\\", \\\"azureml-defaults\\\": \\\"1.34.0\\\", \\\"azureml-dataset-runtime\\\": \\\"1.34.0\\\", \\\"azureml-dataprep\\\": \\\"2.22.2\\\", \\\"azureml-dataprep-rslex\\\": \\\"1.20.1\\\", \\\"azureml-dataprep-native\\\": \\\"38.0.0\\\", \\\"azureml-datadrift\\\": \\\"1.34.0\\\", \\\"azureml-core\\\": \\\"1.34.0\\\", \\\"azureml-contrib-services\\\": \\\"1.34.0\\\", \\\"azureml-contrib-server\\\": \\\"1.34.0\\\", \\\"azureml-contrib-reinforcementlearning\\\": \\\"1.34.0\\\", \\\"azureml-contrib-pipeline-steps\\\": \\\"1.34.0\\\", \\\"azureml-contrib-notebook\\\": \\\"1.34.0\\\", \\\"azureml-contrib-fairness\\\": \\\"1.34.0\\\", \\\"azureml-contrib-dataset\\\": \\\"1.34.0\\\", \\\"azureml-contrib-automl-pipeline-steps\\\": \\\"1.34.0\\\", \\\"azureml-cli-common\\\": \\\"1.34.0\\\", \\\"azureml-automl-runtime\\\": \\\"1.34.0\\\", \\\"azureml-automl-dnn-nlp\\\": \\\"1.34.0\\\", \\\"azureml-automl-core\\\": \\\"1.34.0\\\", \\\"azureml-accel-models\\\": \\\"1.34.0\\\"}\", \"_aml_system_scenario_identification\": \"Remote.Parent\", \"ClientType\": \"SDK\", \"environment_cpu_name\": \"AzureML-AutoML\", \"environment_cpu_label\": \"prod\", \"environment_gpu_name\": \"AzureML-AutoML-GPU\", \"environment_gpu_label\": \"prod\", \"root_attribution\": \"automl\", \"attribution\": \"AutoML\", \"Orchestrator\": \"AutoML\", \"CancelUri\": \"https://southcentralus.api.azureml.ms/jasmine/v1.0/subscriptions/d4ad7261-832d-46b2-b093-22156001df5b/resourceGroups/aml-quickstarts-159882/providers/Microsoft.MachineLearningServices/workspaces/quick-starts-ws-159882/experimentids/b56d39d6-e5a2-4942-af8b-84bf0105bf03/cancel/AutoML_fa14536e-4625-40e7-a2bc-5285f16808f0\", \"ClientSdkVersion\": \"1.34.0.post1\", \"snapshotId\": \"00000000-0000-0000-0000-000000000000\", \"SetupRunId\": \"AutoML_fa14536e-4625-40e7-a2bc-5285f16808f0_setup\", \"SetupRunContainerId\": \"dcid.AutoML_fa14536e-4625-40e7-a2bc-5285f16808f0_setup\", \"FeaturizationRunJsonPath\": \"featurizer_container.json\", \"FeaturizationRunId\": \"AutoML_fa14536e-4625-40e7-a2bc-5285f16808f0_featurize\", \"ProblemInfoJsonString\": \"{\\\"dataset_num_categorical\\\": 0, \\\"is_sparse\\\": false, \\\"subsampling\\\": false, \\\"has_extra_col\\\": true, \\\"dataset_classes\\\": 2, \\\"dataset_features\\\": 12, \\\"dataset_samples\\\": 299, \\\"single_frequency_class_detected\\\": false}\", \"ModelExplainRunId\": \"AutoML_fa14536e-4625-40e7-a2bc-5285f16808f0_ModelExplain\", \"azureml.git.repository_uri\": \"https://github.com/DubWiser/udacity-azmlnd-capstone.git\", \"mlflow.source.git.repoURL\": \"https://github.com/DubWiser/udacity-azmlnd-capstone.git\", \"azureml.git.branch\": \"main\", \"mlflow.source.git.branch\": \"main\", \"azureml.git.commit\": \"d9f609a3b416de303155ca48e58af64699e7637a\", \"mlflow.source.git.commit\": \"d9f609a3b416de303155ca48e58af64699e7637a\", \"azureml.git.dirty\": \"True\"}, \"tags\": {\"model_explain_run\": \"best_run\", \"_aml_system_azureml.automlComponent\": \"AutoML\", \"pipeline_id\": \"\", \"score\": \"\", \"predicted_cost\": \"\", \"fit_time\": \"\", \"training_percent\": \"\", \"iteration\": \"\", \"run_preprocessor\": \"\", \"run_algorithm\": \"\", \"dynamic_whitelisting_iterations\": \"<25>;<30>;<35>;\", \"automl_best_child_run_id\": \"AutoML_fa14536e-4625-40e7-a2bc-5285f16808f0_38\", \"model_explain_best_run_child_id\": \"AutoML_fa14536e-4625-40e7-a2bc-5285f16808f0_38\"}, \"end_time_utc\": \"2021-10-03T10:59:05.988934Z\", \"status\": \"Completed\", \"log_files\": {}, \"log_groups\": [], \"run_duration\": \"0:28:49\", \"run_number\": \"1\", \"run_queued_details\": {\"status\": \"Completed\", \"details\": null}}, \"child_runs\": [{\"run_id\": \"AutoML_fa14536e-4625-40e7-a2bc-5285f16808f0_2\", \"run_number\": 5, \"metric\": null, \"status\": \"Completed\", \"run_type\": \"azureml.scriptrun\", \"training_percent\": \"100\", \"start_time\": \"2021-10-03T10:45:46.889368Z\", \"end_time\": \"2021-10-03T10:46:26.913625Z\", \"created_time\": \"2021-10-03T10:42:53.436288Z\", \"created_time_dt\": \"2021-10-03T10:42:53.436288Z\", \"duration\": \"0:03:33\", \"iteration\": \"2\", \"goal\": \"accuracy_max\", \"run_name\": \"MaxAbsScaler, ExtremeRandomTrees\", \"run_properties\": \"copy=True\", \"primary_metric\": 0.82265537, \"best_metric\": 0.8259322}, {\"run_id\": \"AutoML_fa14536e-4625-40e7-a2bc-5285f16808f0_3\", \"run_number\": 6, \"metric\": null, \"status\": \"Completed\", \"run_type\": \"azureml.scriptrun\", \"training_percent\": \"100\", \"start_time\": \"2021-10-03T10:43:08.002966Z\", \"end_time\": \"2021-10-03T10:43:46.095145Z\", \"created_time\": \"2021-10-03T10:42:53.472319Z\", \"created_time_dt\": \"2021-10-03T10:42:53.472319Z\", \"duration\": \"0:00:52\", \"iteration\": \"3\", \"goal\": \"accuracy_max\", \"run_name\": \"SparseNormalizer, XGBoostClassifier\", \"run_properties\": \"copy=True, norm='l2'\", \"primary_metric\": 0.81615819, \"best_metric\": 0.8259322}, {\"run_id\": \"AutoML_fa14536e-4625-40e7-a2bc-5285f16808f0_1\", \"run_number\": 7, \"metric\": null, \"status\": \"Completed\", \"run_type\": \"azureml.scriptrun\", \"training_percent\": \"100\", \"start_time\": \"2021-10-03T10:44:51.238413Z\", \"end_time\": \"2021-10-03T10:45:28.346434Z\", \"created_time\": \"2021-10-03T10:42:53.464698Z\", \"created_time_dt\": \"2021-10-03T10:42:53.464698Z\", \"duration\": \"0:02:34\", \"iteration\": \"1\", \"goal\": \"accuracy_max\", \"run_name\": \"MaxAbsScaler, XGBoostClassifier\", \"run_properties\": \"copy=True\", \"primary_metric\": 0.8259322, \"best_metric\": 0.8259322}, {\"run_id\": \"AutoML_fa14536e-4625-40e7-a2bc-5285f16808f0_0\", \"run_number\": 8, \"metric\": null, \"status\": \"Completed\", \"run_type\": \"azureml.scriptrun\", \"training_percent\": \"100\", \"start_time\": \"2021-10-03T10:43:58.625151Z\", \"end_time\": \"2021-10-03T10:44:35.357922Z\", \"created_time\": \"2021-10-03T10:42:53.479702Z\", \"created_time_dt\": \"2021-10-03T10:42:53.479702Z\", \"duration\": \"0:01:41\", \"iteration\": \"0\", \"goal\": \"accuracy_max\", \"run_name\": \"MaxAbsScaler, LightGBM\", \"run_properties\": \"copy=True\", \"primary_metric\": 0.8059887, \"best_metric\": 0.8059887}, {\"run_id\": \"AutoML_fa14536e-4625-40e7-a2bc-5285f16808f0_4\", \"run_number\": 9, \"metric\": null, \"status\": \"Completed\", \"run_type\": \"azureml.scriptrun\", \"training_percent\": \"100\", \"start_time\": \"2021-10-03T10:46:03.243286Z\", \"end_time\": \"2021-10-03T10:51:20.202177Z\", \"created_time\": \"2021-10-03T10:43:48.866257Z\", \"created_time_dt\": \"2021-10-03T10:43:48.866257Z\", \"duration\": \"0:07:31\", \"iteration\": \"4\", \"goal\": \"accuracy_max\", \"run_name\": \"StandardScalerWrapper, KNN\", \"run_properties\": \"\\n    copy=True,\\n    with_mean=False,\\n    with_std=False\\n\", \"primary_metric\": 0.6019209, \"best_metric\": 0.8259322}, {\"run_id\": \"AutoML_fa14536e-4625-40e7-a2bc-5285f16808f0_5\", \"run_number\": 10, \"metric\": null, \"status\": \"Completed\", \"run_type\": \"azureml.scriptrun\", \"training_percent\": \"100\", \"start_time\": \"2021-10-03T10:46:05.851539Z\", \"end_time\": \"2021-10-03T10:51:24.525924Z\", \"created_time\": \"2021-10-03T10:44:38.529632Z\", \"created_time_dt\": \"2021-10-03T10:44:38.529632Z\", \"duration\": \"0:06:45\", \"iteration\": \"5\", \"goal\": \"accuracy_max\", \"run_name\": \"MaxAbsScaler, LightGBM\", \"run_properties\": \"copy=True\", \"primary_metric\": 0.83271186, \"best_metric\": 0.83271186}, {\"run_id\": \"AutoML_fa14536e-4625-40e7-a2bc-5285f16808f0_6\", \"run_number\": 11, \"metric\": null, \"status\": \"Completed\", \"run_type\": \"azureml.scriptrun\", \"training_percent\": \"100\", \"start_time\": \"2021-10-03T10:46:08.16467Z\", \"end_time\": \"2021-10-03T10:51:22.627115Z\", \"created_time\": \"2021-10-03T10:45:31.415734Z\", \"created_time_dt\": \"2021-10-03T10:45:31.415734Z\", \"duration\": \"0:05:51\", \"iteration\": \"6\", \"goal\": \"accuracy_max\", \"run_name\": \"RobustScaler, LogisticRegression\", \"run_properties\": \"copy=True, quantile_range=[10, 90], with_centering=True,\\n             with_scaling=True\", \"primary_metric\": 0.78587571, \"best_metric\": 0.83271186}, {\"run_id\": \"AutoML_fa14536e-4625-40e7-a2bc-5285f16808f0_7\", \"run_number\": 12, \"metric\": null, \"status\": \"Completed\", \"run_type\": \"azureml.scriptrun\", \"training_percent\": \"100\", \"start_time\": \"2021-10-03T10:46:43.143445Z\", \"end_time\": \"2021-10-03T10:47:23.838132Z\", \"created_time\": \"2021-10-03T10:46:30.078472Z\", \"created_time_dt\": \"2021-10-03T10:46:30.078472Z\", \"duration\": \"0:00:53\", \"iteration\": \"7\", \"goal\": \"accuracy_max\", \"run_name\": \"MaxAbsScaler, LightGBM\", \"run_properties\": \"copy=True\", \"primary_metric\": 0.80937853, \"best_metric\": 0.83271186}, {\"run_id\": \"AutoML_fa14536e-4625-40e7-a2bc-5285f16808f0_8\", \"run_number\": 13, \"metric\": null, \"status\": \"Completed\", \"run_type\": \"azureml.scriptrun\", \"training_percent\": \"100\", \"start_time\": \"2021-10-03T10:47:41.049558Z\", \"end_time\": \"2021-10-03T10:48:19.375969Z\", \"created_time\": \"2021-10-03T10:47:27.231427Z\", \"created_time_dt\": \"2021-10-03T10:47:27.231427Z\", \"duration\": \"0:00:52\", \"iteration\": \"8\", \"goal\": \"accuracy_max\", \"run_name\": \"StandardScalerWrapper, KNN\", \"run_properties\": \"\\n    copy=True,\\n    with_mean=False,\\n    with_std=False\\n\", \"primary_metric\": 0.6019209, \"best_metric\": 0.83271186}, {\"run_id\": \"AutoML_fa14536e-4625-40e7-a2bc-5285f16808f0_9\", \"run_number\": 14, \"metric\": null, \"status\": \"Completed\", \"run_type\": \"azureml.scriptrun\", \"training_percent\": \"100\", \"start_time\": \"2021-10-03T10:48:35.595958Z\", \"end_time\": \"2021-10-03T10:49:14.183402Z\", \"created_time\": \"2021-10-03T10:48:22.10554Z\", \"created_time_dt\": \"2021-10-03T10:48:22.10554Z\", \"duration\": \"0:00:52\", \"iteration\": \"9\", \"goal\": \"accuracy_max\", \"run_name\": \"StandardScalerWrapper, SVM\", \"run_properties\": \"\\n    copy=True,\\n    with_mean=True,\\n    with_std=True\\n\", \"primary_metric\": 0.72903955, \"best_metric\": 0.83271186}, {\"run_id\": \"AutoML_fa14536e-4625-40e7-a2bc-5285f16808f0_10\", \"run_number\": 15, \"metric\": null, \"status\": \"Completed\", \"run_type\": \"azureml.scriptrun\", \"training_percent\": \"100\", \"start_time\": \"2021-10-03T10:49:30.129446Z\", \"end_time\": \"2021-10-03T10:50:09.426249Z\", \"created_time\": \"2021-10-03T10:49:17.267794Z\", \"created_time_dt\": \"2021-10-03T10:49:17.267794Z\", \"duration\": \"0:00:52\", \"iteration\": \"10\", \"goal\": \"accuracy_max\", \"run_name\": \"StandardScalerWrapper, XGBoostClassifier\", \"run_properties\": \"\\n    copy=True,\\n    with_mean=False,\\n    with_std=False\\n\", \"primary_metric\": 0.8059887, \"best_metric\": 0.83271186}, {\"run_id\": \"AutoML_fa14536e-4625-40e7-a2bc-5285f16808f0_11\", \"run_number\": 16, \"metric\": null, \"status\": \"Completed\", \"run_type\": \"azureml.scriptrun\", \"training_percent\": \"100\", \"start_time\": \"2021-10-03T10:50:24.551746Z\", \"end_time\": \"2021-10-03T10:51:05.102328Z\", \"created_time\": \"2021-10-03T10:50:13.473165Z\", \"created_time_dt\": \"2021-10-03T10:50:13.473165Z\", \"duration\": \"0:00:51\", \"iteration\": \"11\", \"goal\": \"accuracy_max\", \"run_name\": \"MinMaxScaler, RandomForest\", \"run_properties\": \"copy=True, feature_range=(0, 1\", \"primary_metric\": 0.82581921, \"best_metric\": 0.83271186}, {\"run_id\": \"AutoML_fa14536e-4625-40e7-a2bc-5285f16808f0_12\", \"run_number\": 17, \"metric\": null, \"status\": \"Completed\", \"run_type\": \"azureml.scriptrun\", \"training_percent\": \"100\", \"start_time\": \"2021-10-03T10:51:22.419364Z\", \"end_time\": \"2021-10-03T10:51:59.244936Z\", \"created_time\": \"2021-10-03T10:51:07.953796Z\", \"created_time_dt\": \"2021-10-03T10:51:07.953796Z\", \"duration\": \"0:00:51\", \"iteration\": \"12\", \"goal\": \"accuracy_max\", \"run_name\": \"StandardScalerWrapper, LogisticRegression\", \"run_properties\": \"\\n    copy=True,\\n    with_mean=True,\\n    with_std=False\\n\", \"primary_metric\": 0.74559322, \"best_metric\": 0.83271186}, {\"run_id\": \"AutoML_fa14536e-4625-40e7-a2bc-5285f16808f0_13\", \"run_number\": 18, \"metric\": null, \"status\": \"Completed\", \"run_type\": \"azureml.scriptrun\", \"training_percent\": \"100\", \"start_time\": \"2021-10-03T10:51:35.630609Z\", \"end_time\": \"2021-10-03T10:52:15.530147Z\", \"created_time\": \"2021-10-03T10:51:23.412134Z\", \"created_time_dt\": \"2021-10-03T10:51:23.412134Z\", \"duration\": \"0:00:52\", \"iteration\": \"13\", \"goal\": \"accuracy_max\", \"run_name\": \"StandardScalerWrapper, KNN\", \"run_properties\": \"\\n    copy=True,\\n    with_mean=False,\\n    with_std=True\\n\", \"primary_metric\": 0.71587571, \"best_metric\": 0.83271186}, {\"run_id\": \"AutoML_fa14536e-4625-40e7-a2bc-5285f16808f0_14\", \"run_number\": 19, \"metric\": null, \"status\": \"Completed\", \"run_type\": \"azureml.scriptrun\", \"training_percent\": \"100\", \"start_time\": \"2021-10-03T10:51:40.728466Z\", \"end_time\": \"2021-10-03T10:52:21.735031Z\", \"created_time\": \"2021-10-03T10:51:27.382012Z\", \"created_time_dt\": \"2021-10-03T10:51:27.382012Z\", \"duration\": \"0:00:54\", \"iteration\": \"14\", \"goal\": \"accuracy_max\", \"run_name\": \"RobustScaler, KNN\", \"run_properties\": \"copy=True, quantile_range=[10, 90], with_centering=False,\\n             with_scaling=True\", \"primary_metric\": 0.71576271, \"best_metric\": 0.83271186}, {\"run_id\": \"AutoML_fa14536e-4625-40e7-a2bc-5285f16808f0_15\", \"run_number\": 20, \"metric\": null, \"status\": \"Completed\", \"run_type\": \"azureml.scriptrun\", \"training_percent\": \"100\", \"start_time\": \"2021-10-03T10:51:38.589Z\", \"end_time\": \"2021-10-03T10:52:20.201613Z\", \"created_time\": \"2021-10-03T10:51:27.38417Z\", \"created_time_dt\": \"2021-10-03T10:51:27.38417Z\", \"duration\": \"0:00:52\", \"iteration\": \"15\", \"goal\": \"accuracy_max\", \"run_name\": \"MinMaxScaler, KNN\", \"run_properties\": \"copy=True, feature_range=(0, 1\", \"primary_metric\": 0.72248588, \"best_metric\": 0.83271186}, {\"run_id\": \"AutoML_fa14536e-4625-40e7-a2bc-5285f16808f0_16\", \"run_number\": 21, \"metric\": null, \"status\": \"Completed\", \"run_type\": \"azureml.scriptrun\", \"training_percent\": \"100\", \"start_time\": \"2021-10-03T10:52:12.819Z\", \"end_time\": \"2021-10-03T10:52:51.103296Z\", \"created_time\": \"2021-10-03T10:52:02.048679Z\", \"created_time_dt\": \"2021-10-03T10:52:02.048679Z\", \"duration\": \"0:00:49\", \"iteration\": \"16\", \"goal\": \"accuracy_max\", \"run_name\": \"SparseNormalizer, KNN\", \"run_properties\": \"copy=True, norm='max'\", \"primary_metric\": 0.7559887, \"best_metric\": 0.83271186}, {\"run_id\": \"AutoML_fa14536e-4625-40e7-a2bc-5285f16808f0_17\", \"run_number\": 22, \"metric\": null, \"status\": \"Completed\", \"run_type\": \"azureml.scriptrun\", \"training_percent\": \"100\", \"start_time\": \"2021-10-03T10:52:31.954826Z\", \"end_time\": \"2021-10-03T10:53:10.297168Z\", \"created_time\": \"2021-10-03T10:52:19.007662Z\", \"created_time_dt\": \"2021-10-03T10:52:19.007662Z\", \"duration\": \"0:00:51\", \"iteration\": \"17\", \"goal\": \"accuracy_max\", \"run_name\": \"MaxAbsScaler, LogisticRegression\", \"run_properties\": \"copy=True\", \"primary_metric\": 0.80610169, \"best_metric\": 0.83271186}, {\"run_id\": \"AutoML_fa14536e-4625-40e7-a2bc-5285f16808f0_18\", \"run_number\": 23, \"metric\": null, \"status\": \"Completed\", \"run_type\": \"azureml.scriptrun\", \"training_percent\": \"100\", \"start_time\": \"2021-10-03T10:52:36.889894Z\", \"end_time\": \"2021-10-03T10:53:17.874893Z\", \"created_time\": \"2021-10-03T10:52:23.104337Z\", \"created_time_dt\": \"2021-10-03T10:52:23.104337Z\", \"duration\": \"0:00:54\", \"iteration\": \"18\", \"goal\": \"accuracy_max\", \"run_name\": \"StandardScalerWrapper, XGBoostClassifier\", \"run_properties\": \"\\n    copy=True,\\n    with_mean=False,\\n    with_std=False\\n\", \"primary_metric\": 0.81610169, \"best_metric\": 0.83271186}, {\"run_id\": \"AutoML_fa14536e-4625-40e7-a2bc-5285f16808f0_19\", \"run_number\": 24, \"metric\": null, \"status\": \"Completed\", \"run_type\": \"azureml.scriptrun\", \"training_percent\": \"100\", \"start_time\": \"2021-10-03T10:52:37.168206Z\", \"end_time\": \"2021-10-03T10:53:19.229477Z\", \"created_time\": \"2021-10-03T10:52:27.298724Z\", \"created_time_dt\": \"2021-10-03T10:52:27.298724Z\", \"duration\": \"0:00:51\", \"iteration\": \"19\", \"goal\": \"accuracy_max\", \"run_name\": \"StandardScalerWrapper, XGBoostClassifier\", \"run_properties\": \"\\n    copy=True,\\n    with_mean=False,\\n    with_std=False\\n\", \"primary_metric\": 0.82271186, \"best_metric\": 0.83271186}, {\"run_id\": \"AutoML_fa14536e-4625-40e7-a2bc-5285f16808f0_20\", \"run_number\": 25, \"metric\": null, \"status\": \"Completed\", \"run_type\": \"azureml.scriptrun\", \"training_percent\": \"100\", \"start_time\": \"2021-10-03T10:53:05.461106Z\", \"end_time\": \"2021-10-03T10:53:45.449088Z\", \"created_time\": \"2021-10-03T10:52:54.008579Z\", \"created_time_dt\": \"2021-10-03T10:52:54.008579Z\", \"duration\": \"0:00:51\", \"iteration\": \"20\", \"goal\": \"accuracy_max\", \"run_name\": \"MaxAbsScaler, LogisticRegression\", \"run_properties\": \"copy=True\", \"primary_metric\": 0.8160452, \"best_metric\": 0.83271186}, {\"run_id\": \"AutoML_fa14536e-4625-40e7-a2bc-5285f16808f0_21\", \"run_number\": 26, \"metric\": null, \"status\": \"Completed\", \"run_type\": \"azureml.scriptrun\", \"training_percent\": \"100\", \"start_time\": \"2021-10-03T10:53:26.617367Z\", \"end_time\": \"2021-10-03T10:54:06.531078Z\", \"created_time\": \"2021-10-03T10:53:13.907762Z\", \"created_time_dt\": \"2021-10-03T10:53:13.907762Z\", \"duration\": \"0:00:52\", \"iteration\": \"21\", \"goal\": \"accuracy_max\", \"run_name\": \"StandardScalerWrapper, XGBoostClassifier\", \"run_properties\": \"\\n    copy=True,\\n    with_mean=False,\\n    with_std=False\\n\", \"primary_metric\": 0.8260452, \"best_metric\": 0.83271186}, {\"run_id\": \"AutoML_fa14536e-4625-40e7-a2bc-5285f16808f0_22\", \"run_number\": 27, \"metric\": null, \"status\": \"Completed\", \"run_type\": \"azureml.scriptrun\", \"training_percent\": \"100\", \"start_time\": \"2021-10-03T10:53:33.003818Z\", \"end_time\": \"2021-10-03T10:54:13.820773Z\", \"created_time\": \"2021-10-03T10:53:20.935509Z\", \"created_time_dt\": \"2021-10-03T10:53:20.935509Z\", \"duration\": \"0:00:52\", \"iteration\": \"22\", \"goal\": \"accuracy_max\", \"run_name\": \"SparseNormalizer, RandomForest\", \"run_properties\": \"copy=True, norm='l2'\", \"primary_metric\": 0.83627119, \"best_metric\": 0.83627119}, {\"run_id\": \"AutoML_fa14536e-4625-40e7-a2bc-5285f16808f0_23\", \"run_number\": 28, \"metric\": null, \"status\": \"Completed\", \"run_type\": \"azureml.scriptrun\", \"training_percent\": \"100\", \"start_time\": \"2021-10-03T10:53:37.936364Z\", \"end_time\": \"2021-10-03T10:54:16.132758Z\", \"created_time\": \"2021-10-03T10:53:24.599565Z\", \"created_time_dt\": \"2021-10-03T10:53:24.599565Z\", \"duration\": \"0:00:51\", \"iteration\": \"23\", \"goal\": \"accuracy_max\", \"run_name\": \"StandardScalerWrapper, RandomForest\", \"run_properties\": \"\\n    copy=True,\\n    with_mean=False,\\n    with_std=False\\n\", \"primary_metric\": 0.8360452, \"best_metric\": 0.83627119}, {\"run_id\": \"AutoML_fa14536e-4625-40e7-a2bc-5285f16808f0_24\", \"run_number\": 29, \"metric\": null, \"status\": \"Completed\", \"run_type\": \"azureml.scriptrun\", \"training_percent\": \"100\", \"start_time\": \"2021-10-03T10:54:00.25429Z\", \"end_time\": \"2021-10-03T10:54:38.279038Z\", \"created_time\": \"2021-10-03T10:53:48.244393Z\", \"created_time_dt\": \"2021-10-03T10:53:48.244393Z\", \"duration\": \"0:00:50\", \"iteration\": \"24\", \"goal\": \"accuracy_max\", \"run_name\": \"StandardScalerWrapper, XGBoostClassifier\", \"run_properties\": \"\\n    copy=True,\\n    with_mean=False,\\n    with_std=False\\n\", \"primary_metric\": 0.82937853, \"best_metric\": 0.83627119}, {\"run_id\": \"AutoML_fa14536e-4625-40e7-a2bc-5285f16808f0_25\", \"run_number\": 30, \"metric\": null, \"status\": \"Completed\", \"run_type\": \"azureml.scriptrun\", \"training_percent\": \"100\", \"start_time\": \"2021-10-03T10:54:20.365497Z\", \"end_time\": \"2021-10-03T10:55:05.188461Z\", \"created_time\": \"2021-10-03T10:54:09.968727Z\", \"created_time_dt\": \"2021-10-03T10:54:09.968727Z\", \"duration\": \"0:00:55\", \"iteration\": \"25\", \"goal\": \"accuracy_max\", \"run_name\": \"MinMaxScaler, LightGBM\", \"run_properties\": \"copy=True, feature_range=(0, 1\", \"primary_metric\": 0.82920904, \"best_metric\": 0.83627119}, {\"run_id\": \"AutoML_fa14536e-4625-40e7-a2bc-5285f16808f0_26\", \"run_number\": 31, \"metric\": null, \"status\": \"Completed\", \"run_type\": \"azureml.scriptrun\", \"training_percent\": \"100\", \"start_time\": \"2021-10-03T10:54:27.599139Z\", \"end_time\": \"2021-10-03T10:55:06.534817Z\", \"created_time\": \"2021-10-03T10:54:15.976192Z\", \"created_time_dt\": \"2021-10-03T10:54:15.976192Z\", \"duration\": \"0:00:50\", \"iteration\": \"26\", \"goal\": \"accuracy_max\", \"run_name\": \"SparseNormalizer, XGBoostClassifier\", \"run_properties\": \"copy=True, norm='l1'\", \"primary_metric\": 0.84966102, \"best_metric\": 0.84966102}, {\"run_id\": \"AutoML_fa14536e-4625-40e7-a2bc-5285f16808f0_27\", \"run_number\": 32, \"metric\": null, \"status\": \"Completed\", \"run_type\": \"azureml.scriptrun\", \"training_percent\": \"100\", \"start_time\": \"2021-10-03T10:54:30.655168Z\", \"end_time\": \"2021-10-03T10:55:11.064652Z\", \"created_time\": \"2021-10-03T10:54:18.76382Z\", \"created_time_dt\": \"2021-10-03T10:54:18.76382Z\", \"duration\": \"0:00:52\", \"iteration\": \"27\", \"goal\": \"accuracy_max\", \"run_name\": \"RobustScaler, RandomForest\", \"run_properties\": \"copy=True, quantile_range=[25, 75], with_centering=True,\\n             with_scaling=True\", \"primary_metric\": 0.83937853, \"best_metric\": 0.84966102}, {\"run_id\": \"AutoML_fa14536e-4625-40e7-a2bc-5285f16808f0_28\", \"run_number\": 33, \"metric\": null, \"status\": \"Completed\", \"run_type\": \"azureml.scriptrun\", \"training_percent\": \"100\", \"start_time\": \"2021-10-03T10:54:53.952503Z\", \"end_time\": \"2021-10-03T10:55:31.922973Z\", \"created_time\": \"2021-10-03T10:54:40.380331Z\", \"created_time_dt\": \"2021-10-03T10:54:40.380331Z\", \"duration\": \"0:00:51\", \"iteration\": \"28\", \"goal\": \"accuracy_max\", \"run_name\": \"MinMaxScaler, LightGBM\", \"run_properties\": \"copy=True, feature_range=(0, 1\", \"primary_metric\": 0.8360452, \"best_metric\": 0.84966102}, {\"run_id\": \"AutoML_fa14536e-4625-40e7-a2bc-5285f16808f0_29\", \"run_number\": 34, \"metric\": null, \"status\": \"Completed\", \"run_type\": \"azureml.scriptrun\", \"training_percent\": \"100\", \"start_time\": \"2021-10-03T10:55:18.057101Z\", \"end_time\": \"2021-10-03T10:55:56.679825Z\", \"created_time\": \"2021-10-03T10:55:07.267457Z\", \"created_time_dt\": \"2021-10-03T10:55:07.267457Z\", \"duration\": \"0:00:49\", \"iteration\": \"29\", \"goal\": \"accuracy_max\", \"run_name\": \"RobustScaler, LightGBM\", \"run_properties\": \"copy=True, quantile_range=[25, 75], with_centering=True,\\n             with_scaling=False\", \"primary_metric\": 0.83271186, \"best_metric\": 0.84966102}, {\"run_id\": \"AutoML_fa14536e-4625-40e7-a2bc-5285f16808f0_30\", \"run_number\": 35, \"metric\": null, \"status\": \"Completed\", \"run_type\": \"azureml.scriptrun\", \"training_percent\": \"100\", \"start_time\": \"2021-10-03T10:55:21.887455Z\", \"end_time\": \"2021-10-03T10:55:59.772667Z\", \"created_time\": \"2021-10-03T10:55:11.375725Z\", \"created_time_dt\": \"2021-10-03T10:55:11.375725Z\", \"duration\": \"0:00:48\", \"iteration\": \"30\", \"goal\": \"accuracy_max\", \"run_name\": \"TruncatedSVDWrapper, XGBoostClassifier\", \"run_properties\": \"n_components=0.8510526315789474, random_state=None\", \"primary_metric\": 0.67909605, \"best_metric\": 0.84966102}, {\"run_id\": \"AutoML_fa14536e-4625-40e7-a2bc-5285f16808f0_31\", \"run_number\": 36, \"metric\": null, \"status\": \"Completed\", \"run_type\": \"azureml.scriptrun\", \"training_percent\": \"100\", \"start_time\": \"2021-10-03T10:55:27.279106Z\", \"end_time\": \"2021-10-03T10:56:10.656443Z\", \"created_time\": \"2021-10-03T10:55:14.931037Z\", \"created_time_dt\": \"2021-10-03T10:55:14.931037Z\", \"duration\": \"0:00:55\", \"iteration\": \"31\", \"goal\": \"accuracy_max\", \"run_name\": \"RobustScaler, RandomForest\", \"run_properties\": \"copy=True, quantile_range=[25, 75], with_centering=True,\\n             with_scaling=False\", \"primary_metric\": 0.83271186, \"best_metric\": 0.84966102}, {\"run_id\": \"AutoML_fa14536e-4625-40e7-a2bc-5285f16808f0_32\", \"run_number\": 37, \"metric\": null, \"status\": \"Completed\", \"run_type\": \"azureml.scriptrun\", \"training_percent\": \"100\", \"start_time\": \"2021-10-03T10:55:46.315004Z\", \"end_time\": \"2021-10-03T10:56:23.632457Z\", \"created_time\": \"2021-10-03T10:55:34.393877Z\", \"created_time_dt\": \"2021-10-03T10:55:34.393877Z\", \"duration\": \"0:00:49\", \"iteration\": \"32\", \"goal\": \"accuracy_max\", \"run_name\": \"SparseNormalizer, XGBoostClassifier\", \"run_properties\": \"copy=True, norm='l1'\", \"primary_metric\": 0.84271186, \"best_metric\": 0.84966102}, {\"run_id\": \"AutoML_fa14536e-4625-40e7-a2bc-5285f16808f0_33\", \"run_number\": 38, \"metric\": null, \"status\": \"Completed\", \"run_type\": \"azureml.scriptrun\", \"training_percent\": \"100\", \"start_time\": \"2021-10-03T10:56:13.561641Z\", \"end_time\": \"2021-10-03T10:56:53.970395Z\", \"created_time\": \"2021-10-03T10:55:58.677098Z\", \"created_time_dt\": \"2021-10-03T10:55:58.677098Z\", \"duration\": \"0:00:55\", \"iteration\": \"33\", \"goal\": \"accuracy_max\", \"run_name\": \"StandardScalerWrapper, XGBoostClassifier\", \"run_properties\": \"\\n    copy=True,\\n    with_mean=False,\\n    with_std=False\\n\", \"primary_metric\": 0.83932203, \"best_metric\": 0.84966102}, {\"run_id\": \"AutoML_fa14536e-4625-40e7-a2bc-5285f16808f0_34\", \"run_number\": 39, \"metric\": null, \"status\": \"Completed\", \"run_type\": \"azureml.scriptrun\", \"training_percent\": \"100\", \"start_time\": \"2021-10-03T10:56:13.658861Z\", \"end_time\": \"2021-10-03T10:56:54.437507Z\", \"created_time\": \"2021-10-03T10:56:02.085509Z\", \"created_time_dt\": \"2021-10-03T10:56:02.085509Z\", \"duration\": \"0:00:52\", \"iteration\": \"34\", \"goal\": \"accuracy_max\", \"run_name\": \"StandardScalerWrapper, XGBoostClassifier\", \"run_properties\": \"\\n    copy=True,\\n    with_mean=False,\\n    with_std=False\\n\", \"primary_metric\": 0.81271186, \"best_metric\": 0.84966102}, {\"run_id\": \"AutoML_fa14536e-4625-40e7-a2bc-5285f16808f0_35\", \"run_number\": 40, \"metric\": null, \"status\": \"Completed\", \"run_type\": \"azureml.scriptrun\", \"training_percent\": \"100\", \"start_time\": \"2021-10-03T10:56:25.696825Z\", \"end_time\": \"2021-10-03T10:57:06.851217Z\", \"created_time\": \"2021-10-03T10:56:13.868617Z\", \"created_time_dt\": \"2021-10-03T10:56:13.868617Z\", \"duration\": \"0:00:52\", \"iteration\": \"35\", \"goal\": \"accuracy_max\", \"run_name\": \"PCA, XGBoostClassifier\", \"run_properties\": \"copy=True, iterated_power='auto', n_components=0.15842105263157896,\\n    random_state=None, svd_solver='auto', tol=0.0, whiten=False\", \"primary_metric\": 0.66903955, \"best_metric\": 0.84966102}, {\"run_id\": \"AutoML_fa14536e-4625-40e7-a2bc-5285f16808f0_36\", \"run_number\": 41, \"metric\": null, \"status\": \"Completed\", \"run_type\": \"azureml.scriptrun\", \"training_percent\": \"100\", \"start_time\": \"2021-10-03T10:56:40.186435Z\", \"end_time\": \"2021-10-03T10:57:18.587958Z\", \"created_time\": \"2021-10-03T10:56:25.624738Z\", \"created_time_dt\": \"2021-10-03T10:56:25.624738Z\", \"duration\": \"0:00:52\", \"iteration\": \"36\", \"goal\": \"accuracy_max\", \"run_name\": \"SparseNormalizer, XGBoostClassifier\", \"run_properties\": \"copy=True, norm='l1'\", \"primary_metric\": 0.85299435, \"best_metric\": 0.85299435}, {\"run_id\": \"AutoML_fa14536e-4625-40e7-a2bc-5285f16808f0_37\", \"run_number\": 42, \"metric\": null, \"status\": \"Completed\", \"run_type\": \"azureml.scriptrun\", \"training_percent\": \"100\", \"start_time\": \"2021-10-03T10:57:11.564227Z\", \"end_time\": \"2021-10-03T10:57:52.330484Z\", \"created_time\": \"2021-10-03T10:56:58.867869Z\", \"created_time_dt\": \"2021-10-03T10:56:58.867869Z\", \"duration\": \"0:00:53\", \"iteration\": \"37\", \"goal\": \"accuracy_max\", \"run_name\": \"SparseNormalizer, XGBoostClassifier\", \"run_properties\": \"copy=True, norm='l2'\", \"primary_metric\": 0.85293785, \"best_metric\": 0.85299435}, {\"run_id\": \"AutoML_fa14536e-4625-40e7-a2bc-5285f16808f0_38\", \"run_number\": 43, \"metric\": null, \"status\": \"Completed\", \"run_type\": \"azureml.scriptrun\", \"training_percent\": \"100\", \"start_time\": \"2021-10-03T10:58:03.617334Z\", \"end_time\": \"2021-10-03T10:59:04.176342Z\", \"created_time\": \"2021-10-03T10:57:53.194384Z\", \"created_time_dt\": \"2021-10-03T10:57:53.194384Z\", \"duration\": \"0:01:10\", \"iteration\": \"38\", \"goal\": \"accuracy_max\", \"run_name\": \"VotingEnsemble\", \"run_properties\": \"\\n    estimators=[('36', Pipeline(\\n        memory=None,\\n        steps=[('sparsenormalizer', Normalizer(\\n            copy=True,\\n            norm='l1'\\n        \", \"primary_metric\": 0.87971751, \"best_metric\": 0.87971751}, {\"run_id\": \"AutoML_fa14536e-4625-40e7-a2bc-5285f16808f0_39\", \"run_number\": 44, \"metric\": null, \"status\": \"Completed\", \"run_type\": \"azureml.scriptrun\", \"training_percent\": \"100\", \"start_time\": \"2021-10-03T10:58:02.708009Z\", \"end_time\": \"2021-10-03T10:59:02.418679Z\", \"created_time\": \"2021-10-03T10:57:53.228836Z\", \"created_time_dt\": \"2021-10-03T10:57:53.228836Z\", \"duration\": \"0:01:09\", \"iteration\": \"39\", \"goal\": \"accuracy_max\", \"run_name\": \"StackEnsemble\", \"run_properties\": \"\\n    base_learners=[('36', Pipeline(\\n        memory=None,\\n        steps=[('sparsenormalizer', Normalizer(\\n            copy=True,\\n            norm='l1'\\n        \", \"primary_metric\": 0.86288136, \"best_metric\": 0.87971751}], \"children_metrics\": {\"categories\": [0], \"series\": {\"precision_score_weighted\": [{\"categories\": [\"0\", \"1\", \"2\", \"3\", \"4\", \"5\", \"6\", \"7\", \"8\", \"9\", \"10\", \"11\", \"12\", \"13\", \"14\", \"15\", \"16\", \"17\", \"18\", \"19\", \"20\", \"21\", \"22\", \"23\", \"24\", \"25\", \"26\", \"27\", \"28\", \"29\", \"30\", \"31\", \"32\", \"33\", \"34\", \"35\", \"36\", \"37\", \"38\", \"39\"], \"mode\": \"markers\", \"name\": \"precision_score_weighted\", \"stepped\": false, \"type\": \"scatter\", \"data\": [0.8237683758533973, 0.8403871377947292, 0.8357827505838478, 0.8268271883910764, 0.6025373161546221, 0.8463207545202849, 0.8281063748160429, 0.8265149502904204, 0.5927973464058581, 0.7483025392840745, 0.8168124593962638, 0.8477778794528978, 0.806622168208135, 0.7887675256717677, 0.7150657287397069, 0.7426049843218337, 0.7632419761778855, 0.833293551294392, 0.8302714380811536, 0.8358058094088389, 0.8407374045536857, 0.8398329903945232, 0.8514377478862176, 0.8516877843965378, 0.8409194406074952, 0.8409305215951456, 0.8662021390324638, 0.8499040739325874, 0.8477966743810518, 0.8454591561909017, 0.4689005075169971, 0.8467112972728301, 0.8583205975192569, 0.8534487046911513, 0.824713901184125, 0.5124565664437084, 0.8680274111450916, 0.8687219599958009, 0.8978397339447616, 0.8870668232083716]}, {\"categories\": [\"0\", \"1\", \"2\", \"3\", \"4\", \"5\", \"6\", \"7\", \"8\", \"9\", \"10\", \"11\", \"12\", \"13\", \"14\", \"15\", \"16\", \"17\", \"18\", \"19\", \"20\", \"21\", \"22\", \"23\", \"24\", \"25\", \"26\", \"27\", \"28\", \"29\", \"30\", \"31\", \"32\", \"33\", \"34\", \"35\", \"36\", \"37\", \"38\", \"39\"], \"mode\": \"lines\", \"name\": \"precision_score_weighted_max\", \"stepped\": true, \"type\": \"scatter\", \"data\": [0.8237683758533973, 0.8403871377947292, 0.8403871377947292, 0.8403871377947292, 0.8403871377947292, 0.8463207545202849, 0.8463207545202849, 0.8463207545202849, 0.8463207545202849, 0.8463207545202849, 0.8463207545202849, 0.8477778794528978, 0.8477778794528978, 0.8477778794528978, 0.8477778794528978, 0.8477778794528978, 0.8477778794528978, 0.8477778794528978, 0.8477778794528978, 0.8477778794528978, 0.8477778794528978, 0.8477778794528978, 0.8514377478862176, 0.8516877843965378, 0.8516877843965378, 0.8516877843965378, 0.8662021390324638, 0.8662021390324638, 0.8662021390324638, 0.8662021390324638, 0.8662021390324638, 0.8662021390324638, 0.8662021390324638, 0.8662021390324638, 0.8662021390324638, 0.8662021390324638, 0.8680274111450916, 0.8687219599958009, 0.8978397339447616, 0.8978397339447616]}], \"f1_score_weighted\": [{\"categories\": [\"0\", \"1\", \"2\", \"3\", \"4\", \"5\", \"6\", \"7\", \"8\", \"9\", \"10\", \"11\", \"12\", \"13\", \"14\", \"15\", \"16\", \"17\", \"18\", \"19\", \"20\", \"21\", \"22\", \"23\", \"24\", \"25\", \"26\", \"27\", \"28\", \"29\", \"30\", \"31\", \"32\", \"33\", \"34\", \"35\", \"36\", \"37\", \"38\", \"39\"], \"mode\": \"markers\", \"name\": \"f1_score_weighted\", \"stepped\": false, \"type\": \"scatter\", \"data\": [0.8014398448329555, 0.8237396450256732, 0.8251115693699255, 0.8084419494229605, 0.5910605032905336, 0.8287875880257454, 0.7912950576013326, 0.7961958449639728, 0.5857212369079046, 0.7098538212625014, 0.800109721497033, 0.8298384486062126, 0.755326595342204, 0.6381779049705767, 0.69531722980639, 0.6769961870192459, 0.7299998975946155, 0.7983360665860388, 0.8075245232937089, 0.8177843337526864, 0.8111375615251999, 0.8220989128019113, 0.8356797403807258, 0.8226688304878176, 0.828232403292783, 0.8255816295721903, 0.8468546532849048, 0.8376920212987929, 0.829975741523706, 0.8288197529089534, 0.5526564268547016, 0.8288597172520611, 0.833212708874443, 0.8365072247603381, 0.8034875404739996, 0.5624195855334444, 0.8485482290399329, 0.8492650921171891, 0.8755182681309363, 0.8546764609551948]}, {\"categories\": [\"0\", \"1\", \"2\", \"3\", \"4\", \"5\", \"6\", \"7\", \"8\", \"9\", \"10\", \"11\", \"12\", \"13\", \"14\", \"15\", \"16\", \"17\", \"18\", \"19\", \"20\", \"21\", \"22\", \"23\", \"24\", \"25\", \"26\", \"27\", \"28\", \"29\", \"30\", \"31\", \"32\", \"33\", \"34\", \"35\", \"36\", \"37\", \"38\", \"39\"], \"mode\": \"lines\", \"name\": \"f1_score_weighted_max\", \"stepped\": true, \"type\": \"scatter\", \"data\": [0.8014398448329555, 0.8237396450256732, 0.8251115693699255, 0.8251115693699255, 0.8251115693699255, 0.8287875880257454, 0.8287875880257454, 0.8287875880257454, 0.8287875880257454, 0.8287875880257454, 0.8287875880257454, 0.8298384486062126, 0.8298384486062126, 0.8298384486062126, 0.8298384486062126, 0.8298384486062126, 0.8298384486062126, 0.8298384486062126, 0.8298384486062126, 0.8298384486062126, 0.8298384486062126, 0.8298384486062126, 0.8356797403807258, 0.8356797403807258, 0.8356797403807258, 0.8356797403807258, 0.8468546532849048, 0.8468546532849048, 0.8468546532849048, 0.8468546532849048, 0.8468546532849048, 0.8468546532849048, 0.8468546532849048, 0.8468546532849048, 0.8468546532849048, 0.8468546532849048, 0.8485482290399329, 0.8492650921171891, 0.8755182681309363, 0.8755182681309363]}], \"average_precision_score_micro\": [{\"categories\": [\"0\", \"1\", \"2\", \"3\", \"4\", \"5\", \"6\", \"7\", \"8\", \"9\", \"10\", \"11\", \"12\", \"13\", \"14\", \"15\", \"16\", \"17\", \"18\", \"19\", \"20\", \"21\", \"22\", \"23\", \"24\", \"25\", \"26\", \"27\", \"28\", \"29\", \"30\", \"31\", \"32\", \"33\", \"34\", \"35\", \"36\", \"37\", \"38\", \"39\"], \"mode\": \"markers\", \"name\": \"average_precision_score_micro\", \"stepped\": false, \"type\": \"scatter\", \"data\": [0.887958292631032, 0.9018582931163117, 0.8831815562006886, 0.8740955253090734, 0.5891536084427456, 0.9053017810581301, 0.8607848079978171, 0.8864001952177704, 0.6167779029691036, 0.8085782510046139, 0.8902918730340199, 0.9103865760138623, 0.825043727238277, 0.8290316423852235, 0.7518926280264624, 0.7389147548518208, 0.7950410822884255, 0.8838790578102869, 0.8960900582157466, 0.898730877833982, 0.8798593368124621, 0.9026682412433846, 0.9011127324733994, 0.9004895534283696, 0.9076890811500663, 0.9000195745397992, 0.9020339753477788, 0.9197760890995609, 0.8896459617458975, 0.8995851570195796, 0.6293524849181271, 0.9071514464506631, 0.8926009274530591, 0.9137941696914865, 0.9038187773250825, 0.6581351087486264, 0.907488669159226, 0.9013744629475123, 0.9125744519302705, 0.9076637545587488]}, {\"categories\": [\"0\", \"1\", \"2\", \"3\", \"4\", \"5\", \"6\", \"7\", \"8\", \"9\", \"10\", \"11\", \"12\", \"13\", \"14\", \"15\", \"16\", \"17\", \"18\", \"19\", \"20\", \"21\", \"22\", \"23\", \"24\", \"25\", \"26\", \"27\", \"28\", \"29\", \"30\", \"31\", \"32\", \"33\", \"34\", \"35\", \"36\", \"37\", \"38\", \"39\"], \"mode\": \"lines\", \"name\": \"average_precision_score_micro_max\", \"stepped\": true, \"type\": \"scatter\", \"data\": [0.887958292631032, 0.9018582931163117, 0.9018582931163117, 0.9018582931163117, 0.9018582931163117, 0.9053017810581301, 0.9053017810581301, 0.9053017810581301, 0.9053017810581301, 0.9053017810581301, 0.9053017810581301, 0.9103865760138623, 0.9103865760138623, 0.9103865760138623, 0.9103865760138623, 0.9103865760138623, 0.9103865760138623, 0.9103865760138623, 0.9103865760138623, 0.9103865760138623, 0.9103865760138623, 0.9103865760138623, 0.9103865760138623, 0.9103865760138623, 0.9103865760138623, 0.9103865760138623, 0.9103865760138623, 0.9197760890995609, 0.9197760890995609, 0.9197760890995609, 0.9197760890995609, 0.9197760890995609, 0.9197760890995609, 0.9197760890995609, 0.9197760890995609, 0.9197760890995609, 0.9197760890995609, 0.9197760890995609, 0.9197760890995609, 0.9197760890995609]}], \"average_precision_score_macro\": [{\"categories\": [\"0\", \"1\", \"2\", \"3\", \"4\", \"5\", \"6\", \"7\", \"8\", \"9\", \"10\", \"11\", \"12\", \"13\", \"14\", \"15\", \"16\", \"17\", \"18\", \"19\", \"20\", \"21\", \"22\", \"23\", \"24\", \"25\", \"26\", \"27\", \"28\", \"29\", \"30\", \"31\", \"32\", \"33\", \"34\", \"35\", \"36\", \"37\", \"38\", \"39\"], \"mode\": \"markers\", \"name\": \"average_precision_score_macro\", \"stepped\": false, \"type\": \"scatter\", \"data\": [0.8655792376041671, 0.8826936933050062, 0.8585840309276225, 0.8447803510206733, 0.5420694554890382, 0.888489106911827, 0.8494323065253011, 0.8847186108771652, 0.5577980031402058, 0.7604538221361044, 0.8603047764047804, 0.9033501207172894, 0.8513333764040818, 0.802274721937345, 0.6774235697590012, 0.6622626675995853, 0.7483216427396969, 0.8603704728294751, 0.8753200671094394, 0.8765071084878769, 0.8517807213547188, 0.8743919902746728, 0.8716412917167851, 0.8883524821108958, 0.889423593470639, 0.8751709827884339, 0.8787061365797756, 0.9018832927936737, 0.8681082572398084, 0.8823670490116002, 0.5, 0.8897554352779204, 0.8658614912685009, 0.8900696693062194, 0.8804368474262791, 0.5211455072491287, 0.885568465798813, 0.8777807341417148, 0.8890097891117617, 0.8981903783787526]}, {\"categories\": [\"0\", \"1\", \"2\", \"3\", \"4\", \"5\", \"6\", \"7\", \"8\", \"9\", \"10\", \"11\", \"12\", \"13\", \"14\", \"15\", \"16\", \"17\", \"18\", \"19\", \"20\", \"21\", \"22\", \"23\", \"24\", \"25\", \"26\", \"27\", \"28\", \"29\", \"30\", \"31\", \"32\", \"33\", \"34\", \"35\", \"36\", \"37\", \"38\", \"39\"], \"mode\": \"lines\", \"name\": \"average_precision_score_macro_max\", \"stepped\": true, \"type\": \"scatter\", \"data\": [0.8655792376041671, 0.8826936933050062, 0.8826936933050062, 0.8826936933050062, 0.8826936933050062, 0.888489106911827, 0.888489106911827, 0.888489106911827, 0.888489106911827, 0.888489106911827, 0.888489106911827, 0.9033501207172894, 0.9033501207172894, 0.9033501207172894, 0.9033501207172894, 0.9033501207172894, 0.9033501207172894, 0.9033501207172894, 0.9033501207172894, 0.9033501207172894, 0.9033501207172894, 0.9033501207172894, 0.9033501207172894, 0.9033501207172894, 0.9033501207172894, 0.9033501207172894, 0.9033501207172894, 0.9033501207172894, 0.9033501207172894, 0.9033501207172894, 0.9033501207172894, 0.9033501207172894, 0.9033501207172894, 0.9033501207172894, 0.9033501207172894, 0.9033501207172894, 0.9033501207172894, 0.9033501207172894, 0.9033501207172894, 0.9033501207172894]}], \"matthews_correlation\": [{\"categories\": [\"0\", \"1\", \"2\", \"3\", \"4\", \"5\", \"6\", \"7\", \"8\", \"9\", \"10\", \"11\", \"12\", \"13\", \"14\", \"15\", \"16\", \"17\", \"18\", \"19\", \"20\", \"21\", \"22\", \"23\", \"24\", \"25\", \"26\", \"27\", \"28\", \"29\", \"30\", \"31\", \"32\", \"33\", \"34\", \"35\", \"36\", \"37\", \"38\", \"39\"], \"mode\": \"markers\", \"name\": \"matthews_correlation\", \"stepped\": false, \"type\": \"scatter\", \"data\": [0.5628617041183437, 0.6132552509330647, 0.598831886408233, 0.5597681634621888, 0.06752574457689178, 0.619433279846955, 0.5556865630828713, 0.5585776186011578, 0.046261551505941925, 0.37419795520555005, 0.5513833390005456, 0.6219020199323161, 0.5011723872146427, 0.27605922384771936, 0.29166248384656, 0.29705877685340754, 0.40272483788096824, 0.5697781722393639, 0.5766752677789228, 0.5898088387474512, 0.5903431657959342, 0.6046242692468607, 0.6359153861382375, 0.6142534125667224, 0.610700389814898, 0.6016549814817644, 0.6637962999066619, 0.6328292431385422, 0.6221830703805049, 0.6225719233696677, 0.0, 0.6200546042430699, 0.6347401274926293, 0.6345228004784262, 0.5668623398756886, 0.019226472290287254, 0.6658801082084562, 0.6674777966336382, 0.737022258585793, 0.6988730882726979]}, {\"categories\": [\"0\", \"1\", \"2\", \"3\", \"4\", \"5\", \"6\", \"7\", \"8\", \"9\", \"10\", \"11\", \"12\", \"13\", \"14\", \"15\", \"16\", \"17\", \"18\", \"19\", \"20\", \"21\", \"22\", \"23\", \"24\", \"25\", \"26\", \"27\", \"28\", \"29\", \"30\", \"31\", \"32\", \"33\", \"34\", \"35\", \"36\", \"37\", \"38\", \"39\"], \"mode\": \"lines\", \"name\": \"matthews_correlation_max\", \"stepped\": true, \"type\": \"scatter\", \"data\": [0.5628617041183437, 0.6132552509330647, 0.6132552509330647, 0.6132552509330647, 0.6132552509330647, 0.619433279846955, 0.619433279846955, 0.619433279846955, 0.619433279846955, 0.619433279846955, 0.619433279846955, 0.6219020199323161, 0.6219020199323161, 0.6219020199323161, 0.6219020199323161, 0.6219020199323161, 0.6219020199323161, 0.6219020199323161, 0.6219020199323161, 0.6219020199323161, 0.6219020199323161, 0.6219020199323161, 0.6359153861382375, 0.6359153861382375, 0.6359153861382375, 0.6359153861382375, 0.6637962999066619, 0.6637962999066619, 0.6637962999066619, 0.6637962999066619, 0.6637962999066619, 0.6637962999066619, 0.6637962999066619, 0.6637962999066619, 0.6637962999066619, 0.6637962999066619, 0.6658801082084562, 0.6674777966336382, 0.737022258585793, 0.737022258585793]}], \"average_precision_score_weighted\": [{\"categories\": [\"0\", \"1\", \"2\", \"3\", \"4\", \"5\", \"6\", \"7\", \"8\", \"9\", \"10\", \"11\", \"12\", \"13\", \"14\", \"15\", \"16\", \"17\", \"18\", \"19\", \"20\", \"21\", \"22\", \"23\", \"24\", \"25\", \"26\", \"27\", \"28\", \"29\", \"30\", \"31\", \"32\", \"33\", \"34\", \"35\", \"36\", \"37\", \"38\", \"39\"], \"mode\": \"markers\", \"name\": \"average_precision_score_weighted\", \"stepped\": false, \"type\": \"scatter\", \"data\": [0.8955370396295249, 0.9103506263314479, 0.8913471716330404, 0.8762444323116494, 0.5926471514879754, 0.9127723126688988, 0.8861849613448267, 0.9094432750124426, 0.6075952078012811, 0.8120312647079938, 0.8917348208961402, 0.9247071517776526, 0.88110720897969, 0.8482727636687125, 0.7408092805672116, 0.7247910606651575, 0.789890003910042, 0.8909926242029712, 0.9009389584590561, 0.906493892077382, 0.8869727690851625, 0.9031207904876488, 0.9004964705198653, 0.9127294707814964, 0.9139469925901326, 0.904871503374646, 0.9061696688190407, 0.9265838762752547, 0.895901918993799, 0.9085419462050058, 0.5796089246385138, 0.9134238045271921, 0.8948823569349745, 0.9189109653723474, 0.910383794113873, 0.5978596674723675, 0.9144105350843319, 0.9044382159410042, 0.9159557818244755, 0.9244084614804612]}, {\"categories\": [\"0\", \"1\", \"2\", \"3\", \"4\", \"5\", \"6\", \"7\", \"8\", \"9\", \"10\", \"11\", \"12\", \"13\", \"14\", \"15\", \"16\", \"17\", \"18\", \"19\", \"20\", \"21\", \"22\", \"23\", \"24\", \"25\", \"26\", \"27\", \"28\", \"29\", \"30\", \"31\", \"32\", \"33\", \"34\", \"35\", \"36\", \"37\", \"38\", \"39\"], \"mode\": \"lines\", \"name\": \"average_precision_score_weighted_max\", \"stepped\": true, \"type\": \"scatter\", \"data\": [0.8955370396295249, 0.9103506263314479, 0.9103506263314479, 0.9103506263314479, 0.9103506263314479, 0.9127723126688988, 0.9127723126688988, 0.9127723126688988, 0.9127723126688988, 0.9127723126688988, 0.9127723126688988, 0.9247071517776526, 0.9247071517776526, 0.9247071517776526, 0.9247071517776526, 0.9247071517776526, 0.9247071517776526, 0.9247071517776526, 0.9247071517776526, 0.9247071517776526, 0.9247071517776526, 0.9247071517776526, 0.9247071517776526, 0.9247071517776526, 0.9247071517776526, 0.9247071517776526, 0.9247071517776526, 0.9265838762752547, 0.9265838762752547, 0.9265838762752547, 0.9265838762752547, 0.9265838762752547, 0.9265838762752547, 0.9265838762752547, 0.9265838762752547, 0.9265838762752547, 0.9265838762752547, 0.9265838762752547, 0.9265838762752547, 0.9265838762752547]}], \"precision_score_binary\": [{\"categories\": [\"0\", \"1\", \"2\", \"3\", \"4\", \"5\", \"6\", \"7\", \"8\", \"9\", \"10\", \"11\", \"12\", \"13\", \"14\", \"15\", \"16\", \"17\", \"18\", \"19\", \"20\", \"21\", \"22\", \"23\", \"24\", \"25\", \"26\", \"27\", \"28\", \"29\", \"30\", \"31\", \"32\", \"33\", \"34\", \"35\", \"36\", \"37\", \"38\", \"39\"], \"mode\": \"markers\", \"name\": \"precision_score_binary\", \"stepped\": false, \"type\": \"scatter\", \"data\": [0.7324175824175824, 0.7584817542577673, 0.6997102854519734, 0.7700524475524475, 0.37103174603174605, 0.7786967418546366, 0.6483303624480093, 0.8228438228438228, 0.3568754774637128, 0.6321746031746033, 0.7441649578491683, 0.7058240165631471, 0.5595628086983585, 0.9, 0.5933333333333334, 0.7033333333333334, 0.7580952380952382, 0.768716577540107, 0.7965126050420167, 0.7802916038210156, 0.7624811463046758, 0.7690476190476191, 0.7604270858140828, 0.8866750208855472, 0.75126559714795, 0.7618470418470418, 0.8200159489633174, 0.7701465941067501, 0.8086996336996337, 0.7776556776556777, 0.0, 0.7801587301587302, 0.8492513334618597, 0.7669979296066253, 0.8057631257631257, 0.18, 0.8396896086369772, 0.833572567783094, 0.8893152613976412, 0.8893152613976412]}, {\"categories\": [\"0\", \"1\", \"2\", \"3\", \"4\", \"5\", \"6\", \"7\", \"8\", \"9\", \"10\", \"11\", \"12\", \"13\", \"14\", \"15\", \"16\", \"17\", \"18\", \"19\", \"20\", \"21\", \"22\", \"23\", \"24\", \"25\", \"26\", \"27\", \"28\", \"29\", \"30\", \"31\", \"32\", \"33\", \"34\", \"35\", \"36\", \"37\", \"38\", \"39\"], \"mode\": \"lines\", \"name\": \"precision_score_binary_max\", \"stepped\": true, \"type\": \"scatter\", \"data\": [0.7324175824175824, 0.7584817542577673, 0.7584817542577673, 0.7700524475524475, 0.7700524475524475, 0.7786967418546366, 0.7786967418546366, 0.8228438228438228, 0.8228438228438228, 0.8228438228438228, 0.8228438228438228, 0.8228438228438228, 0.8228438228438228, 0.9, 0.9, 0.9, 0.9, 0.9, 0.9, 0.9, 0.9, 0.9, 0.9, 0.9, 0.9, 0.9, 0.9, 0.9, 0.9, 0.9, 0.9, 0.9, 0.9, 0.9, 0.9, 0.9, 0.9, 0.9, 0.9, 0.9]}], \"recall_score_weighted\": [{\"categories\": [\"0\", \"1\", \"2\", \"3\", \"4\", \"5\", \"6\", \"7\", \"8\", \"9\", \"10\", \"11\", \"12\", \"13\", \"14\", \"15\", \"16\", \"17\", \"18\", \"19\", \"20\", \"21\", \"22\", \"23\", \"24\", \"25\", \"26\", \"27\", \"28\", \"29\", \"30\", \"31\", \"32\", \"33\", \"34\", \"35\", \"36\", \"37\", \"38\", \"39\"], \"mode\": \"markers\", \"name\": \"recall_score_weighted\", \"stepped\": false, \"type\": \"scatter\", \"data\": [0.8059887005649717, 0.8259322033898304, 0.8226553672316383, 0.8161581920903955, 0.6019209039548021, 0.8327118644067797, 0.7858757062146893, 0.8093785310734465, 0.6019209039548024, 0.7290395480225988, 0.8059887005649717, 0.8258192090395481, 0.7455932203389831, 0.7158757062146892, 0.7157627118644068, 0.7224858757062147, 0.7559887005649718, 0.8061016949152542, 0.8161016949152543, 0.8227118644067797, 0.8160451977401131, 0.8260451977401131, 0.836271186440678, 0.836045197740113, 0.8293785310734464, 0.8292090395480226, 0.8496610169491525, 0.8393785310734463, 0.836045197740113, 0.8327118644067795, 0.67909604519774, 0.8327118644067797, 0.8427118644067797, 0.8393220338983051, 0.8127118644067796, 0.6690395480225988, 0.8529943502824858, 0.8529378531073446, 0.8797175141242939, 0.8628813559322033]}, {\"categories\": [\"0\", \"1\", \"2\", \"3\", \"4\", \"5\", \"6\", \"7\", \"8\", \"9\", \"10\", \"11\", \"12\", \"13\", \"14\", \"15\", \"16\", \"17\", \"18\", \"19\", \"20\", \"21\", \"22\", \"23\", \"24\", \"25\", \"26\", \"27\", \"28\", \"29\", \"30\", \"31\", \"32\", \"33\", \"34\", \"35\", \"36\", \"37\", \"38\", \"39\"], \"mode\": \"lines\", \"name\": \"recall_score_weighted_max\", \"stepped\": true, \"type\": \"scatter\", \"data\": [0.8059887005649717, 0.8259322033898304, 0.8259322033898304, 0.8259322033898304, 0.8259322033898304, 0.8327118644067797, 0.8327118644067797, 0.8327118644067797, 0.8327118644067797, 0.8327118644067797, 0.8327118644067797, 0.8327118644067797, 0.8327118644067797, 0.8327118644067797, 0.8327118644067797, 0.8327118644067797, 0.8327118644067797, 0.8327118644067797, 0.8327118644067797, 0.8327118644067797, 0.8327118644067797, 0.8327118644067797, 0.836271186440678, 0.836271186440678, 0.836271186440678, 0.836271186440678, 0.8496610169491525, 0.8496610169491525, 0.8496610169491525, 0.8496610169491525, 0.8496610169491525, 0.8496610169491525, 0.8496610169491525, 0.8496610169491525, 0.8496610169491525, 0.8496610169491525, 0.8529943502824858, 0.8529943502824858, 0.8797175141242939, 0.8797175141242939]}], \"recall_score_binary\": [{\"categories\": [\"0\", \"1\", \"2\", \"3\", \"4\", \"5\", \"6\", \"7\", \"8\", \"9\", \"10\", \"11\", \"12\", \"13\", \"14\", \"15\", \"16\", \"17\", \"18\", \"19\", \"20\", \"21\", \"22\", \"23\", \"24\", \"25\", \"26\", \"27\", \"28\", \"29\", \"30\", \"31\", \"32\", \"33\", \"34\", \"35\", \"36\", \"37\", \"38\", \"39\"], \"mode\": \"markers\", \"name\": \"recall_score_binary\", \"stepped\": false, \"type\": \"scatter\", \"data\": [0.6682142857142856, 0.7183333333333334, 0.7645238095238096, 0.6007142857142858, 0.32071428571428573, 0.6945238095238095, 0.7802380952380952, 0.5510714285714287, 0.28404761904761905, 0.4895238095238096, 0.6341666666666667, 0.7995238095238095, 0.848452380952381, 0.13690476190476192, 0.3685714285714286, 0.2598809523809524, 0.38392857142857145, 0.6405952380952381, 0.6170238095238096, 0.6449999999999999, 0.6748809523809524, 0.6845238095238095, 0.7513095238095239, 0.5711904761904762, 0.715952380952381, 0.6799999999999999, 0.7213095238095238, 0.7259523809523809, 0.6620238095238096, 0.7045238095238096, 0.0, 0.6945238095238095, 0.6416666666666668, 0.7291666666666667, 0.5853571428571429, 0.041666666666666664, 0.6975, 0.7088095238095239, 0.7541666666666667, 0.7023809523809523]}, {\"categories\": [\"0\", \"1\", \"2\", \"3\", \"4\", \"5\", \"6\", \"7\", \"8\", \"9\", \"10\", \"11\", \"12\", \"13\", \"14\", \"15\", \"16\", \"17\", \"18\", \"19\", \"20\", \"21\", \"22\", \"23\", \"24\", \"25\", \"26\", \"27\", \"28\", \"29\", \"30\", \"31\", \"32\", \"33\", \"34\", \"35\", \"36\", \"37\", \"38\", \"39\"], \"mode\": \"lines\", \"name\": \"recall_score_binary_max\", \"stepped\": true, \"type\": \"scatter\", \"data\": [0.6682142857142856, 0.7183333333333334, 0.7645238095238096, 0.7645238095238096, 0.7645238095238096, 0.7645238095238096, 0.7802380952380952, 0.7802380952380952, 0.7802380952380952, 0.7802380952380952, 0.7802380952380952, 0.7995238095238095, 0.848452380952381, 0.848452380952381, 0.848452380952381, 0.848452380952381, 0.848452380952381, 0.848452380952381, 0.848452380952381, 0.848452380952381, 0.848452380952381, 0.848452380952381, 0.848452380952381, 0.848452380952381, 0.848452380952381, 0.848452380952381, 0.848452380952381, 0.848452380952381, 0.848452380952381, 0.848452380952381, 0.848452380952381, 0.848452380952381, 0.848452380952381, 0.848452380952381, 0.848452380952381, 0.848452380952381, 0.848452380952381, 0.848452380952381, 0.848452380952381, 0.848452380952381]}], \"recall_score_macro\": [{\"categories\": [\"0\", \"1\", \"2\", \"3\", \"4\", \"5\", \"6\", \"7\", \"8\", \"9\", \"10\", \"11\", \"12\", \"13\", \"14\", \"15\", \"16\", \"17\", \"18\", \"19\", \"20\", \"21\", \"22\", \"23\", \"24\", \"25\", \"26\", \"27\", \"28\", \"29\", \"30\", \"31\", \"32\", \"33\", \"34\", \"35\", \"36\", \"37\", \"38\", \"39\"], \"mode\": \"markers\", \"name\": \"recall_score_macro\", \"stepped\": false, \"type\": \"scatter\", \"data\": [0.7760209025470652, 0.8060125968992248, 0.8093500830564784, 0.7623387320044297, 0.535265088593577, 0.8045923311184939, 0.790264396456257, 0.7493583887043188, 0.5238067552602437, 0.6775089977851605, 0.7661482558139535, 0.823138842746401, 0.7702097176079734, 0.5642857142857143, 0.6268583887043189, 0.6044559800664452, 0.6588053709856035, 0.7737375415282393, 0.7697279900332226, 0.7825387596899225, 0.7885548172757475, 0.7970923311184939, 0.8195452657807308, 0.7680613233665559, 0.8053066168327797, 0.7950048449612404, 0.8229125138427464, 0.8148899501661131, 0.797751245847176, 0.8062589977851605, 0.5, 0.8045923311184939, 0.7947577519379845, 0.8169137596899224, 0.7587929125138426, 0.5067732558139535, 0.8180910852713179, 0.8216625138427464, 0.8533333333333333, 0.8274404761904762]}, {\"categories\": [\"0\", \"1\", \"2\", \"3\", \"4\", \"5\", \"6\", \"7\", \"8\", \"9\", \"10\", \"11\", \"12\", \"13\", \"14\", \"15\", \"16\", \"17\", \"18\", \"19\", \"20\", \"21\", \"22\", \"23\", \"24\", \"25\", \"26\", \"27\", \"28\", \"29\", \"30\", \"31\", \"32\", \"33\", \"34\", \"35\", \"36\", \"37\", \"38\", \"39\"], \"mode\": \"lines\", \"name\": \"recall_score_macro_max\", \"stepped\": true, \"type\": \"scatter\", \"data\": [0.7760209025470652, 0.8060125968992248, 0.8093500830564784, 0.8093500830564784, 0.8093500830564784, 0.8093500830564784, 0.8093500830564784, 0.8093500830564784, 0.8093500830564784, 0.8093500830564784, 0.8093500830564784, 0.823138842746401, 0.823138842746401, 0.823138842746401, 0.823138842746401, 0.823138842746401, 0.823138842746401, 0.823138842746401, 0.823138842746401, 0.823138842746401, 0.823138842746401, 0.823138842746401, 0.823138842746401, 0.823138842746401, 0.823138842746401, 0.823138842746401, 0.823138842746401, 0.823138842746401, 0.823138842746401, 0.823138842746401, 0.823138842746401, 0.823138842746401, 0.823138842746401, 0.823138842746401, 0.823138842746401, 0.823138842746401, 0.823138842746401, 0.823138842746401, 0.8533333333333333, 0.8533333333333333]}], \"AUC_binary\": [{\"categories\": [\"0\", \"1\", \"2\", \"3\", \"4\", \"5\", \"6\", \"7\", \"8\", \"9\", \"10\", \"11\", \"12\", \"13\", \"14\", \"15\", \"16\", \"17\", \"18\", \"19\", \"20\", \"21\", \"22\", \"23\", \"24\", \"25\", \"26\", \"27\", \"28\", \"29\", \"30\", \"31\", \"32\", \"33\", \"34\", \"35\", \"36\", \"37\", \"38\", \"39\"], \"mode\": \"markers\", \"name\": \"AUC_binary\", \"stepped\": false, \"type\": \"scatter\", \"data\": [0.8811331210778885, 0.8929591177556295, 0.8710103589885566, 0.8591974898486526, 0.4801177556293835, 0.9018819098375784, 0.8689101605758583, 0.8961337440014766, 0.48995519564414913, 0.7935321613141382, 0.8746007290513106, 0.9111626291989664, 0.8605456118493908, 0.8278220284237726, 0.7151022863602805, 0.6728506367663345, 0.7557314737910668, 0.8716356127722407, 0.8902290051679586, 0.8945025378368403, 0.8677544296788483, 0.8999937476928757, 0.8859942783314876, 0.8958592192691028, 0.901281872923588, 0.8894829272794389, 0.8958467838685861, 0.9119167128091548, 0.8862336194167589, 0.8938502445551866, 0.5, 0.9020553248431156, 0.8820123892580289, 0.908046857696567, 0.9000104166666667, 0.5198766034514581, 0.9069619093761535, 0.8955262781469177, 0.9080679448135843, 0.915609772978959]}, {\"categories\": [\"0\", \"1\", \"2\", \"3\", \"4\", \"5\", \"6\", \"7\", \"8\", \"9\", \"10\", \"11\", \"12\", \"13\", \"14\", \"15\", \"16\", \"17\", \"18\", \"19\", \"20\", \"21\", \"22\", \"23\", \"24\", \"25\", \"26\", \"27\", \"28\", \"29\", \"30\", \"31\", \"32\", \"33\", \"34\", \"35\", \"36\", \"37\", \"38\", \"39\"], \"mode\": \"lines\", \"name\": \"AUC_binary_max\", \"stepped\": true, \"type\": \"scatter\", \"data\": [0.8811331210778885, 0.8929591177556295, 0.8929591177556295, 0.8929591177556295, 0.8929591177556295, 0.9018819098375784, 0.9018819098375784, 0.9018819098375784, 0.9018819098375784, 0.9018819098375784, 0.9018819098375784, 0.9111626291989664, 0.9111626291989664, 0.9111626291989664, 0.9111626291989664, 0.9111626291989664, 0.9111626291989664, 0.9111626291989664, 0.9111626291989664, 0.9111626291989664, 0.9111626291989664, 0.9111626291989664, 0.9111626291989664, 0.9111626291989664, 0.9111626291989664, 0.9111626291989664, 0.9111626291989664, 0.9119167128091548, 0.9119167128091548, 0.9119167128091548, 0.9119167128091548, 0.9119167128091548, 0.9119167128091548, 0.9119167128091548, 0.9119167128091548, 0.9119167128091548, 0.9119167128091548, 0.9119167128091548, 0.9119167128091548, 0.915609772978959]}], \"log_loss\": [{\"categories\": [\"0\", \"1\", \"2\", \"3\", \"4\", \"5\", \"6\", \"7\", \"8\", \"9\", \"10\", \"11\", \"12\", \"13\", \"14\", \"15\", \"16\", \"17\", \"18\", \"19\", \"20\", \"21\", \"22\", \"23\", \"24\", \"25\", \"26\", \"27\", \"28\", \"29\", \"30\", \"31\", \"32\", \"33\", \"34\", \"35\", \"36\", \"37\", \"38\", \"39\"], \"mode\": \"markers\", \"name\": \"log_loss\", \"stepped\": false, \"type\": \"scatter\", \"data\": [0.5282491261622873, 0.43217688170419066, 0.5484377385822874, 0.5094057666069731, 3.190116311788704, 0.40278211150852317, 0.4713996446624521, 0.48075912248103325, 1.3517824065628368, 0.5358401775926722, 0.48770897204621805, 0.46647493710851357, 0.5161707144321361, 0.5209148418755112, 2.6025743429186523, 1.6718718941293094, 0.9718639425774341, 0.43443624630635325, 0.49722316413529083, 0.5002721630394146, 0.44777027614638165, 0.4660430134933665, 0.4156927075332309, 0.4358273257066746, 0.397287963484988, 0.4099609376782709, 0.3916110130535417, 0.3703839658827144, 0.4324134188479379, 0.40442163851775403, 0.6429967349046205, 0.38955109297905544, 0.42148481498469287, 0.3894561679112035, 0.49904329619629106, 0.6501072450335557, 0.39526640614176856, 0.42262795383190366, 0.3844556178799626, 0.3912100220799791]}, {\"categories\": [\"0\", \"1\", \"2\", \"3\", \"4\", \"5\", \"6\", \"7\", \"8\", \"9\", \"10\", \"11\", \"12\", \"13\", \"14\", \"15\", \"16\", \"17\", \"18\", \"19\", \"20\", \"21\", \"22\", \"23\", \"24\", \"25\", \"26\", \"27\", \"28\", \"29\", \"30\", \"31\", \"32\", \"33\", \"34\", \"35\", \"36\", \"37\", \"38\", \"39\"], \"mode\": \"lines\", \"name\": \"log_loss_min\", \"stepped\": true, \"type\": \"scatter\", \"data\": [0.5282491261622873, 0.43217688170419066, 0.43217688170419066, 0.43217688170419066, 0.43217688170419066, 0.40278211150852317, 0.40278211150852317, 0.40278211150852317, 0.40278211150852317, 0.40278211150852317, 0.40278211150852317, 0.40278211150852317, 0.40278211150852317, 0.40278211150852317, 0.40278211150852317, 0.40278211150852317, 0.40278211150852317, 0.40278211150852317, 0.40278211150852317, 0.40278211150852317, 0.40278211150852317, 0.40278211150852317, 0.40278211150852317, 0.40278211150852317, 0.397287963484988, 0.397287963484988, 0.3916110130535417, 0.3703839658827144, 0.3703839658827144, 0.3703839658827144, 0.3703839658827144, 0.3703839658827144, 0.3703839658827144, 0.3703839658827144, 0.3703839658827144, 0.3703839658827144, 0.3703839658827144, 0.3703839658827144, 0.3703839658827144, 0.3703839658827144]}], \"f1_score_binary\": [{\"categories\": [\"0\", \"1\", \"2\", \"3\", \"4\", \"5\", \"6\", \"7\", \"8\", \"9\", \"10\", \"11\", \"12\", \"13\", \"14\", \"15\", \"16\", \"17\", \"18\", \"19\", \"20\", \"21\", \"22\", \"23\", \"24\", \"25\", \"26\", \"27\", \"28\", \"29\", \"30\", \"31\", \"32\", \"33\", \"34\", \"35\", \"36\", \"37\", \"38\", \"39\"], \"mode\": \"markers\", \"name\": \"f1_score_binary\", \"stepped\": false, \"type\": \"scatter\", \"data\": [0.6788992576882291, 0.7233588117309047, 0.7237174275129294, 0.663796475745867, 0.328210729526519, 0.718938647970906, 0.6879396202925616, 0.6465035224323322, 0.30353430353430355, 0.5086311858076564, 0.6686940966010733, 0.7401469430040859, 0.6698738300720322, 0.2329819938515591, 0.4441666666666667, 0.3662218241528586, 0.5028406439295732, 0.6659741151574182, 0.6748628848628848, 0.6942745529910215, 0.6879657714140472, 0.7088846668642933, 0.7407142582554875, 0.6821408663799968, 0.7222597712920293, 0.7056865778040808, 0.7510529952390417, 0.737086322862767, 0.7152439010878211, 0.7250369038252594, 0.0, 0.719410982653767, 0.7091521445754854, 0.7316762252893847, 0.6690927270502166, 0.06666666666666667, 0.7483223443223442, 0.7499337441197905, 0.798097131120387, 0.755134168157424]}, {\"categories\": [\"0\", \"1\", \"2\", \"3\", \"4\", \"5\", \"6\", \"7\", \"8\", \"9\", \"10\", \"11\", \"12\", \"13\", \"14\", \"15\", \"16\", \"17\", \"18\", \"19\", \"20\", \"21\", \"22\", \"23\", \"24\", \"25\", \"26\", \"27\", \"28\", \"29\", \"30\", \"31\", \"32\", \"33\", \"34\", \"35\", \"36\", \"37\", \"38\", \"39\"], \"mode\": \"lines\", \"name\": \"f1_score_binary_max\", \"stepped\": true, \"type\": \"scatter\", \"data\": [0.6788992576882291, 0.7233588117309047, 0.7237174275129294, 0.7237174275129294, 0.7237174275129294, 0.7237174275129294, 0.7237174275129294, 0.7237174275129294, 0.7237174275129294, 0.7237174275129294, 0.7237174275129294, 0.7401469430040859, 0.7401469430040859, 0.7401469430040859, 0.7401469430040859, 0.7401469430040859, 0.7401469430040859, 0.7401469430040859, 0.7401469430040859, 0.7401469430040859, 0.7401469430040859, 0.7401469430040859, 0.7407142582554875, 0.7407142582554875, 0.7407142582554875, 0.7407142582554875, 0.7510529952390417, 0.7510529952390417, 0.7510529952390417, 0.7510529952390417, 0.7510529952390417, 0.7510529952390417, 0.7510529952390417, 0.7510529952390417, 0.7510529952390417, 0.7510529952390417, 0.7510529952390417, 0.7510529952390417, 0.798097131120387, 0.798097131120387]}], \"AUC_micro\": [{\"categories\": [\"0\", \"1\", \"2\", \"3\", \"4\", \"5\", \"6\", \"7\", \"8\", \"9\", \"10\", \"11\", \"12\", \"13\", \"14\", \"15\", \"16\", \"17\", \"18\", \"19\", \"20\", \"21\", \"22\", \"23\", \"24\", \"25\", \"26\", \"27\", \"28\", \"29\", \"30\", \"31\", \"32\", \"33\", \"34\", \"35\", \"36\", \"37\", \"38\", \"39\"], \"mode\": \"markers\", \"name\": \"AUC_micro\", \"stepped\": false, \"type\": \"scatter\", \"data\": [0.8880105014523284, 0.8999905678444892, 0.8812987487631269, 0.8776828657154713, 0.5968729451945481, 0.9040684349963293, 0.862542340962048, 0.8812683456222669, 0.6208648536499728, 0.81051504197389, 0.8877664464234416, 0.9100950397395383, 0.823273628267739, 0.8211999904242075, 0.7705993488461171, 0.7554288837817997, 0.8079193558683647, 0.8829535254875674, 0.8990470650196304, 0.8953941715343611, 0.8783376743592198, 0.9065698554055348, 0.8995921670018194, 0.8973709023588368, 0.9064312138912829, 0.8983661623416005, 0.9043480960132783, 0.9166068977624565, 0.8905014842478215, 0.897614494557758, 0.6790960451977401, 0.9089198186983307, 0.8908143892240418, 0.9087502952535988, 0.8981914200900123, 0.6841610967474225, 0.9087331865045167, 0.9029611063232149, 0.9122754476682946, 0.9069653835104855]}, {\"categories\": [\"0\", \"1\", \"2\", \"3\", \"4\", \"5\", \"6\", \"7\", \"8\", \"9\", \"10\", \"11\", \"12\", \"13\", \"14\", \"15\", \"16\", \"17\", \"18\", \"19\", \"20\", \"21\", \"22\", \"23\", \"24\", \"25\", \"26\", \"27\", \"28\", \"29\", \"30\", \"31\", \"32\", \"33\", \"34\", \"35\", \"36\", \"37\", \"38\", \"39\"], \"mode\": \"lines\", \"name\": \"AUC_micro_max\", \"stepped\": true, \"type\": \"scatter\", \"data\": [0.8880105014523284, 0.8999905678444892, 0.8999905678444892, 0.8999905678444892, 0.8999905678444892, 0.9040684349963293, 0.9040684349963293, 0.9040684349963293, 0.9040684349963293, 0.9040684349963293, 0.9040684349963293, 0.9100950397395383, 0.9100950397395383, 0.9100950397395383, 0.9100950397395383, 0.9100950397395383, 0.9100950397395383, 0.9100950397395383, 0.9100950397395383, 0.9100950397395383, 0.9100950397395383, 0.9100950397395383, 0.9100950397395383, 0.9100950397395383, 0.9100950397395383, 0.9100950397395383, 0.9100950397395383, 0.9166068977624565, 0.9166068977624565, 0.9166068977624565, 0.9166068977624565, 0.9166068977624565, 0.9166068977624565, 0.9166068977624565, 0.9166068977624565, 0.9166068977624565, 0.9166068977624565, 0.9166068977624565, 0.9166068977624565, 0.9166068977624565]}], \"AUC_weighted\": [{\"categories\": [\"0\", \"1\", \"2\", \"3\", \"4\", \"5\", \"6\", \"7\", \"8\", \"9\", \"10\", \"11\", \"12\", \"13\", \"14\", \"15\", \"16\", \"17\", \"18\", \"19\", \"20\", \"21\", \"22\", \"23\", \"24\", \"25\", \"26\", \"27\", \"28\", \"29\", \"30\", \"31\", \"32\", \"33\", \"34\", \"35\", \"36\", \"37\", \"38\", \"39\"], \"mode\": \"markers\", \"name\": \"AUC_weighted\", \"stepped\": false, \"type\": \"scatter\", \"data\": [0.8811331210778885, 0.8929591177556293, 0.8710103589885566, 0.8591974898486526, 0.4801177556293836, 0.9018819098375784, 0.8689101605758583, 0.8961337440014766, 0.48995519564414913, 0.793532161314138, 0.8746007290513106, 0.9111626291989664, 0.8605456118493908, 0.8278220284237726, 0.7151022863602805, 0.6728506367663345, 0.7557314737910668, 0.8716356127722407, 0.8902290051679586, 0.8945025378368401, 0.8677544296788483, 0.8999937476928755, 0.8859942783314876, 0.8958592192691028, 0.901281872923588, 0.8894829272794389, 0.8958467838685863, 0.9119167128091545, 0.8862336194167589, 0.8938502445551866, 0.5, 0.9020553248431156, 0.8820123892580289, 0.9080468576965671, 0.9000104166666667, 0.519876603451458, 0.9069619093761536, 0.8955262781469177, 0.9080679448135843, 0.915609772978959]}, {\"categories\": [\"0\", \"1\", \"2\", \"3\", \"4\", \"5\", \"6\", \"7\", \"8\", \"9\", \"10\", \"11\", \"12\", \"13\", \"14\", \"15\", \"16\", \"17\", \"18\", \"19\", \"20\", \"21\", \"22\", \"23\", \"24\", \"25\", \"26\", \"27\", \"28\", \"29\", \"30\", \"31\", \"32\", \"33\", \"34\", \"35\", \"36\", \"37\", \"38\", \"39\"], \"mode\": \"lines\", \"name\": \"AUC_weighted_max\", \"stepped\": true, \"type\": \"scatter\", \"data\": [0.8811331210778885, 0.8929591177556293, 0.8929591177556293, 0.8929591177556293, 0.8929591177556293, 0.9018819098375784, 0.9018819098375784, 0.9018819098375784, 0.9018819098375784, 0.9018819098375784, 0.9018819098375784, 0.9111626291989664, 0.9111626291989664, 0.9111626291989664, 0.9111626291989664, 0.9111626291989664, 0.9111626291989664, 0.9111626291989664, 0.9111626291989664, 0.9111626291989664, 0.9111626291989664, 0.9111626291989664, 0.9111626291989664, 0.9111626291989664, 0.9111626291989664, 0.9111626291989664, 0.9111626291989664, 0.9119167128091545, 0.9119167128091545, 0.9119167128091545, 0.9119167128091545, 0.9119167128091545, 0.9119167128091545, 0.9119167128091545, 0.9119167128091545, 0.9119167128091545, 0.9119167128091545, 0.9119167128091545, 0.9119167128091545, 0.915609772978959]}], \"AUC_macro\": [{\"categories\": [\"0\", \"1\", \"2\", \"3\", \"4\", \"5\", \"6\", \"7\", \"8\", \"9\", \"10\", \"11\", \"12\", \"13\", \"14\", \"15\", \"16\", \"17\", \"18\", \"19\", \"20\", \"21\", \"22\", \"23\", \"24\", \"25\", \"26\", \"27\", \"28\", \"29\", \"30\", \"31\", \"32\", \"33\", \"34\", \"35\", \"36\", \"37\", \"38\", \"39\"], \"mode\": \"markers\", \"name\": \"AUC_macro\", \"stepped\": false, \"type\": \"scatter\", \"data\": [0.8811331210778885, 0.8929591177556295, 0.8710103589885566, 0.8591974898486526, 0.4801177556293835, 0.9018819098375784, 0.8689101605758583, 0.8961337440014766, 0.48995519564414913, 0.7935321613141382, 0.8746007290513106, 0.9111626291989664, 0.8605456118493908, 0.8278220284237726, 0.7151022863602805, 0.6728506367663345, 0.7557314737910668, 0.8716356127722407, 0.8902290051679586, 0.8945025378368403, 0.8677544296788483, 0.8999937476928757, 0.8859942783314876, 0.8958592192691028, 0.901281872923588, 0.8894829272794389, 0.8958467838685863, 0.9119167128091548, 0.8862336194167589, 0.8938502445551866, 0.5, 0.9020553248431155, 0.8820123892580289, 0.908046857696567, 0.9000104166666667, 0.5198766034514581, 0.9069619093761536, 0.8955262781469177, 0.9080679448135843, 0.915609772978959]}, {\"categories\": [\"0\", \"1\", \"2\", \"3\", \"4\", \"5\", \"6\", \"7\", \"8\", \"9\", \"10\", \"11\", \"12\", \"13\", \"14\", \"15\", \"16\", \"17\", \"18\", \"19\", \"20\", \"21\", \"22\", \"23\", \"24\", \"25\", \"26\", \"27\", \"28\", \"29\", \"30\", \"31\", \"32\", \"33\", \"34\", \"35\", \"36\", \"37\", \"38\", \"39\"], \"mode\": \"lines\", \"name\": \"AUC_macro_max\", \"stepped\": true, \"type\": \"scatter\", \"data\": [0.8811331210778885, 0.8929591177556295, 0.8929591177556295, 0.8929591177556295, 0.8929591177556295, 0.9018819098375784, 0.9018819098375784, 0.9018819098375784, 0.9018819098375784, 0.9018819098375784, 0.9018819098375784, 0.9111626291989664, 0.9111626291989664, 0.9111626291989664, 0.9111626291989664, 0.9111626291989664, 0.9111626291989664, 0.9111626291989664, 0.9111626291989664, 0.9111626291989664, 0.9111626291989664, 0.9111626291989664, 0.9111626291989664, 0.9111626291989664, 0.9111626291989664, 0.9111626291989664, 0.9111626291989664, 0.9119167128091548, 0.9119167128091548, 0.9119167128091548, 0.9119167128091548, 0.9119167128091548, 0.9119167128091548, 0.9119167128091548, 0.9119167128091548, 0.9119167128091548, 0.9119167128091548, 0.9119167128091548, 0.9119167128091548, 0.915609772978959]}], \"balanced_accuracy\": [{\"categories\": [\"0\", \"1\", \"2\", \"3\", \"4\", \"5\", \"6\", \"7\", \"8\", \"9\", \"10\", \"11\", \"12\", \"13\", \"14\", \"15\", \"16\", \"17\", \"18\", \"19\", \"20\", \"21\", \"22\", \"23\", \"24\", \"25\", \"26\", \"27\", \"28\", \"29\", \"30\", \"31\", \"32\", \"33\", \"34\", \"35\", \"36\", \"37\", \"38\", \"39\"], \"mode\": \"markers\", \"name\": \"balanced_accuracy\", \"stepped\": false, \"type\": \"scatter\", \"data\": [0.7760209025470652, 0.8060125968992248, 0.8093500830564784, 0.7623387320044297, 0.535265088593577, 0.8045923311184939, 0.790264396456257, 0.7493583887043188, 0.5238067552602437, 0.6775089977851605, 0.7661482558139535, 0.823138842746401, 0.7702097176079734, 0.5642857142857143, 0.6268583887043189, 0.6044559800664452, 0.6588053709856035, 0.7737375415282393, 0.7697279900332226, 0.7825387596899225, 0.7885548172757475, 0.7970923311184939, 0.8195452657807308, 0.7680613233665559, 0.8053066168327797, 0.7950048449612404, 0.8229125138427464, 0.8148899501661131, 0.797751245847176, 0.8062589977851605, 0.5, 0.8045923311184939, 0.7947577519379845, 0.8169137596899224, 0.7587929125138426, 0.5067732558139535, 0.8180910852713179, 0.8216625138427464, 0.8533333333333333, 0.8274404761904762]}, {\"categories\": [\"0\", \"1\", \"2\", \"3\", \"4\", \"5\", \"6\", \"7\", \"8\", \"9\", \"10\", \"11\", \"12\", \"13\", \"14\", \"15\", \"16\", \"17\", \"18\", \"19\", \"20\", \"21\", \"22\", \"23\", \"24\", \"25\", \"26\", \"27\", \"28\", \"29\", \"30\", \"31\", \"32\", \"33\", \"34\", \"35\", \"36\", \"37\", \"38\", \"39\"], \"mode\": \"lines\", \"name\": \"balanced_accuracy_max\", \"stepped\": true, \"type\": \"scatter\", \"data\": [0.7760209025470652, 0.8060125968992248, 0.8093500830564784, 0.8093500830564784, 0.8093500830564784, 0.8093500830564784, 0.8093500830564784, 0.8093500830564784, 0.8093500830564784, 0.8093500830564784, 0.8093500830564784, 0.823138842746401, 0.823138842746401, 0.823138842746401, 0.823138842746401, 0.823138842746401, 0.823138842746401, 0.823138842746401, 0.823138842746401, 0.823138842746401, 0.823138842746401, 0.823138842746401, 0.823138842746401, 0.823138842746401, 0.823138842746401, 0.823138842746401, 0.823138842746401, 0.823138842746401, 0.823138842746401, 0.823138842746401, 0.823138842746401, 0.823138842746401, 0.823138842746401, 0.823138842746401, 0.823138842746401, 0.823138842746401, 0.823138842746401, 0.823138842746401, 0.8533333333333333, 0.8533333333333333]}], \"norm_macro_recall\": [{\"categories\": [\"0\", \"1\", \"2\", \"3\", \"4\", \"5\", \"6\", \"7\", \"8\", \"9\", \"10\", \"11\", \"12\", \"13\", \"14\", \"15\", \"16\", \"17\", \"18\", \"19\", \"20\", \"21\", \"22\", \"23\", \"24\", \"25\", \"26\", \"27\", \"28\", \"29\", \"30\", \"31\", \"32\", \"33\", \"34\", \"35\", \"36\", \"37\", \"38\", \"39\"], \"mode\": \"markers\", \"name\": \"norm_macro_recall\", \"stepped\": false, \"type\": \"scatter\", \"data\": [0.5520418050941306, 0.6120251937984496, 0.6187001661129568, 0.5246774640088594, 0.09356589147286817, 0.6091846622369879, 0.5805287929125138, 0.49871677740863785, 0.059399224806201543, 0.35501799557032115, 0.532296511627907, 0.6462776854928017, 0.5404194352159467, 0.12857142857142856, 0.25371677740863785, 0.20891196013289037, 0.3176107419712071, 0.5474750830564783, 0.5394559800664451, 0.5650775193798449, 0.577109634551495, 0.5941846622369878, 0.6390905315614618, 0.5361226467331118, 0.6106132336655593, 0.5900096899224806, 0.6458250276854928, 0.629779900332226, 0.5955024916943522, 0.6125179955703212, 0.0, 0.6091846622369879, 0.5895155038759691, 0.6338275193798448, 0.5175858250276855, 0.02354651162790695, 0.6361821705426356, 0.6433250276854927, 0.7066666666666667, 0.6548809523809525]}, {\"categories\": [\"0\", \"1\", \"2\", \"3\", \"4\", \"5\", \"6\", \"7\", \"8\", \"9\", \"10\", \"11\", \"12\", \"13\", \"14\", \"15\", \"16\", \"17\", \"18\", \"19\", \"20\", \"21\", \"22\", \"23\", \"24\", \"25\", \"26\", \"27\", \"28\", \"29\", \"30\", \"31\", \"32\", \"33\", \"34\", \"35\", \"36\", \"37\", \"38\", \"39\"], \"mode\": \"lines\", \"name\": \"norm_macro_recall_max\", \"stepped\": true, \"type\": \"scatter\", \"data\": [0.5520418050941306, 0.6120251937984496, 0.6187001661129568, 0.6187001661129568, 0.6187001661129568, 0.6187001661129568, 0.6187001661129568, 0.6187001661129568, 0.6187001661129568, 0.6187001661129568, 0.6187001661129568, 0.6462776854928017, 0.6462776854928017, 0.6462776854928017, 0.6462776854928017, 0.6462776854928017, 0.6462776854928017, 0.6462776854928017, 0.6462776854928017, 0.6462776854928017, 0.6462776854928017, 0.6462776854928017, 0.6462776854928017, 0.6462776854928017, 0.6462776854928017, 0.6462776854928017, 0.6462776854928017, 0.6462776854928017, 0.6462776854928017, 0.6462776854928017, 0.6462776854928017, 0.6462776854928017, 0.6462776854928017, 0.6462776854928017, 0.6462776854928017, 0.6462776854928017, 0.6462776854928017, 0.6462776854928017, 0.7066666666666667, 0.7066666666666667]}], \"f1_score_macro\": [{\"categories\": [\"0\", \"1\", \"2\", \"3\", \"4\", \"5\", \"6\", \"7\", \"8\", \"9\", \"10\", \"11\", \"12\", \"13\", \"14\", \"15\", \"16\", \"17\", \"18\", \"19\", \"20\", \"21\", \"22\", \"23\", \"24\", \"25\", \"26\", \"27\", \"28\", \"29\", \"30\", \"31\", \"32\", \"33\", \"34\", \"35\", \"36\", \"37\", \"38\", \"39\"], \"mode\": \"markers\", \"name\": \"f1_score_macro\", \"stepped\": false, \"type\": \"scatter\", \"data\": [0.7682096405971308, 0.7972526241921125, 0.7944644652292471, 0.7670219228902706, 0.5214762486938819, 0.7990328571715297, 0.7598585725466711, 0.7571389819316512, 0.5107143040124967, 0.6586691442072551, 0.7639111069734452, 0.8030586302679241, 0.7265457113634765, 0.5277866879799389, 0.6249016289301019, 0.5931375899123159, 0.6683083102141609, 0.7638066281867016, 0.7716443332746845, 0.7837283253338294, 0.777731957024298, 0.7915028554770009, 0.808824740254531, 0.7839225485859733, 0.7982413770467163, 0.7913695567874157, 0.8205182084176832, 0.8093837484143036, 0.799086693661103, 0.8013139852175707, 0.40276783177038933, 0.7992050377619817, 0.7989481518160054, 0.8072426792227991, 0.7682046224291921, 0.43160304321994347, 0.8210662553820448, 0.8217225904553986, 0.8550784356251512, 0.8285295392890208]}, {\"categories\": [\"0\", \"1\", \"2\", \"3\", \"4\", \"5\", \"6\", \"7\", \"8\", \"9\", \"10\", \"11\", \"12\", \"13\", \"14\", \"15\", \"16\", \"17\", \"18\", \"19\", \"20\", \"21\", \"22\", \"23\", \"24\", \"25\", \"26\", \"27\", \"28\", \"29\", \"30\", \"31\", \"32\", \"33\", \"34\", \"35\", \"36\", \"37\", \"38\", \"39\"], \"mode\": \"lines\", \"name\": \"f1_score_macro_max\", \"stepped\": true, \"type\": \"scatter\", \"data\": [0.7682096405971308, 0.7972526241921125, 0.7972526241921125, 0.7972526241921125, 0.7972526241921125, 0.7990328571715297, 0.7990328571715297, 0.7990328571715297, 0.7990328571715297, 0.7990328571715297, 0.7990328571715297, 0.8030586302679241, 0.8030586302679241, 0.8030586302679241, 0.8030586302679241, 0.8030586302679241, 0.8030586302679241, 0.8030586302679241, 0.8030586302679241, 0.8030586302679241, 0.8030586302679241, 0.8030586302679241, 0.808824740254531, 0.808824740254531, 0.808824740254531, 0.808824740254531, 0.8205182084176832, 0.8205182084176832, 0.8205182084176832, 0.8205182084176832, 0.8205182084176832, 0.8205182084176832, 0.8205182084176832, 0.8205182084176832, 0.8205182084176832, 0.8205182084176832, 0.8210662553820448, 0.8217225904553986, 0.8550784356251512, 0.8550784356251512]}], \"precision_score_micro\": [{\"categories\": [\"0\", \"1\", \"2\", \"3\", \"4\", \"5\", \"6\", \"7\", \"8\", \"9\", \"10\", \"11\", \"12\", \"13\", \"14\", \"15\", \"16\", \"17\", \"18\", \"19\", \"20\", \"21\", \"22\", \"23\", \"24\", \"25\", \"26\", \"27\", \"28\", \"29\", \"30\", \"31\", \"32\", \"33\", \"34\", \"35\", \"36\", \"37\", \"38\", \"39\"], \"mode\": \"markers\", \"name\": \"precision_score_micro\", \"stepped\": false, \"type\": \"scatter\", \"data\": [0.8059887005649717, 0.8259322033898304, 0.8226553672316383, 0.8161581920903955, 0.6019209039548021, 0.8327118644067797, 0.7858757062146893, 0.8093785310734465, 0.6019209039548024, 0.7290395480225988, 0.8059887005649717, 0.8258192090395481, 0.7455932203389831, 0.7158757062146892, 0.7157627118644068, 0.7224858757062147, 0.7559887005649718, 0.8061016949152542, 0.8161016949152543, 0.8227118644067797, 0.8160451977401131, 0.8260451977401131, 0.836271186440678, 0.836045197740113, 0.8293785310734464, 0.8292090395480226, 0.8496610169491525, 0.8393785310734463, 0.836045197740113, 0.8327118644067795, 0.67909604519774, 0.8327118644067797, 0.8427118644067797, 0.8393220338983051, 0.8127118644067796, 0.6690395480225988, 0.8529943502824858, 0.8529378531073446, 0.8797175141242939, 0.8628813559322033]}, {\"categories\": [\"0\", \"1\", \"2\", \"3\", \"4\", \"5\", \"6\", \"7\", \"8\", \"9\", \"10\", \"11\", \"12\", \"13\", \"14\", \"15\", \"16\", \"17\", \"18\", \"19\", \"20\", \"21\", \"22\", \"23\", \"24\", \"25\", \"26\", \"27\", \"28\", \"29\", \"30\", \"31\", \"32\", \"33\", \"34\", \"35\", \"36\", \"37\", \"38\", \"39\"], \"mode\": \"lines\", \"name\": \"precision_score_micro_max\", \"stepped\": true, \"type\": \"scatter\", \"data\": [0.8059887005649717, 0.8259322033898304, 0.8259322033898304, 0.8259322033898304, 0.8259322033898304, 0.8327118644067797, 0.8327118644067797, 0.8327118644067797, 0.8327118644067797, 0.8327118644067797, 0.8327118644067797, 0.8327118644067797, 0.8327118644067797, 0.8327118644067797, 0.8327118644067797, 0.8327118644067797, 0.8327118644067797, 0.8327118644067797, 0.8327118644067797, 0.8327118644067797, 0.8327118644067797, 0.8327118644067797, 0.836271186440678, 0.836271186440678, 0.836271186440678, 0.836271186440678, 0.8496610169491525, 0.8496610169491525, 0.8496610169491525, 0.8496610169491525, 0.8496610169491525, 0.8496610169491525, 0.8496610169491525, 0.8496610169491525, 0.8496610169491525, 0.8496610169491525, 0.8529943502824858, 0.8529943502824858, 0.8797175141242939, 0.8797175141242939]}], \"precision_score_macro\": [{\"categories\": [\"0\", \"1\", \"2\", \"3\", \"4\", \"5\", \"6\", \"7\", \"8\", \"9\", \"10\", \"11\", \"12\", \"13\", \"14\", \"15\", \"16\", \"17\", \"18\", \"19\", \"20\", \"21\", \"22\", \"23\", \"24\", \"25\", \"26\", \"27\", \"28\", \"29\", \"30\", \"31\", \"32\", \"33\", \"34\", \"35\", \"36\", \"37\", \"38\", \"39\"], \"mode\": \"markers\", \"name\": \"precision_score_macro\", \"stepped\": false, \"type\": \"scatter\", \"data\": [0.7889041743265773, 0.8086642059265495, 0.7905489302733993, 0.7997862034555903, 0.5327661008582062, 0.8167076476821411, 0.7675269862995453, 0.8149807540153781, 0.5223827861510688, 0.7042932826448003, 0.7878325747620671, 0.7999388703084356, 0.7334090443297604, 0.803865266614813, 0.6692483660130719, 0.7160157380745615, 0.7575767225129046, 0.8017021258491441, 0.8123736521909066, 0.809126892888888, 0.8057518640185325, 0.8094295438860655, 0.8181019834444193, 0.8551488107439529, 0.8064871190121388, 0.8080943465382825, 0.8433149055352918, 0.8188789005265413, 0.8266347782652131, 0.8178146398775447, 0.33954802259887, 0.8173660518225734, 0.8466629838958388, 0.8192901405944883, 0.8113434808587445, 0.43062579821200514, 0.8501936231628286, 0.848696852997238, 0.8868283836983851, 0.8786602251306102]}, {\"categories\": [\"0\", \"1\", \"2\", \"3\", \"4\", \"5\", \"6\", \"7\", \"8\", \"9\", \"10\", \"11\", \"12\", \"13\", \"14\", \"15\", \"16\", \"17\", \"18\", \"19\", \"20\", \"21\", \"22\", \"23\", \"24\", \"25\", \"26\", \"27\", \"28\", \"29\", \"30\", \"31\", \"32\", \"33\", \"34\", \"35\", \"36\", \"37\", \"38\", \"39\"], \"mode\": \"lines\", \"name\": \"precision_score_macro_max\", \"stepped\": true, \"type\": \"scatter\", \"data\": [0.7889041743265773, 0.8086642059265495, 0.8086642059265495, 0.8086642059265495, 0.8086642059265495, 0.8167076476821411, 0.8167076476821411, 0.8167076476821411, 0.8167076476821411, 0.8167076476821411, 0.8167076476821411, 0.8167076476821411, 0.8167076476821411, 0.8167076476821411, 0.8167076476821411, 0.8167076476821411, 0.8167076476821411, 0.8167076476821411, 0.8167076476821411, 0.8167076476821411, 0.8167076476821411, 0.8167076476821411, 0.8181019834444193, 0.8551488107439529, 0.8551488107439529, 0.8551488107439529, 0.8551488107439529, 0.8551488107439529, 0.8551488107439529, 0.8551488107439529, 0.8551488107439529, 0.8551488107439529, 0.8551488107439529, 0.8551488107439529, 0.8551488107439529, 0.8551488107439529, 0.8551488107439529, 0.8551488107439529, 0.8868283836983851, 0.8868283836983851]}], \"accuracy\": [{\"categories\": [\"0\", \"1\", \"2\", \"3\", \"4\", \"5\", \"6\", \"7\", \"8\", \"9\", \"10\", \"11\", \"12\", \"13\", \"14\", \"15\", \"16\", \"17\", \"18\", \"19\", \"20\", \"21\", \"22\", \"23\", \"24\", \"25\", \"26\", \"27\", \"28\", \"29\", \"30\", \"31\", \"32\", \"33\", \"34\", \"35\", \"36\", \"37\", \"38\", \"39\"], \"mode\": \"markers\", \"name\": \"accuracy\", \"stepped\": false, \"type\": \"scatter\", \"data\": [0.8059887005649717, 0.8259322033898304, 0.8226553672316383, 0.8161581920903955, 0.6019209039548021, 0.8327118644067797, 0.7858757062146893, 0.8093785310734465, 0.6019209039548024, 0.7290395480225988, 0.8059887005649717, 0.8258192090395481, 0.7455932203389831, 0.7158757062146892, 0.7157627118644068, 0.7224858757062147, 0.7559887005649718, 0.8061016949152542, 0.8161016949152543, 0.8227118644067797, 0.8160451977401131, 0.8260451977401131, 0.836271186440678, 0.836045197740113, 0.8293785310734464, 0.8292090395480226, 0.8496610169491525, 0.8393785310734463, 0.836045197740113, 0.8327118644067795, 0.67909604519774, 0.8327118644067797, 0.8427118644067797, 0.8393220338983051, 0.8127118644067796, 0.6690395480225988, 0.8529943502824858, 0.8529378531073446, 0.8797175141242939, 0.8628813559322033]}, {\"categories\": [\"0\", \"1\", \"2\", \"3\", \"4\", \"5\", \"6\", \"7\", \"8\", \"9\", \"10\", \"11\", \"12\", \"13\", \"14\", \"15\", \"16\", \"17\", \"18\", \"19\", \"20\", \"21\", \"22\", \"23\", \"24\", \"25\", \"26\", \"27\", \"28\", \"29\", \"30\", \"31\", \"32\", \"33\", \"34\", \"35\", \"36\", \"37\", \"38\", \"39\"], \"mode\": \"lines\", \"name\": \"accuracy_max\", \"stepped\": true, \"type\": \"scatter\", \"data\": [0.8059887005649717, 0.8259322033898304, 0.8259322033898304, 0.8259322033898304, 0.8259322033898304, 0.8327118644067797, 0.8327118644067797, 0.8327118644067797, 0.8327118644067797, 0.8327118644067797, 0.8327118644067797, 0.8327118644067797, 0.8327118644067797, 0.8327118644067797, 0.8327118644067797, 0.8327118644067797, 0.8327118644067797, 0.8327118644067797, 0.8327118644067797, 0.8327118644067797, 0.8327118644067797, 0.8327118644067797, 0.836271186440678, 0.836271186440678, 0.836271186440678, 0.836271186440678, 0.8496610169491525, 0.8496610169491525, 0.8496610169491525, 0.8496610169491525, 0.8496610169491525, 0.8496610169491525, 0.8496610169491525, 0.8496610169491525, 0.8496610169491525, 0.8496610169491525, 0.8529943502824858, 0.8529943502824858, 0.8797175141242939, 0.8797175141242939]}], \"weighted_accuracy\": [{\"categories\": [\"0\", \"1\", \"2\", \"3\", \"4\", \"5\", \"6\", \"7\", \"8\", \"9\", \"10\", \"11\", \"12\", \"13\", \"14\", \"15\", \"16\", \"17\", \"18\", \"19\", \"20\", \"21\", \"22\", \"23\", \"24\", \"25\", \"26\", \"27\", \"28\", \"29\", \"30\", \"31\", \"32\", \"33\", \"34\", \"35\", \"36\", \"37\", \"38\", \"39\"], \"mode\": \"markers\", \"name\": \"weighted_accuracy\", \"stepped\": false, \"type\": \"scatter\", \"data\": [0.8252063202764133, 0.8406325321291572, 0.8315558009300876, 0.8500347865797993, 0.6483997010991984, 0.8528826789623214, 0.7831220691585233, 0.8521160544599569, 0.654723837833538, 0.766158554263149, 0.833512044028929, 0.8270914108060141, 0.7278359450058796, 0.8167339976580884, 0.775809221988251, 0.801298158495736, 0.8205566190741742, 0.829938160671958, 0.8485857202738577, 0.8504610235745025, 0.8360473402486086, 0.8468826789623213, 0.8479313080454682, 0.8808694518187323, 0.8461747143605514, 0.8518737412018599, 0.868479425015755, 0.8560962829880024, 0.8633695682548554, 0.8507258162172231, 0.7971865900207855, 0.8528826789623214, 0.8756242670191489, 0.8544598340713119, 0.849693704989195, 0.7770292615311949, 0.8763232563535996, 0.874959234992002, 0.8973107278267498, 0.8865554674900041]}, {\"categories\": [\"0\", \"1\", \"2\", \"3\", \"4\", \"5\", \"6\", \"7\", \"8\", \"9\", \"10\", \"11\", \"12\", \"13\", \"14\", \"15\", \"16\", \"17\", \"18\", \"19\", \"20\", \"21\", \"22\", \"23\", \"24\", \"25\", \"26\", \"27\", \"28\", \"29\", \"30\", \"31\", \"32\", \"33\", \"34\", \"35\", \"36\", \"37\", \"38\", \"39\"], \"mode\": \"lines\", \"name\": \"weighted_accuracy_max\", \"stepped\": true, \"type\": \"scatter\", \"data\": [0.8252063202764133, 0.8406325321291572, 0.8406325321291572, 0.8500347865797993, 0.8500347865797993, 0.8528826789623214, 0.8528826789623214, 0.8528826789623214, 0.8528826789623214, 0.8528826789623214, 0.8528826789623214, 0.8528826789623214, 0.8528826789623214, 0.8528826789623214, 0.8528826789623214, 0.8528826789623214, 0.8528826789623214, 0.8528826789623214, 0.8528826789623214, 0.8528826789623214, 0.8528826789623214, 0.8528826789623214, 0.8528826789623214, 0.8808694518187323, 0.8808694518187323, 0.8808694518187323, 0.8808694518187323, 0.8808694518187323, 0.8808694518187323, 0.8808694518187323, 0.8808694518187323, 0.8808694518187323, 0.8808694518187323, 0.8808694518187323, 0.8808694518187323, 0.8808694518187323, 0.8808694518187323, 0.8808694518187323, 0.8973107278267498, 0.8973107278267498]}], \"f1_score_micro\": [{\"categories\": [\"0\", \"1\", \"2\", \"3\", \"4\", \"5\", \"6\", \"7\", \"8\", \"9\", \"10\", \"11\", \"12\", \"13\", \"14\", \"15\", \"16\", \"17\", \"18\", \"19\", \"20\", \"21\", \"22\", \"23\", \"24\", \"25\", \"26\", \"27\", \"28\", \"29\", \"30\", \"31\", \"32\", \"33\", \"34\", \"35\", \"36\", \"37\", \"38\", \"39\"], \"mode\": \"markers\", \"name\": \"f1_score_micro\", \"stepped\": false, \"type\": \"scatter\", \"data\": [0.8059887005649718, 0.8259322033898304, 0.8226553672316385, 0.8161581920903955, 0.6019209039548021, 0.8327118644067797, 0.7858757062146893, 0.8093785310734465, 0.6019209039548024, 0.7290395480225988, 0.8059887005649717, 0.8258192090395481, 0.7455932203389831, 0.7158757062146893, 0.7157627118644068, 0.7224858757062147, 0.7559887005649718, 0.8061016949152542, 0.8161016949152543, 0.8227118644067797, 0.8160451977401131, 0.8260451977401131, 0.836271186440678, 0.836045197740113, 0.8293785310734464, 0.8292090395480226, 0.8496610169491525, 0.8393785310734463, 0.836045197740113, 0.8327118644067797, 0.67909604519774, 0.8327118644067797, 0.8427118644067797, 0.8393220338983051, 0.8127118644067798, 0.6690395480225988, 0.8529943502824858, 0.8529378531073446, 0.8797175141242939, 0.8628813559322033]}, {\"categories\": [\"0\", \"1\", \"2\", \"3\", \"4\", \"5\", \"6\", \"7\", \"8\", \"9\", \"10\", \"11\", \"12\", \"13\", \"14\", \"15\", \"16\", \"17\", \"18\", \"19\", \"20\", \"21\", \"22\", \"23\", \"24\", \"25\", \"26\", \"27\", \"28\", \"29\", \"30\", \"31\", \"32\", \"33\", \"34\", \"35\", \"36\", \"37\", \"38\", \"39\"], \"mode\": \"lines\", \"name\": \"f1_score_micro_max\", \"stepped\": true, \"type\": \"scatter\", \"data\": [0.8059887005649718, 0.8259322033898304, 0.8259322033898304, 0.8259322033898304, 0.8259322033898304, 0.8327118644067797, 0.8327118644067797, 0.8327118644067797, 0.8327118644067797, 0.8327118644067797, 0.8327118644067797, 0.8327118644067797, 0.8327118644067797, 0.8327118644067797, 0.8327118644067797, 0.8327118644067797, 0.8327118644067797, 0.8327118644067797, 0.8327118644067797, 0.8327118644067797, 0.8327118644067797, 0.8327118644067797, 0.836271186440678, 0.836271186440678, 0.836271186440678, 0.836271186440678, 0.8496610169491525, 0.8496610169491525, 0.8496610169491525, 0.8496610169491525, 0.8496610169491525, 0.8496610169491525, 0.8496610169491525, 0.8496610169491525, 0.8496610169491525, 0.8496610169491525, 0.8529943502824858, 0.8529943502824858, 0.8797175141242939, 0.8797175141242939]}], \"average_precision_score_binary\": [{\"categories\": [\"0\", \"1\", \"2\", \"3\", \"4\", \"5\", \"6\", \"7\", \"8\", \"9\", \"10\", \"11\", \"12\", \"13\", \"14\", \"15\", \"16\", \"17\", \"18\", \"19\", \"20\", \"21\", \"22\", \"23\", \"24\", \"25\", \"26\", \"27\", \"28\", \"29\", \"30\", \"31\", \"32\", \"33\", \"34\", \"35\", \"36\", \"37\", \"38\", \"39\"], \"mode\": \"markers\", \"name\": \"average_precision_score_binary\", \"stepped\": false, \"type\": \"scatter\", \"data\": [0.7919802536271107, 0.8167202259837344, 0.7866568409729501, 0.7715708543438937, 0.42745586003756025, 0.8278932849568307, 0.7704704325611031, 0.8241366744612547, 0.43576466845691686, 0.6437410391444682, 0.7881763082489148, 0.8525259560712316, 0.7817124755281806, 0.6984835561758498, 0.5364803617928123, 0.5351201481209082, 0.6583283043459104, 0.7942855210686715, 0.8178415717787566, 0.8070617010939556, 0.7767829307102329, 0.8086952899321116, 0.8035982753282687, 0.8306795341234434, 0.8285878472342549, 0.8073795140362543, 0.8155851628204058, 0.8456851625141828, 0.8002650415617373, 0.8168301154786276, 0.32090395480225986, 0.8331327463967815, 0.7940724904651993, 0.8205216806941269, 0.8075176756382264, 0.3473654031573314, 0.818528090141176, 0.8136668531938639, 0.8248685712309411, 0.8366298350651183]}, {\"categories\": [\"0\", \"1\", \"2\", \"3\", \"4\", \"5\", \"6\", \"7\", \"8\", \"9\", \"10\", \"11\", \"12\", \"13\", \"14\", \"15\", \"16\", \"17\", \"18\", \"19\", \"20\", \"21\", \"22\", \"23\", \"24\", \"25\", \"26\", \"27\", \"28\", \"29\", \"30\", \"31\", \"32\", \"33\", \"34\", \"35\", \"36\", \"37\", \"38\", \"39\"], \"mode\": \"lines\", \"name\": \"average_precision_score_binary_max\", \"stepped\": true, \"type\": \"scatter\", \"data\": [0.7919802536271107, 0.8167202259837344, 0.8167202259837344, 0.8167202259837344, 0.8167202259837344, 0.8278932849568307, 0.8278932849568307, 0.8278932849568307, 0.8278932849568307, 0.8278932849568307, 0.8278932849568307, 0.8525259560712316, 0.8525259560712316, 0.8525259560712316, 0.8525259560712316, 0.8525259560712316, 0.8525259560712316, 0.8525259560712316, 0.8525259560712316, 0.8525259560712316, 0.8525259560712316, 0.8525259560712316, 0.8525259560712316, 0.8525259560712316, 0.8525259560712316, 0.8525259560712316, 0.8525259560712316, 0.8525259560712316, 0.8525259560712316, 0.8525259560712316, 0.8525259560712316, 0.8525259560712316, 0.8525259560712316, 0.8525259560712316, 0.8525259560712316, 0.8525259560712316, 0.8525259560712316, 0.8525259560712316, 0.8525259560712316, 0.8525259560712316]}], \"recall_score_micro\": [{\"categories\": [\"0\", \"1\", \"2\", \"3\", \"4\", \"5\", \"6\", \"7\", \"8\", \"9\", \"10\", \"11\", \"12\", \"13\", \"14\", \"15\", \"16\", \"17\", \"18\", \"19\", \"20\", \"21\", \"22\", \"23\", \"24\", \"25\", \"26\", \"27\", \"28\", \"29\", \"30\", \"31\", \"32\", \"33\", \"34\", \"35\", \"36\", \"37\", \"38\", \"39\"], \"mode\": \"markers\", \"name\": \"recall_score_micro\", \"stepped\": false, \"type\": \"scatter\", \"data\": [0.8059887005649717, 0.8259322033898304, 0.8226553672316383, 0.8161581920903955, 0.6019209039548021, 0.8327118644067797, 0.7858757062146893, 0.8093785310734465, 0.6019209039548024, 0.7290395480225988, 0.8059887005649717, 0.8258192090395481, 0.7455932203389831, 0.7158757062146892, 0.7157627118644068, 0.7224858757062147, 0.7559887005649718, 0.8061016949152542, 0.8161016949152543, 0.8227118644067797, 0.8160451977401131, 0.8260451977401131, 0.836271186440678, 0.836045197740113, 0.8293785310734464, 0.8292090395480226, 0.8496610169491525, 0.8393785310734463, 0.836045197740113, 0.8327118644067795, 0.67909604519774, 0.8327118644067797, 0.8427118644067797, 0.8393220338983051, 0.8127118644067796, 0.6690395480225988, 0.8529943502824858, 0.8529378531073446, 0.8797175141242939, 0.8628813559322033]}, {\"categories\": [\"0\", \"1\", \"2\", \"3\", \"4\", \"5\", \"6\", \"7\", \"8\", \"9\", \"10\", \"11\", \"12\", \"13\", \"14\", \"15\", \"16\", \"17\", \"18\", \"19\", \"20\", \"21\", \"22\", \"23\", \"24\", \"25\", \"26\", \"27\", \"28\", \"29\", \"30\", \"31\", \"32\", \"33\", \"34\", \"35\", \"36\", \"37\", \"38\", \"39\"], \"mode\": \"lines\", \"name\": \"recall_score_micro_max\", \"stepped\": true, \"type\": \"scatter\", \"data\": [0.8059887005649717, 0.8259322033898304, 0.8259322033898304, 0.8259322033898304, 0.8259322033898304, 0.8327118644067797, 0.8327118644067797, 0.8327118644067797, 0.8327118644067797, 0.8327118644067797, 0.8327118644067797, 0.8327118644067797, 0.8327118644067797, 0.8327118644067797, 0.8327118644067797, 0.8327118644067797, 0.8327118644067797, 0.8327118644067797, 0.8327118644067797, 0.8327118644067797, 0.8327118644067797, 0.8327118644067797, 0.836271186440678, 0.836271186440678, 0.836271186440678, 0.836271186440678, 0.8496610169491525, 0.8496610169491525, 0.8496610169491525, 0.8496610169491525, 0.8496610169491525, 0.8496610169491525, 0.8496610169491525, 0.8496610169491525, 0.8496610169491525, 0.8496610169491525, 0.8529943502824858, 0.8529943502824858, 0.8797175141242939, 0.8797175141242939]}]}, \"metricName\": null, \"primaryMetricName\": \"accuracy\", \"showLegend\": false}, \"run_metrics\": [{\"name\": \"experiment_status\", \"run_id\": \"AutoML_fa14536e-4625-40e7-a2bc-5285f16808f0\", \"categories\": [0, 1, 2, 3, 4, 5, 6, 7, 8, 9, 10, 11, 12, 13], \"series\": [{\"data\": [\"DatasetEvaluation\", \"FeaturesGeneration\", \"DatasetFeaturization\", \"DatasetFeaturizationCompleted\", \"DatasetCrossValidationSplit\", \"ModelSelection\", \"BestRunExplainModel\", \"ModelExplanationDataSetSetup\", \"PickSurrogateModel\", \"EngineeredFeatureExplanations\", \"EngineeredFeatureExplanations\", \"RawFeaturesExplanations\", \"RawFeaturesExplanations\", \"BestRunExplainModel\"]}]}, {\"name\": \"experiment_status_description\", \"run_id\": \"AutoML_fa14536e-4625-40e7-a2bc-5285f16808f0\", \"categories\": [0, 1, 2, 3, 4, 5, 6, 7, 8, 9, 10, 11, 12, 13], \"series\": [{\"data\": [\"Gathering dataset statistics.\", \"Generating features for the dataset.\", \"Beginning to fit featurizers and featurize the dataset.\", \"Completed fit featurizers and featurizing the dataset.\", \"Generating individually featurized CV splits.\", \"Beginning model selection.\", \"Best run model explanations started\", \"Model explanations data setup completed\", \"Choosing LightGBM as the surrogate model for explanations\", \"Computation of engineered features started\", \"Computation of engineered features completed\", \"Computation of raw features started\", \"Computation of raw features completed\", \"Best run model explanations completed\"]}]}, {\"name\": \"average_precision_score_weighted\", \"run_id\": \"AutoML_fa14536e-4625-40e7-a2bc-5285f16808f0\", \"categories\": [0], \"series\": [{\"data\": [0.9159557818244755]}]}, {\"name\": \"accuracy\", \"run_id\": \"AutoML_fa14536e-4625-40e7-a2bc-5285f16808f0\", \"categories\": [0], \"series\": [{\"data\": [0.8797175141242939]}]}, {\"name\": \"precision_score_weighted\", \"run_id\": \"AutoML_fa14536e-4625-40e7-a2bc-5285f16808f0\", \"categories\": [0], \"series\": [{\"data\": [0.8978397339447616]}]}, {\"name\": \"AUC_weighted\", \"run_id\": \"AutoML_fa14536e-4625-40e7-a2bc-5285f16808f0\", \"categories\": [0], \"series\": [{\"data\": [0.9080679448135843]}]}, {\"name\": \"average_precision_score_binary\", \"run_id\": \"AutoML_fa14536e-4625-40e7-a2bc-5285f16808f0\", \"categories\": [0], \"series\": [{\"data\": [0.8248685712309411]}]}, {\"name\": \"precision_score_micro\", \"run_id\": \"AutoML_fa14536e-4625-40e7-a2bc-5285f16808f0\", \"categories\": [0], \"series\": [{\"data\": [0.8797175141242939]}]}, {\"name\": \"average_precision_score_micro\", \"run_id\": \"AutoML_fa14536e-4625-40e7-a2bc-5285f16808f0\", \"categories\": [0], \"series\": [{\"data\": [0.9125744519302705]}]}, {\"name\": \"balanced_accuracy\", \"run_id\": \"AutoML_fa14536e-4625-40e7-a2bc-5285f16808f0\", \"categories\": [0], \"series\": [{\"data\": [0.8533333333333333]}]}, {\"name\": \"weighted_accuracy\", \"run_id\": \"AutoML_fa14536e-4625-40e7-a2bc-5285f16808f0\", \"categories\": [0], \"series\": [{\"data\": [0.8973107278267498]}]}, {\"name\": \"f1_score_binary\", \"run_id\": \"AutoML_fa14536e-4625-40e7-a2bc-5285f16808f0\", \"categories\": [0], \"series\": [{\"data\": [0.798097131120387]}]}, {\"name\": \"precision_score_macro\", \"run_id\": \"AutoML_fa14536e-4625-40e7-a2bc-5285f16808f0\", \"categories\": [0], \"series\": [{\"data\": [0.8868283836983851]}]}, {\"name\": \"recall_score_micro\", \"run_id\": \"AutoML_fa14536e-4625-40e7-a2bc-5285f16808f0\", \"categories\": [0], \"series\": [{\"data\": [0.8797175141242939]}]}, {\"name\": \"f1_score_micro\", \"run_id\": \"AutoML_fa14536e-4625-40e7-a2bc-5285f16808f0\", \"categories\": [0], \"series\": [{\"data\": [0.8797175141242939]}]}, {\"name\": \"recall_score_weighted\", \"run_id\": \"AutoML_fa14536e-4625-40e7-a2bc-5285f16808f0\", \"categories\": [0], \"series\": [{\"data\": [0.8797175141242939]}]}, {\"name\": \"recall_score_macro\", \"run_id\": \"AutoML_fa14536e-4625-40e7-a2bc-5285f16808f0\", \"categories\": [0], \"series\": [{\"data\": [0.8533333333333333]}]}, {\"name\": \"precision_score_binary\", \"run_id\": \"AutoML_fa14536e-4625-40e7-a2bc-5285f16808f0\", \"categories\": [0], \"series\": [{\"data\": [0.8893152613976412]}]}, {\"name\": \"AUC_binary\", \"run_id\": \"AutoML_fa14536e-4625-40e7-a2bc-5285f16808f0\", \"categories\": [0], \"series\": [{\"data\": [0.9080679448135843]}]}, {\"name\": \"f1_score_weighted\", \"run_id\": \"AutoML_fa14536e-4625-40e7-a2bc-5285f16808f0\", \"categories\": [0], \"series\": [{\"data\": [0.8755182681309363]}]}, {\"name\": \"recall_score_binary\", \"run_id\": \"AutoML_fa14536e-4625-40e7-a2bc-5285f16808f0\", \"categories\": [0], \"series\": [{\"data\": [0.7541666666666667]}]}, {\"name\": \"matthews_correlation\", \"run_id\": \"AutoML_fa14536e-4625-40e7-a2bc-5285f16808f0\", \"categories\": [0], \"series\": [{\"data\": [0.737022258585793]}]}, {\"name\": \"log_loss\", \"run_id\": \"AutoML_fa14536e-4625-40e7-a2bc-5285f16808f0\", \"categories\": [0], \"series\": [{\"data\": [0.3844556178799626]}]}, {\"name\": \"average_precision_score_macro\", \"run_id\": \"AutoML_fa14536e-4625-40e7-a2bc-5285f16808f0\", \"categories\": [0], \"series\": [{\"data\": [0.8890097891117617]}]}, {\"name\": \"AUC_micro\", \"run_id\": \"AutoML_fa14536e-4625-40e7-a2bc-5285f16808f0\", \"categories\": [0], \"series\": [{\"data\": [0.9122754476682946]}]}, {\"name\": \"f1_score_macro\", \"run_id\": \"AutoML_fa14536e-4625-40e7-a2bc-5285f16808f0\", \"categories\": [0], \"series\": [{\"data\": [0.8550784356251512]}]}, {\"name\": \"norm_macro_recall\", \"run_id\": \"AutoML_fa14536e-4625-40e7-a2bc-5285f16808f0\", \"categories\": [0], \"series\": [{\"data\": [0.7066666666666667]}]}, {\"name\": \"AUC_macro\", \"run_id\": \"AutoML_fa14536e-4625-40e7-a2bc-5285f16808f0\", \"categories\": [0], \"series\": [{\"data\": [0.9080679448135843]}]}], \"run_logs\": \"\\nRun is completed.\", \"graph\": {}, \"widget_settings\": {\"childWidgetDisplay\": \"popup\", \"send_telemetry\": false, \"log_level\": \"INFO\", \"sdk_version\": \"1.34.0\"}, \"loading\": false}"
     },
     "metadata": {},
     "output_type": "display_data"
    }
   ],
   "source": [
    "RunDetails(remote_run).show()"
   ]
  },
  {
   "cell_type": "code",
   "execution_count": 32,
   "metadata": {
    "scrolled": false
   },
   "outputs": [
    {
     "data": {
      "text/html": [
       "<table style=\"width:100%\"><tr><th>Experiment</th><th>Id</th><th>Type</th><th>Status</th><th>Details Page</th><th>Docs Page</th></tr><tr><td>automl-heart-failure-prediction</td><td>AutoML_fa14536e-4625-40e7-a2bc-5285f16808f0</td><td>automl</td><td>Completed</td><td><a href=\"https://ml.azure.com/runs/AutoML_fa14536e-4625-40e7-a2bc-5285f16808f0?wsid=/subscriptions/d4ad7261-832d-46b2-b093-22156001df5b/resourcegroups/aml-quickstarts-159882/workspaces/quick-starts-ws-159882&amp;tid=660b3398-b80e-49d2-bc5b-ac1dc93b5254\" target=\"_blank\" rel=\"noopener\">Link to Azure Machine Learning studio</a></td><td><a href=\"https://docs.microsoft.com/en-us/python/api/overview/azure/ml/intro?view=azure-ml-py\" target=\"_blank\" rel=\"noopener\">Link to Documentation</a></td></tr></table>"
      ],
      "text/plain": [
       "<IPython.core.display.HTML object>"
      ]
     },
     "metadata": {},
     "output_type": "display_data"
    },
    {
     "name": "stdout",
     "output_type": "stream",
     "text": [
      "\n",
      "\n",
      "****************************************************************************************************\n",
      "DATA GUARDRAILS: \n",
      "\n",
      "TYPE:         Class balancing detection\n",
      "STATUS:       PASSED\n",
      "DESCRIPTION:  Your inputs were analyzed, and all classes are balanced in your training data.\n",
      "              Learn more about imbalanced data: https://aka.ms/AutomatedMLImbalancedData\n",
      "\n",
      "****************************************************************************************************\n",
      "\n",
      "TYPE:         Missing feature values imputation\n",
      "STATUS:       PASSED\n",
      "DESCRIPTION:  No feature missing values were detected in the training data.\n",
      "              Learn more about missing value imputation: https://aka.ms/AutomatedMLFeaturization\n",
      "\n",
      "****************************************************************************************************\n",
      "\n",
      "TYPE:         High cardinality feature detection\n",
      "STATUS:       PASSED\n",
      "DESCRIPTION:  Your inputs were analyzed, and no high cardinality features were detected.\n",
      "              Learn more about high cardinality feature handling: https://aka.ms/AutomatedMLFeaturization\n",
      "\n",
      "****************************************************************************************************\n",
      "\n",
      "****************************************************************************************************\n",
      "ITERATION: The iteration being evaluated.\n",
      "PIPELINE: A summary description of the pipeline being evaluated.\n",
      "DURATION: Time taken for the current iteration.\n",
      "METRIC: The result of computing score on the fitted pipeline.\n",
      "BEST: The best observed score thus far.\n",
      "****************************************************************************************************\n",
      "\n",
      " ITERATION   PIPELINE                                       DURATION      METRIC      BEST\n",
      "         0   MaxAbsScaler LightGBM                          0:00:37       0.8060    0.8060\n",
      "         1   MaxAbsScaler XGBoostClassifier                 0:00:37       0.8259    0.8259\n",
      "         2   MaxAbsScaler ExtremeRandomTrees                0:00:40       0.8227    0.8259\n",
      "         3   SparseNormalizer XGBoostClassifier             0:00:38       0.8162    0.8259\n",
      "         4   StandardScalerWrapper KNN                      0:05:17       0.6019    0.8259\n",
      "         5   MaxAbsScaler LightGBM                          0:05:19       0.8327    0.8327\n",
      "         6   RobustScaler LogisticRegression                0:05:14       0.7859    0.8327\n",
      "         7   MaxAbsScaler LightGBM                          0:00:41       0.8094    0.8327\n",
      "        10   StandardScalerWrapper XGBoostClassifier        0:00:39       0.8060    0.8327\n",
      "        11   MinMaxScaler RandomForest                      0:00:41       0.8258    0.8327\n",
      "         8   StandardScalerWrapper KNN                      0:00:38       0.6019    0.8327\n",
      "         9   StandardScalerWrapper SVM                      0:00:39       0.7290    0.8327\n",
      "        12   StandardScalerWrapper LogisticRegression       0:00:37       0.7456    0.8327\n",
      "        13   StandardScalerWrapper KNN                      0:00:40       0.7159    0.8327\n",
      "        14   RobustScaler KNN                               0:00:41       0.7158    0.8327\n",
      "        15   MinMaxScaler KNN                               0:00:42       0.7225    0.8327\n",
      "        16   SparseNormalizer KNN                           0:00:38       0.7560    0.8327\n",
      "        17   MaxAbsScaler LogisticRegression                0:00:38       0.8061    0.8327\n",
      "        18   StandardScalerWrapper XGBoostClassifier        0:00:41       0.8161    0.8327\n",
      "        19   StandardScalerWrapper XGBoostClassifier        0:00:42       0.8227    0.8327\n",
      "        20   MaxAbsScaler LogisticRegression                0:00:40       0.8160    0.8327\n",
      "        21   StandardScalerWrapper XGBoostClassifier        0:00:40       0.8260    0.8327\n",
      "        22   SparseNormalizer RandomForest                  0:00:41       0.8363    0.8363\n",
      "        23   StandardScalerWrapper RandomForest             0:00:38       0.8360    0.8363\n",
      "        24   StandardScalerWrapper XGBoostClassifier        0:00:38       0.8294    0.8363\n",
      "        25   MinMaxScaler LightGBM                          0:00:45       0.8292    0.8363\n",
      "        26   SparseNormalizer XGBoostClassifier             0:00:39       0.8497    0.8497\n",
      "        27   RobustScaler RandomForest                      0:00:40       0.8394    0.8497\n",
      "        28   MinMaxScaler LightGBM                          0:00:38       0.8360    0.8497\n",
      "        29   RobustScaler LightGBM                          0:00:39       0.8327    0.8497\n",
      "        30   TruncatedSVDWrapper XGBoostClassifier          0:00:38       0.6791    0.8497\n",
      "        31   RobustScaler RandomForest                      0:00:43       0.8327    0.8497\n",
      "        32   SparseNormalizer XGBoostClassifier             0:00:37       0.8427    0.8497\n",
      "        33   StandardScalerWrapper XGBoostClassifier        0:00:40       0.8393    0.8497\n",
      "        34   StandardScalerWrapper XGBoostClassifier        0:00:41       0.8127    0.8497\n",
      "        35   PCA XGBoostClassifier                          0:00:41       0.6690    0.8497\n",
      "        36   SparseNormalizer XGBoostClassifier             0:00:38       0.8530    0.8530\n",
      "        37   SparseNormalizer XGBoostClassifier             0:00:41       0.8529    0.8530\n",
      "        38    VotingEnsemble                                0:01:01       0.8797    0.8797\n",
      "        39    StackEnsemble                                 0:01:00       0.8629    0.8797\n"
     ]
    },
    {
     "data": {
      "text/plain": [
       "{'runId': 'AutoML_fa14536e-4625-40e7-a2bc-5285f16808f0',\n",
       " 'target': 'heart-compute',\n",
       " 'status': 'Completed',\n",
       " 'startTimeUtc': '2021-10-03T10:30:31.580956Z',\n",
       " 'endTimeUtc': '2021-10-03T10:59:05.988934Z',\n",
       " 'services': {},\n",
       " 'properties': {'num_iterations': '40',\n",
       "  'training_type': 'TrainFull',\n",
       "  'acquisition_function': 'EI',\n",
       "  'primary_metric': 'accuracy',\n",
       "  'train_split': '0',\n",
       "  'acquisition_parameter': '0',\n",
       "  'num_cross_validation': '5',\n",
       "  'target': 'heart-compute',\n",
       "  'AMLSettingsJsonString': '{\"path\":null,\"name\":\"automl-heart-failure-prediction\",\"subscription_id\":\"d4ad7261-832d-46b2-b093-22156001df5b\",\"resource_group\":\"aml-quickstarts-159882\",\"workspace_name\":\"quick-starts-ws-159882\",\"region\":\"southcentralus\",\"compute_target\":\"heart-compute\",\"spark_service\":null,\"azure_service\":\"remote\",\"many_models\":false,\"pipeline_fetch_max_batch_size\":1,\"enable_batch_run\":false,\"enable_run_restructure\":false,\"start_auxiliary_runs_before_parent_complete\":false,\"enable_code_generation\":false,\"iterations\":40,\"primary_metric\":\"accuracy\",\"task_type\":\"classification\",\"data_script\":null,\"test_size\":0.0,\"test_include_predictions_only\":false,\"validation_size\":0.0,\"n_cross_validations\":5,\"y_min\":null,\"y_max\":null,\"num_classes\":null,\"featurization\":\"auto\",\"_ignore_package_version_incompatibilities\":false,\"is_timeseries\":false,\"max_cores_per_iteration\":1,\"max_concurrent_iterations\":4,\"iteration_timeout_minutes\":null,\"mem_in_mb\":null,\"enforce_time_on_windows\":false,\"experiment_timeout_minutes\":15,\"experiment_exit_score\":null,\"whitelist_models\":null,\"blacklist_algos\":[\"TensorFlowLinearClassifier\",\"TensorFlowDNN\"],\"supported_models\":[\"BernoulliNaiveBayes\",\"SVM\",\"LightGBM\",\"GradientBoosting\",\"LinearSVM\",\"RandomForest\",\"ExtremeRandomTrees\",\"TensorFlowDNN\",\"AveragedPerceptronClassifier\",\"TensorFlowLinearClassifier\",\"MultinomialNaiveBayes\",\"LogisticRegression\",\"XGBoostClassifier\",\"KNN\",\"DecisionTree\",\"SGD\"],\"private_models\":[],\"auto_blacklist\":true,\"blacklist_samples_reached\":false,\"exclude_nan_labels\":true,\"verbosity\":20,\"_debug_log\":\"azureml_automl.log\",\"show_warnings\":false,\"model_explainability\":true,\"service_url\":null,\"sdk_url\":null,\"sdk_packages\":null,\"enable_onnx_compatible_models\":false,\"enable_split_onnx_featurizer_estimator_models\":false,\"vm_type\":\"STANDARD_D2_V2\",\"telemetry_verbosity\":20,\"send_telemetry\":true,\"enable_dnn\":false,\"scenario\":\"SDK-1.13.0\",\"environment_label\":null,\"save_mlflow\":false,\"force_text_dnn\":false,\"enable_feature_sweeping\":true,\"enable_early_stopping\":true,\"early_stopping_n_iters\":10,\"metrics\":null,\"enable_metric_confidence\":false,\"enable_ensembling\":true,\"enable_stack_ensembling\":true,\"ensemble_iterations\":15,\"enable_tf\":false,\"enable_subsampling\":false,\"subsample_seed\":null,\"enable_nimbusml\":false,\"enable_streaming\":false,\"force_streaming\":false,\"track_child_runs\":true,\"allowed_private_models\":[],\"label_column_name\":\"DEATH_EVENT\",\"weight_column_name\":null,\"cv_split_column_names\":null,\"positive_label\":null,\"enable_local_managed\":false,\"_local_managed_run_id\":null,\"cost_mode\":1,\"lag_length\":0,\"metric_operation\":\"maximize\",\"preprocess\":true}',\n",
       "  'DataPrepJsonString': '{\\\\\"training_data\\\\\": {\\\\\"datasetId\\\\\": \\\\\"a7398654-f59c-416f-8798-c3bd9eaeb682\\\\\"}, \\\\\"datasets\\\\\": 0}',\n",
       "  'EnableSubsampling': 'False',\n",
       "  'runTemplate': 'AutoML',\n",
       "  'azureml.runsource': 'automl',\n",
       "  'display_task_type': 'classification',\n",
       "  'dependencies_versions': '{\"azureml-widgets\": \"1.34.0\", \"azureml-train\": \"1.34.0\", \"azureml-train-restclients-hyperdrive\": \"1.34.0\", \"azureml-train-core\": \"1.34.0\", \"azureml-train-automl\": \"1.34.0\", \"azureml-train-automl-runtime\": \"1.34.0\", \"azureml-train-automl-client\": \"1.34.0\", \"azureml-tensorboard\": \"1.34.0\", \"azureml-telemetry\": \"1.34.0\", \"azureml-sdk\": \"1.34.0\", \"azureml-samples\": \"0+unknown\", \"azureml-responsibleai\": \"1.34.0\", \"azureml-pipeline\": \"1.34.0\", \"azureml-pipeline-steps\": \"1.34.0\", \"azureml-pipeline-core\": \"1.34.0\", \"azureml-opendatasets\": \"1.34.0\", \"azureml-mlflow\": \"1.34.0\", \"azureml-interpret\": \"1.34.0\", \"azureml-inference-server-http\": \"0.3.1\", \"azureml-explain-model\": \"1.34.0\", \"azureml-defaults\": \"1.34.0\", \"azureml-dataset-runtime\": \"1.34.0\", \"azureml-dataprep\": \"2.22.2\", \"azureml-dataprep-rslex\": \"1.20.1\", \"azureml-dataprep-native\": \"38.0.0\", \"azureml-datadrift\": \"1.34.0\", \"azureml-core\": \"1.34.0\", \"azureml-contrib-services\": \"1.34.0\", \"azureml-contrib-server\": \"1.34.0\", \"azureml-contrib-reinforcementlearning\": \"1.34.0\", \"azureml-contrib-pipeline-steps\": \"1.34.0\", \"azureml-contrib-notebook\": \"1.34.0\", \"azureml-contrib-fairness\": \"1.34.0\", \"azureml-contrib-dataset\": \"1.34.0\", \"azureml-contrib-automl-pipeline-steps\": \"1.34.0\", \"azureml-cli-common\": \"1.34.0\", \"azureml-automl-runtime\": \"1.34.0\", \"azureml-automl-dnn-nlp\": \"1.34.0\", \"azureml-automl-core\": \"1.34.0\", \"azureml-accel-models\": \"1.34.0\"}',\n",
       "  '_aml_system_scenario_identification': 'Remote.Parent',\n",
       "  'ClientType': 'SDK',\n",
       "  'environment_cpu_name': 'AzureML-AutoML',\n",
       "  'environment_cpu_label': 'prod',\n",
       "  'environment_gpu_name': 'AzureML-AutoML-GPU',\n",
       "  'environment_gpu_label': 'prod',\n",
       "  'root_attribution': 'automl',\n",
       "  'attribution': 'AutoML',\n",
       "  'Orchestrator': 'AutoML',\n",
       "  'CancelUri': 'https://southcentralus.api.azureml.ms/jasmine/v1.0/subscriptions/d4ad7261-832d-46b2-b093-22156001df5b/resourceGroups/aml-quickstarts-159882/providers/Microsoft.MachineLearningServices/workspaces/quick-starts-ws-159882/experimentids/b56d39d6-e5a2-4942-af8b-84bf0105bf03/cancel/AutoML_fa14536e-4625-40e7-a2bc-5285f16808f0',\n",
       "  'ClientSdkVersion': '1.34.0.post1',\n",
       "  'snapshotId': '00000000-0000-0000-0000-000000000000',\n",
       "  'SetupRunId': 'AutoML_fa14536e-4625-40e7-a2bc-5285f16808f0_setup',\n",
       "  'SetupRunContainerId': 'dcid.AutoML_fa14536e-4625-40e7-a2bc-5285f16808f0_setup',\n",
       "  'FeaturizationRunJsonPath': 'featurizer_container.json',\n",
       "  'FeaturizationRunId': 'AutoML_fa14536e-4625-40e7-a2bc-5285f16808f0_featurize',\n",
       "  'ProblemInfoJsonString': '{\"dataset_num_categorical\": 0, \"is_sparse\": false, \"subsampling\": false, \"has_extra_col\": true, \"dataset_classes\": 2, \"dataset_features\": 12, \"dataset_samples\": 299, \"single_frequency_class_detected\": false}',\n",
       "  'ModelExplainRunId': 'AutoML_fa14536e-4625-40e7-a2bc-5285f16808f0_ModelExplain',\n",
       "  'azureml.git.repository_uri': 'https://github.com/DubWiser/udacity-azmlnd-capstone.git',\n",
       "  'mlflow.source.git.repoURL': 'https://github.com/DubWiser/udacity-azmlnd-capstone.git',\n",
       "  'azureml.git.branch': 'main',\n",
       "  'mlflow.source.git.branch': 'main',\n",
       "  'azureml.git.commit': 'd9f609a3b416de303155ca48e58af64699e7637a',\n",
       "  'mlflow.source.git.commit': 'd9f609a3b416de303155ca48e58af64699e7637a',\n",
       "  'azureml.git.dirty': 'True'},\n",
       " 'inputDatasets': [{'dataset': {'id': 'a7398654-f59c-416f-8798-c3bd9eaeb682'}, 'consumptionDetails': {'type': 'RunInput', 'inputName': 'training_data', 'mechanism': 'Direct'}}],\n",
       " 'outputDatasets': [],\n",
       " 'logFiles': {},\n",
       " 'submittedBy': 'ODL_User 159882'}"
      ]
     },
     "execution_count": 32,
     "metadata": {},
     "output_type": "execute_result"
    }
   ],
   "source": [
    "remote_run.wait_for_completion(show_output=True)"
   ]
  },
  {
   "cell_type": "markdown",
   "metadata": {},
   "source": [
    "## Best Model\n",
    "\n",
    "TODO: In the cell below, get the best model from the automl experiments and display all the properties of the model.\n",
    "\n"
   ]
  },
  {
   "cell_type": "code",
   "execution_count": 35,
   "metadata": {},
   "outputs": [],
   "source": [
    "best_run, fitted_model = remote_run.get_output()"
   ]
  },
  {
   "cell_type": "code",
   "execution_count": 36,
   "metadata": {
    "gather": {
     "logged": 1598431425670
    },
    "jupyter": {
     "outputs_hidden": false,
     "source_hidden": false
    },
    "nteract": {
     "transient": {
      "deleting": false
     }
    }
   },
   "outputs": [
    {
     "name": "stdout",
     "output_type": "stream",
     "text": [
      "Best Run Id : AutoML_fa14536e-4625-40e7-a2bc-5285f16808f0_38\n",
      "Accuracy : 0.8797175141242939\n",
      "Best metrics : {'precision_score_binary': 0.8893152613976412, 'AUC_weighted': 0.9080679448135843, 'recall_score_binary': 0.7541666666666667, 'precision_score_macro': 0.8868283836983851, 'log_loss': 0.3844556178799626, 'AUC_macro': 0.9080679448135843, 'precision_score_weighted': 0.8978397339447616, 'f1_score_weighted': 0.8755182681309363, 'f1_score_macro': 0.8550784356251512, 'average_precision_score_macro': 0.8890097891117617, 'f1_score_micro': 0.8797175141242939, 'balanced_accuracy': 0.8533333333333333, 'norm_macro_recall': 0.7066666666666667, 'matthews_correlation': 0.737022258585793, 'recall_score_weighted': 0.8797175141242939, 'AUC_micro': 0.9122754476682946, 'precision_score_micro': 0.8797175141242939, 'recall_score_macro': 0.8533333333333333, 'weighted_accuracy': 0.8973107278267498, 'f1_score_binary': 0.798097131120387, 'average_precision_score_weighted': 0.9159557818244755, 'recall_score_micro': 0.8797175141242939, 'AUC_binary': 0.9080679448135843, 'accuracy': 0.8797175141242939, 'average_precision_score_micro': 0.9125744519302705, 'average_precision_score_binary': 0.8248685712309411, 'confusion_matrix': 'aml://artifactId/ExperimentRun/dcid.AutoML_fa14536e-4625-40e7-a2bc-5285f16808f0_38/confusion_matrix', 'accuracy_table': 'aml://artifactId/ExperimentRun/dcid.AutoML_fa14536e-4625-40e7-a2bc-5285f16808f0_38/accuracy_table'}\n",
      "Best model : Pipeline(memory=None,\n",
      "         steps=[('datatransformer',\n",
      "                 DataTransformer(enable_dnn=False, enable_feature_sweeping=True, feature_sweeping_config={}, feature_sweeping_timeout=86400, featurization_config=None, force_text_dnn=False, is_cross_validation=True, is_onnx_compatible=False, observer=None, task='classification', working_dir='/mnt/batch/tasks/shared/LS_root/mount...\n",
      ")), ('svcwrapper', SVCWrapper(C=16.768329368110066, break_ties=False, cache_size=200, class_weight='balanced', coef0=0.0, decision_function_shape='ovr', degree=3, gamma='scale', kernel='rbf', max_iter=-1, probability=True, random_state=None, shrinking=True, tol=0.001, verbose=False))], verbose=False))], flatten_transform=None, weights=[0.09090909090909091, 0.09090909090909091, 0.18181818181818182, 0.09090909090909091, 0.09090909090909091, 0.09090909090909091, 0.09090909090909091, 0.09090909090909091, 0.18181818181818182]))],\n",
      "         verbose=False)\n"
     ]
    }
   ],
   "source": [
    "best_metrics = best_run.get_metrics()\n",
    "\n",
    "print(\"Best Run Id : {}\".format(best_run.id), \n",
    "      \"Accuracy : {}\".format(best_metrics['accuracy']), \n",
    "      \"Best metrics : {}\".format(best_metrics), \n",
    "      \"Best model : {}\".format(fitted_model), sep = '\\n')"
   ]
  },
  {
   "cell_type": "code",
   "execution_count": 37,
   "metadata": {},
   "outputs": [
    {
     "name": "stdout",
     "output_type": "stream",
     "text": [
      "PreFittedSoftVotingClassifier(\n",
      "    estimators=[('36', Pipeline(\n",
      "        memory=None,\n",
      "        steps=[('sparsenormalizer', Normalizer(\n",
      "            copy=True,\n",
      "            norm='l1'\n",
      "        )), ('xgboostclassifier', XGBoostClassifier(\n",
      "            random_state=0,\n",
      "            n_jobs=1,\n",
      "            problem_info=ProblemInfo(\n",
      "                gpu_training_param_dict={'processing_unit_type': 'cpu'}\n",
      "            ),\n",
      "            booster='gbtree',\n",
      "            colsample_bylevel=1,\n",
      "            colsample_bytree=1,\n",
      "            eta=0.5,\n",
      "            gamma=0.01,\n",
      "            max_depth=7,\n",
      "            max_leaves=15,\n",
      "            n_estimators=100,\n",
      "            objective='reg:logistic',\n",
      "            reg_alpha=0.5208333333333334,\n",
      "            reg_lambda=2.291666666666667,\n",
      "            subsample=1,\n",
      "            tree_method='auto'\n",
      "        ))],\n",
      "        verbose=False\n",
      "    )), ('37', Pipeline(\n",
      "        memory=None,\n",
      "        steps=[('sparsenormalizer', Normalizer(\n",
      "            copy=True,\n",
      "            norm='l2'\n",
      "        )), ('xgboostclassifier', XGBoostClassifier(\n",
      "            random_state=0,\n",
      "            n_jobs=1,\n",
      "            problem_info=ProblemInfo(\n",
      "                gpu_training_param_dict={'processing_unit_type': 'cpu'}\n",
      "            ),\n",
      "            booster='gbtree',\n",
      "            colsample_bytree=0.6,\n",
      "            eta=0.2,\n",
      "            gamma=0.1,\n",
      "            max_depth=8,\n",
      "            max_leaves=0,\n",
      "            n_estimators=600,\n",
      "            objective='reg:logistic',\n",
      "            reg_alpha=0.8333333333333334,\n",
      "            reg_lambda=1.7708333333333335,\n",
      "            subsample=0.8,\n",
      "            tree_method='auto'\n",
      "        ))],\n",
      "        verbose=False\n",
      "    )), ('26', Pipeline(\n",
      "        memory=None,\n",
      "        steps=[('sparsenormalizer', Normalizer(\n",
      "            copy=True,\n",
      "            norm='l1'\n",
      "        )), ('xgboostclassifier', XGBoostClassifier(\n",
      "            random_state=0,\n",
      "            n_jobs=1,\n",
      "            problem_info=ProblemInfo(\n",
      "                gpu_training_param_dict={'processing_unit_type': 'cpu'}\n",
      "            ),\n",
      "            booster='gbtree',\n",
      "            colsample_bytree=1,\n",
      "            eta=0.4,\n",
      "            gamma=0.1,\n",
      "            max_depth=10,\n",
      "            max_leaves=127,\n",
      "            n_estimators=50,\n",
      "            objective='reg:logistic',\n",
      "            reg_alpha=0.8333333333333334,\n",
      "            reg_lambda=1.1458333333333335,\n",
      "            subsample=0.8,\n",
      "            tree_method='auto'\n",
      "        ))],\n",
      "        verbose=False\n",
      "    )), ('32', Pipeline(\n",
      "        memory=None,\n",
      "        steps=[('sparsenormalizer', Normalizer(\n",
      "            copy=True,\n",
      "            norm='l1'\n",
      "        )), ('xgboostclassifier', XGBoostClassifier(\n",
      "            random_state=0,\n",
      "            n_jobs=1,\n",
      "            problem_info=ProblemInfo(\n",
      "                gpu_training_param_dict={'processing_unit_type': 'cpu'}\n",
      "            ),\n",
      "            booster='gbtree',\n",
      "            colsample_bytree=0.5,\n",
      "            eta=0.05,\n",
      "            gamma=0.1,\n",
      "            max_depth=9,\n",
      "            max_leaves=31,\n",
      "            n_estimators=50,\n",
      "            objective='reg:logistic',\n",
      "            reg_alpha=1.7708333333333335,\n",
      "            reg_lambda=2.3958333333333335,\n",
      "            subsample=0.6,\n",
      "            tree_method='auto'\n",
      "        ))],\n",
      "        verbose=False\n",
      "    )), ('27', Pipeline(\n",
      "        memory=None,\n",
      "        steps=[('robustscaler', RobustScaler(\n",
      "            copy=True,\n",
      "            quantile_range=[25, 75],\n",
      "            with_centering=True,\n",
      "            with_scaling=True\n",
      "        )), ('randomforestclassifier', RandomForestClassifier(\n",
      "            bootstrap=True,\n",
      "            ccp_alpha=0.0,\n",
      "            class_weight=None,\n",
      "            criterion='gini',\n",
      "            max_depth=None,\n",
      "            max_features=0.5,\n",
      "            max_leaf_nodes=None,\n",
      "            max_samples=None,\n",
      "            min_impurity_decrease=0.0,\n",
      "            min_impurity_split=None,\n",
      "            min_samples_leaf=0.01,\n",
      "            min_samples_split=0.19736842105263158,\n",
      "            min_weight_fraction_leaf=0.0,\n",
      "            n_estimators=100,\n",
      "            n_jobs=1,\n",
      "            oob_score=False,\n",
      "            random_state=None,\n",
      "            verbose=0,\n",
      "            warm_start=False\n",
      "        ))],\n",
      "        verbose=False\n",
      "    )), ('33', Pipeline(\n",
      "        memory=None,\n",
      "        steps=[('standardscalerwrapper', StandardScalerWrapper(\n",
      "            copy=True,\n",
      "            with_mean=False,\n",
      "            with_std=False\n",
      "        )), ('xgboostclassifier', XGBoostClassifier(\n",
      "            random_state=0,\n",
      "            n_jobs=1,\n",
      "            problem_info=ProblemInfo(\n",
      "                gpu_training_param_dict={'processing_unit_type': 'cpu'}\n",
      "            ),\n",
      "            booster='gbtree',\n",
      "            colsample_bytree=0.6,\n",
      "            eta=0.1,\n",
      "            gamma=0,\n",
      "            max_depth=6,\n",
      "            max_leaves=0,\n",
      "            n_estimators=200,\n",
      "            objective='reg:logistic',\n",
      "            reg_alpha=2.0833333333333335,\n",
      "            reg_lambda=1.25,\n",
      "            subsample=0.9,\n",
      "            tree_method='auto'\n",
      "        ))],\n",
      "        verbose=False\n",
      "    )), ('25', Pipeline(\n",
      "        memory=None,\n",
      "        steps=[('minmaxscaler', MinMaxScaler(\n",
      "            copy=True,\n",
      "            feature_range=(0, 1)\n",
      "        )), ('lightgbmclassifier', LightGBMClassifier(\n",
      "            boosting_type='goss',\n",
      "            colsample_bytree=0.5944444444444444,\n",
      "            learning_rate=0.06316157894736842,\n",
      "            max_bin=50,\n",
      "            max_depth=7,\n",
      "            min_child_weight=7,\n",
      "            min_data_in_leaf=0.08965620689655174,\n",
      "            min_split_gain=0.3157894736842105,\n",
      "            n_estimators=600,\n",
      "            num_leaves=197,\n",
      "            reg_alpha=0.3157894736842105,\n",
      "            reg_lambda=0.9473684210526315,\n",
      "            subsample=1,\n",
      "            random_state=None,\n",
      "            n_jobs=1,\n",
      "            problem_info=ProblemInfo(\n",
      "                gpu_training_param_dict={'processing_unit_type': 'cpu'}\n",
      "            )\n",
      "        ))],\n",
      "        verbose=False\n",
      "    )), ('11', Pipeline(\n",
      "        memory=None,\n",
      "        steps=[('minmaxscaler', MinMaxScaler(\n",
      "            copy=True,\n",
      "            feature_range=(0, 1)\n",
      "        )), ('randomforestclassifier', RandomForestClassifier(\n",
      "            bootstrap=True,\n",
      "            ccp_alpha=0.0,\n",
      "            class_weight='balanced',\n",
      "            criterion='gini',\n",
      "            max_depth=None,\n",
      "            max_features='sqrt',\n",
      "            max_leaf_nodes=None,\n",
      "            max_samples=None,\n",
      "            min_impurity_decrease=0.0,\n",
      "            min_impurity_split=None,\n",
      "            min_samples_leaf=0.01,\n",
      "            min_samples_split=0.33789473684210525,\n",
      "            min_weight_fraction_leaf=0.0,\n",
      "            n_estimators=200,\n",
      "            n_jobs=1,\n",
      "            oob_score=False,\n",
      "            random_state=None,\n",
      "            verbose=0,\n",
      "            warm_start=False\n",
      "        ))],\n",
      "        verbose=False\n",
      "    )), ('9', Pipeline(\n",
      "        memory=None,\n",
      "        steps=[('standardscalerwrapper', StandardScalerWrapper(\n",
      "            copy=True,\n",
      "            with_mean=True,\n",
      "            with_std=True\n",
      "        )), ('svcwrapper', SVCWrapper(\n",
      "            random_state=None,\n",
      "            C=16.768329368110066,\n",
      "            break_ties=False,\n",
      "            cache_size=200,\n",
      "            class_weight='balanced',\n",
      "            coef0=0.0,\n",
      "            decision_function_shape='ovr',\n",
      "            degree=3,\n",
      "            gamma='scale',\n",
      "            kernel='rbf',\n",
      "            max_iter=-1,\n",
      "            probability=True,\n",
      "            shrinking=True,\n",
      "            tol=0.001,\n",
      "            verbose=False\n",
      "        ))],\n",
      "        verbose=False\n",
      "    ))],\n",
      "    weights=[0.09090909090909091, 0.09090909090909091, 0.18181818181818182, 0.09090909090909091, 0.09090909090909091, 0.09090909090909091, 0.09090909090909091, 0.09090909090909091, 0.18181818181818182],\n",
      "    flatten_transform=None,\n",
      "    classification_labels=array([1, 0])\n",
      ")\n"
     ]
    }
   ],
   "source": [
    "print(fitted_model._final_estimator)"
   ]
  },
  {
   "cell_type": "code",
   "execution_count": null,
   "metadata": {
    "gather": {
     "logged": 1598431426111
    },
    "jupyter": {
     "outputs_hidden": false,
     "source_hidden": false
    },
    "nteract": {
     "transient": {
      "deleting": false
     }
    }
   },
   "outputs": [],
   "source": [
    "#TODO: Save the best model\n",
    "model = best_run.register_model(model_name = \"heart-failure-predict-best-model-automl\", model_path = './outputs/model.pkl')\n",
    "print(model)"
   ]
  },
  {
   "cell_type": "code",
   "execution_count": null,
   "metadata": {},
   "outputs": [],
   "source": [
    "for model in Model.list(ws):\n",
    "    print(model.name, 'version:', model.version)"
   ]
  },
  {
   "cell_type": "markdown",
   "metadata": {},
   "source": [
    "## Model Deployment\n",
    "\n",
    "Remember you have to deploy only one of the two models you trained but you still need to register both the models. Perform the steps in the rest of this notebook only if you wish to deploy this model.\n",
    "\n",
    "TODO: In the cell below, register the model, create an inference config and deploy the model as a web service."
   ]
  },
  {
   "cell_type": "code",
   "execution_count": null,
   "metadata": {
    "gather": {
     "logged": 1598431435189
    },
    "jupyter": {
     "outputs_hidden": false,
     "source_hidden": false
    },
    "nteract": {
     "transient": {
      "deleting": false
     }
    }
   },
   "outputs": [],
   "source": [
    "#Save the best model for the deployement\n",
    "import os\n",
    "os.makedirs('./aml-model', exist_ok=True)\n",
    "\n",
    "best_run.download_file('/outputs/model.pkl',os.path.join('./aml-model','heart-failure-predict-best-model-automl.pkl'))\n",
    "\n",
    "for f in best_run.get_file_names():\n",
    "    if f.startswith('outputs'):\n",
    "        output_file_path = os.path.join('./aml-model', f.split('/')[-1])\n",
    "        print(f'Downloading from {f} to {output_file_path} ...')\n",
    "        best_run.download_file(name=f, output_file_path=output_file_path)"
   ]
  },
  {
   "cell_type": "code",
   "execution_count": null,
   "metadata": {},
   "outputs": [],
   "source": [
    "model=best_run.register_model(\n",
    "            model_name = 'heart-failure-best-model-automl', \n",
    "            model_path = './outputs/model.pkl'\n",
    ")"
   ]
  },
  {
   "cell_type": "markdown",
   "metadata": {},
   "source": [
    "## Set up the environment"
   ]
  },
  {
   "cell_type": "code",
   "execution_count": null,
   "metadata": {},
   "outputs": [],
   "source": [
    "best_run.download_file('outputs/conda_env_v_1_0_0.yml', 'conda_env.yml')\n",
    "environment = Environment.from_conda_specification(name = 'heart-failure-env', file_path = 'conda_env.yml')"
   ]
  },
  {
   "cell_type": "markdown",
   "metadata": {},
   "source": [
    "## Download the scoring file"
   ]
  },
  {
   "cell_type": "markdown",
   "metadata": {
    "collapsed": true,
    "gather": {
     "logged": 1598431657736
    },
    "jupyter": {
     "outputs_hidden": false,
     "source_hidden": false
    },
    "nteract": {
     "transient": {
      "deleting": false
     }
    }
   },
   "source": [
    "TODO: In the cell below, send a request to the web service you deployed to test it."
   ]
  },
  {
   "cell_type": "code",
   "execution_count": null,
   "metadata": {
    "gather": {
     "logged": 1598432707604
    },
    "jupyter": {
     "outputs_hidden": false,
     "source_hidden": false
    },
    "nteract": {
     "transient": {
      "deleting": false
     }
    }
   },
   "outputs": [],
   "source": [
    "best_run.download_file('outputs/scoring_file_v_1_0_0.py', 'score.py')"
   ]
  },
  {
   "cell_type": "markdown",
   "metadata": {},
   "source": [
    "## Inference Config"
   ]
  },
  {
   "cell_type": "code",
   "execution_count": null,
   "metadata": {},
   "outputs": [],
   "source": [
    "inference_config = InferenceConfig(entry_script= 'score.py', environment=environment)"
   ]
  },
  {
   "cell_type": "markdown",
   "metadata": {},
   "source": [
    "## ACI config"
   ]
  },
  {
   "cell_type": "markdown",
   "metadata": {
    "collapsed": true,
    "gather": {
     "logged": 1598432765711
    },
    "jupyter": {
     "outputs_hidden": false,
     "source_hidden": false
    },
    "nteract": {
     "transient": {
      "deleting": false
     }
    }
   },
   "source": [
    "TODO: In the cell below, print the logs of the web service and delete the service"
   ]
  },
  {
   "cell_type": "code",
   "execution_count": null,
   "metadata": {},
   "outputs": [],
   "source": [
    "aci_config = AciWebservice.deploy_configuration(cpu_cores=1, memory_gb=1, auth_enabled=True, enable_app_insights=True)"
   ]
  },
  {
   "cell_type": "markdown",
   "metadata": {},
   "source": [
    "## Deploy the model"
   ]
  },
  {
   "cell_type": "code",
   "execution_count": null,
   "metadata": {},
   "outputs": [],
   "source": [
    "webservice = Model.deploy(workspace=ws, \n",
    "                        name='heart-failure-ws', \n",
    "                        models=[model], \n",
    "                        inference_config=inference_config,\n",
    "                        deployment_config=aci_config,\n",
    "                        overwrite=True)"
   ]
  },
  {
   "cell_type": "code",
   "execution_count": null,
   "metadata": {
    "jupyter": {
     "outputs_hidden": false,
     "source_hidden": false
    },
    "nteract": {
     "transient": {
      "deleting": false
     }
    }
   },
   "outputs": [],
   "source": [
    "webservice"
   ]
  },
  {
   "cell_type": "code",
   "execution_count": null,
   "metadata": {},
   "outputs": [],
   "source": [
    "# wait for deployment to finish and display the scoring uri and swagger uri\n",
    "webservice.wait_for_deployment(show_output=True)\n",
    "\n",
    "print(\"Status : {}\".format(webservice.state), \n",
    "      \"scoring_uri : {}\".format(webservice.scoring_uri), \n",
    "      \"swagger_uri : {}\".format(webservice.swagger_uri), sep = '\\n')"
   ]
  },
  {
   "cell_type": "markdown",
   "metadata": {},
   "source": [
    "## Consume"
   ]
  },
  {
   "cell_type": "code",
   "execution_count": null,
   "metadata": {},
   "outputs": [],
   "source": [
    "from pprint import pprint\n",
    "\n",
    "# select samples from the dataframe\n",
    "test_data = df.sample(5)\n",
    "test_label = test_data.pop('DEATH_EVENT')\n",
    "\n",
    "# convert the records to a json data file\n",
    "data_json = test_data.to_dict(orient='records')\n",
    "\n",
    "data = json.dumps({'data': data_json})\n",
    "pprint(data)"
   ]
  },
  {
   "cell_type": "markdown",
   "metadata": {},
   "source": [
    "## Get ineference"
   ]
  },
  {
   "cell_type": "code",
   "execution_count": null,
   "metadata": {},
   "outputs": [],
   "source": [
    "output = webservice.run(data)\n",
    "print(output)"
   ]
  },
  {
   "cell_type": "code",
   "execution_count": null,
   "metadata": {},
   "outputs": [],
   "source": [
    "\n",
    "webservice.get_logs()"
   ]
  },
  {
   "cell_type": "code",
   "execution_count": null,
   "metadata": {},
   "outputs": [],
   "source": [
    "# select samples from the dataframe\n",
    "test_data = df.sample(10)\n",
    "test_label = test_data.pop('DEATH_EVENT')\n",
    "\n",
    "# convert the records to a json data file\n",
    "data_json = test_data.to_dict(orient='records')\n",
    "\n",
    "data = json.dumps({'data': data_json})\n",
    "\n",
    "# get inference\n",
    "output = webservice.run(data)\n",
    "print(output)"
   ]
  },
  {
   "cell_type": "code",
   "execution_count": null,
   "metadata": {},
   "outputs": [],
   "source": [
    "webservice.get_logs()"
   ]
  },
  {
   "cell_type": "code",
   "execution_count": null,
   "metadata": {},
   "outputs": [],
   "source": [
    "webservice.delete()\n",
    "compute_target.delete()"
   ]
  },
  {
   "cell_type": "markdown",
   "metadata": {},
   "source": [
    "**Submission Checklist**\n",
    "- I have registered the model.\n",
    "- I have deployed the model with the best accuracy as a webservice.\n",
    "- I have tested the webservice by sending a request to the model endpoint.\n",
    "- I have deleted the webservice and shutdown all the computes that I have used.\n",
    "- I have taken a screenshot showing the model endpoint as active.\n",
    "- The project includes a file containing the environment details.\n"
   ]
  },
  {
   "cell_type": "markdown",
   "metadata": {},
   "source": []
  }
 ],
 "metadata": {
  "interpreter": {
   "hash": "104ae1d359c622aed8cb2d67b95680289a363d7ee14fe4c80ec12bbf4735312f"
  },
  "kernel_info": {
   "name": "python3-azureml"
  },
  "kernelspec": {
   "display_name": "Python 3",
   "language": "python",
   "name": "python3"
  },
  "language_info": {
   "codemirror_mode": {
    "name": "ipython",
    "version": 3
   },
   "file_extension": ".py",
   "mimetype": "text/x-python",
   "name": "python",
   "nbconvert_exporter": "python",
   "pygments_lexer": "ipython3",
   "version": "3.6.9"
  },
  "nteract": {
   "version": "nteract-front-end@1.0.0"
  }
 },
 "nbformat": 4,
 "nbformat_minor": 2
}
