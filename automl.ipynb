{
 "cells": [
  {
   "cell_type": "markdown",
   "metadata": {},
   "source": [
    "# Automated ML\n",
    "\n",
    "TODO: Import Dependencies. In the cell below, import all the dependencies that you will need to complete the project."
   ]
  },
  {
   "cell_type": "code",
   "execution_count": null,
   "metadata": {
    "gather": {
     "logged": 1598423888013
    },
    "jupyter": {
     "outputs_hidden": false,
     "source_hidden": false
    },
    "nteract": {
     "transient": {
      "deleting": false
     }
    }
   },
   "outputs": [],
   "source": [
    "import logging\r\n",
    "import os\r\n",
    "import csv\r\n",
    "\r\n",
    "from matplotlib import pyplot as plt\r\n",
    "import numpy as np\r\n",
    "import pandas as pd\r\n",
    "from sklearn import datasets\r\n",
    "import pkg_resources\r\n",
    "\r\n",
    "import azureml.core\r\n",
    "from azureml.core.experiment import Experiment\r\n",
    "from azureml.core.workspace import Workspace\r\n",
    "from azureml.train.automl import AutoMLConfig\r\n",
    "from azureml.core.dataset import Dataset\r\n",
    "\r\n",
    "from azureml.pipeline.steps import AutoMLStep\r\n",
    "\r\n",
    "# Check core SDK version number\r\n",
    "print(\"SDK version:\", azureml.core.VERSION)"
   ]
  },
  {
   "cell_type": "markdown",
   "metadata": {},
   "source": [
    "## Dataset\n",
    "\n",
    "### Overview\n",
    "TODO: In this markdown cell, give an overview of the dataset you are using. Also mention the task you will be performing.\n",
    "\n",
    "\n",
    "TODO: Get data. In the cell below, write code to access the data you will be using in this project. Remember that the dataset needs to be external."
   ]
  },
  {
   "cell_type": "code",
   "execution_count": null,
   "metadata": {
    "gather": {
     "logged": 1598423890461
    },
    "jupyter": {
     "outputs_hidden": false,
     "source_hidden": false
    },
    "nteract": {
     "transient": {
      "deleting": false
     }
    }
   },
   "outputs": [],
   "source": [
    "ws = Workspace.from_config()\r\n",
    "\r\n",
    "# choose a name for experiment\r\n",
    "experiment_name = 'hear_failure_prediction'\r\n",
    "\r\n",
    "experiment=Experiment(ws, experiment_name)\r\n",
    "experiment"
   ]
  },
  {
   "cell_type": "markdown",
   "metadata": {},
   "source": [
    "## AutoML Configuration\n",
    "\n",
    "TODO: Explain why you chose the automl settings and cofiguration you used below."
   ]
  },
  {
   "cell_type": "code",
   "execution_count": null,
   "metadata": {
    "gather": {
     "logged": 1598429217746
    },
    "jupyter": {
     "outputs_hidden": false,
     "source_hidden": false
    },
    "nteract": {
     "transient": {
      "deleting": false
     }
    }
   },
   "outputs": [],
   "source": [
    "# TODO: Put your automl settings here\r\n",
    "automl_settings = {\r\n",
    "    \"experiment_timeout_minutes\": 15,\r\n",
    "    \"iterations\": 40,\r\n",
    "    \"max_concurrent_iterations\": 4,\r\n",
    "    \"n_cross_validations\": 3,\r\n",
    "    \"primary_metric\" : 'accuracy'\r\n",
    "}\r\n",
    "\r\n",
    "\r\n",
    "# TODO: Put your automl config here\r\n",
    "automl_config = AutoMLConfig(compute_target=compute_target,\r\n",
    "                             task = \"classification\",\r\n",
    "                             training_data=dataset,\r\n",
    "                             label_column_name=\"DEATH_EVENT\",\r\n",
    "                             enable_early_stopping= True,\r\n",
    "                             debug_log = \"automl_errors.log\",\r\n",
    "                             **automl_settings\r\n",
    "                            )"
   ]
  },
  {
   "cell_type": "code",
   "execution_count": null,
   "metadata": {
    "gather": {
     "logged": 1598431107951
    },
    "jupyter": {
     "outputs_hidden": false,
     "source_hidden": false
    },
    "nteract": {
     "transient": {
      "deleting": false
     }
    }
   },
   "outputs": [],
   "source": [
    "# TODO: Submit your experiment\r\n",
    "remote_run = experiment.submit(automl_config, show_output = True)"
   ]
  },
  {
   "cell_type": "markdown",
   "metadata": {},
   "source": [
    "## Run Details\n",
    "\n",
    "OPTIONAL: Write about the different models trained and their performance. Why do you think some models did better than others?\n",
    "\n",
    "TODO: In the cell below, use the `RunDetails` widget to show the different experiments."
   ]
  },
  {
   "cell_type": "code",
   "execution_count": null,
   "metadata": {
    "gather": {
     "logged": 1598431121770
    },
    "jupyter": {
     "outputs_hidden": false,
     "source_hidden": false
    },
    "nteract": {
     "transient": {
      "deleting": false
     }
    }
   },
   "outputs": [],
   "source": [
    "RunDetails(remote_run).show()"
   ]
  },
  {
   "cell_type": "code",
   "execution_count": null,
   "metadata": {},
   "outputs": [],
   "source": [
    "remote_run.wait_for_completion(show_output=True)"
   ]
  },
  {
   "cell_type": "markdown",
   "metadata": {},
   "source": [
    "## Best Model\n",
    "\n",
    "TODO: In the cell below, get the best model from the automl experiments and display all the properties of the model.\n",
    "\n"
   ]
  },
  {
   "cell_type": "code",
   "execution_count": null,
   "metadata": {
    "gather": {
     "logged": 1598431425670
    },
    "jupyter": {
     "outputs_hidden": false,
     "source_hidden": false
    },
    "nteract": {
     "transient": {
      "deleting": false
     }
    }
   },
   "outputs": [],
   "source": [
    "best_metrics = best_run.get_metrics()\r\n",
    "\r\n",
    "print(\"Best Run Id : {}\".format(best_run.id), \r\n",
    "      \"Accuracy : {}\".format(best_metrics['accuracy']), \r\n",
    "      \"Best metrics : {}\".format(best_metrics), \r\n",
    "      \"Best model : {}\".format(fitted_model), sep = '\\n')"
   ]
  },
  {
   "cell_type": "code",
   "execution_count": null,
   "metadata": {},
   "outputs": [],
   "source": [
    "print(fitted_model._final_estimator)"
   ]
  },
  {
   "cell_type": "code",
   "execution_count": null,
   "metadata": {
    "gather": {
     "logged": 1598431426111
    },
    "jupyter": {
     "outputs_hidden": false,
     "source_hidden": false
    },
    "nteract": {
     "transient": {
      "deleting": false
     }
    }
   },
   "outputs": [],
   "source": [
    "#TODO: Save the best model\r\n",
    "model = best_run.register_model(model_name = \"heart-failure-predict-best-model-automl\", model_path = './outputs/model.pkl')\r\n",
    "print(model)"
   ]
  },
  {
   "cell_type": "code",
   "execution_count": null,
   "metadata": {},
   "outputs": [],
   "source": [
    "for model in Model.list(ws):\r\n",
    "    print(model.name, 'version:', model.version)"
   ]
  },
  {
   "cell_type": "markdown",
   "metadata": {},
   "source": [
    "## Model Deployment\n",
    "\n",
    "Remember you have to deploy only one of the two models you trained but you still need to register both the models. Perform the steps in the rest of this notebook only if you wish to deploy this model.\n",
    "\n",
    "TODO: In the cell below, register the model, create an inference config and deploy the model as a web service."
   ]
  },
  {
   "cell_type": "code",
   "execution_count": null,
   "metadata": {
    "gather": {
     "logged": 1598431435189
    },
    "jupyter": {
     "outputs_hidden": false,
     "source_hidden": false
    },
    "nteract": {
     "transient": {
      "deleting": false
     }
    }
   },
   "outputs": [],
   "source": [
    "#Save the best model for the deployement\r\n",
    "import os\r\n",
    "os.makedirs('./aml-model', exist_ok=True)\r\n",
    "\r\n",
    "best_run.download_file('/outputs/model.pkl',os.path.join('./aml-model','heart-failure-predict-best-model-automl.pkl'))\r\n",
    "\r\n",
    "for f in best_run.get_file_names():\r\n",
    "    if f.startswith('outputs'):\r\n",
    "        output_file_path = os.path.join('./aml-model', f.split('/')[-1])\r\n",
    "        print(f'Downloading from {f} to {output_file_path} ...')\r\n",
    "        best_run.download_file(name=f, output_file_path=output_file_path)"
   ]
  },
  {
   "cell_type": "code",
   "execution_count": null,
   "metadata": {},
   "outputs": [],
   "source": [
    "model=best_run.register_model(\r\n",
    "            model_name = 'heart-failure-best-model-automl', \r\n",
    "            model_path = './outputs/model.pkl'\r\n",
    ")"
   ]
  },
  {
   "cell_type": "markdown",
   "metadata": {},
   "source": [
    "## Set up the environment"
   ]
  },
  {
   "cell_type": "code",
   "execution_count": null,
   "metadata": {},
   "outputs": [],
   "source": [
    "best_run.download_file('outputs/conda_env_v_1_0_0.yml', 'conda_env.yml')\r\n",
    "environment = Environment.from_conda_specification(name = 'heart-failure-env', file_path = 'conda_env.yml')"
   ]
  },
  {
   "cell_type": "markdown",
   "metadata": {},
   "source": [
    "## Download the scoring file"
   ]
  },
  {
   "cell_type": "markdown",
   "metadata": {
    "collapsed": true,
    "gather": {
     "logged": 1598431657736
    },
    "jupyter": {
     "outputs_hidden": false,
     "source_hidden": false
    },
    "nteract": {
     "transient": {
      "deleting": false
     }
    }
   },
   "source": [
    "TODO: In the cell below, send a request to the web service you deployed to test it."
   ]
  },
  {
   "cell_type": "code",
   "execution_count": null,
   "metadata": {
    "gather": {
     "logged": 1598432707604
    },
    "jupyter": {
     "outputs_hidden": false,
     "source_hidden": false
    },
    "nteract": {
     "transient": {
      "deleting": false
     }
    }
   },
   "outputs": [],
   "source": [
    "best_run.download_file('outputs/scoring_file_v_1_0_0.py', 'score.py')"
   ]
  },
  {
   "cell_type": "markdown",
   "metadata": {},
   "source": [
    "## Inference Config"
   ]
  },
  {
   "cell_type": "code",
   "execution_count": null,
   "metadata": {},
   "outputs": [],
   "source": [
    "inference_config = InferenceConfig(entry_script= 'score.py', environment=environment)"
   ]
  },
  {
   "cell_type": "markdown",
   "metadata": {},
   "source": [
    "## ACI config"
   ]
  },
  {
   "cell_type": "markdown",
   "metadata": {
    "collapsed": true,
    "gather": {
     "logged": 1598432765711
    },
    "jupyter": {
     "outputs_hidden": false,
     "source_hidden": false
    },
    "nteract": {
     "transient": {
      "deleting": false
     }
    }
   },
   "source": [
    "TODO: In the cell below, print the logs of the web service and delete the service"
   ]
  },
  {
   "cell_type": "code",
   "execution_count": null,
   "metadata": {},
   "outputs": [],
   "source": [
    "aci_config = AciWebservice.deploy_configuration(cpu_cores=1, memory_gb=1, auth_enabled=True, enable_app_insights=True)"
   ]
  },
  {
   "cell_type": "markdown",
   "metadata": {},
   "source": [
    "## Deploy the model"
   ]
  },
  {
   "cell_type": "code",
   "execution_count": null,
   "metadata": {},
   "outputs": [],
   "source": [
    "webservice = Model.deploy(workspace=ws, \r\n",
    "                        name='heart-failure-ws', \r\n",
    "                        models=[model], \r\n",
    "                        inference_config=inference_config,\r\n",
    "                        deployment_config=aci_config,\r\n",
    "                        overwrite=True)"
   ]
  },
  {
   "cell_type": "code",
   "execution_count": null,
   "metadata": {
    "jupyter": {
     "outputs_hidden": false,
     "source_hidden": false
    },
    "nteract": {
     "transient": {
      "deleting": false
     }
    }
   },
   "outputs": [],
   "source": [
    "webservice"
   ]
  },
  {
   "cell_type": "code",
   "execution_count": null,
   "metadata": {},
   "outputs": [],
   "source": [
    "# wait for deployment to finish and display the scoring uri and swagger uri\r\n",
    "webservice.wait_for_deployment(show_output=True)\r\n",
    "\r\n",
    "print(\"Status : {}\".format(webservice.state), \r\n",
    "      \"scoring_uri : {}\".format(webservice.scoring_uri), \r\n",
    "      \"swagger_uri : {}\".format(webservice.swagger_uri), sep = '\\n')"
   ]
  },
  {
   "cell_type": "markdown",
   "metadata": {},
   "source": [
    "## Consume"
   ]
  },
  {
   "cell_type": "code",
   "execution_count": null,
   "metadata": {},
   "outputs": [],
   "source": [
    "from pprint import pprint\r\n",
    "\r\n",
    "# select samples from the dataframe\r\n",
    "test_data = df.sample(5)\r\n",
    "test_label = test_data.pop('DEATH_EVENT')\r\n",
    "\r\n",
    "# convert the records to a json data file\r\n",
    "data_json = test_data.to_dict(orient='records')\r\n",
    "\r\n",
    "data = json.dumps({'data': data_json})\r\n",
    "pprint(data)"
   ]
  },
  {
   "cell_type": "markdown",
   "metadata": {},
   "source": [
    "## Get ineference"
   ]
  },
  {
   "cell_type": "code",
   "execution_count": null,
   "metadata": {},
   "outputs": [],
   "source": [
    "output = webservice.run(data)\r\n",
    "print(output)"
   ]
  },
  {
   "cell_type": "code",
   "execution_count": null,
   "metadata": {},
   "outputs": [],
   "source": [
    "\r\n",
    "webservice.get_logs()"
   ]
  },
  {
   "cell_type": "code",
   "execution_count": null,
   "metadata": {},
   "outputs": [],
   "source": [
    "# select samples from the dataframe\r\n",
    "test_data = df.sample(10)\r\n",
    "test_label = test_data.pop('DEATH_EVENT')\r\n",
    "\r\n",
    "# convert the records to a json data file\r\n",
    "data_json = test_data.to_dict(orient='records')\r\n",
    "\r\n",
    "data = json.dumps({'data': data_json})\r\n",
    "\r\n",
    "# get inference\r\n",
    "output = webservice.run(data)\r\n",
    "print(output)"
   ]
  },
  {
   "cell_type": "code",
   "execution_count": null,
   "metadata": {},
   "outputs": [],
   "source": [
    "webservice.get_logs()"
   ]
  },
  {
   "cell_type": "code",
   "execution_count": null,
   "metadata": {},
   "outputs": [],
   "source": [
    "webservice.delete()\r\n",
    "compute_target.delete()"
   ]
  },
  {
   "cell_type": "markdown",
   "metadata": {},
   "source": [
    "**Submission Checklist**\n",
    "- I have registered the model.\n",
    "- I have deployed the model with the best accuracy as a webservice.\n",
    "- I have tested the webservice by sending a request to the model endpoint.\n",
    "- I have deleted the webservice and shutdown all the computes that I have used.\n",
    "- I have taken a screenshot showing the model endpoint as active.\n",
    "- The project includes a file containing the environment details.\n"
   ]
  },
  {
   "cell_type": "markdown",
   "metadata": {},
   "source": []
  }
 ],
 "metadata": {
  "interpreter": {
   "hash": "104ae1d359c622aed8cb2d67b95680289a363d7ee14fe4c80ec12bbf4735312f"
  },
  "kernel_info": {
   "name": "python3-azureml"
  },
  "kernelspec": {
   "display_name": "Python 3.7.4 64-bit ('base': conda)",
   "name": "python3"
  },
  "language_info": {
   "name": "python",
   "version": ""
  },
  "nteract": {
   "version": "nteract-front-end@1.0.0"
  }
 },
 "nbformat": 4,
 "nbformat_minor": 2
}